{
 "cells": [
  {
   "cell_type": "markdown",
   "metadata": {},
   "source": [
    "## 1.1 IMPORT LIBRARIES"
   ]
  },
  {
   "cell_type": "code",
   "execution_count": 12,
   "metadata": {
    "collapsed": false
   },
   "outputs": [],
   "source": [
    "import pandas as pd\n",
    "import csv\n",
    "import sys\n",
    "import numpy as np\n",
    "import psycopg2\n",
    "from sqlalchemy import create_engine\n",
    "from sqlalchemy_utils import database_exists\n",
    "import matplotlib.pyplot as plt\n",
    "maxInt = sys.maxsize\n",
    "decrement = True\n",
    "while decrement:\n",
    "    # decrease the maxInt value by factor 10 \n",
    "    # as long as the OverflowError occurs.\n",
    "    decrement = False\n",
    "    try:\n",
    "        csv.field_size_limit(maxInt)\n",
    "    except OverflowError:\n",
    "        maxInt = int(maxInt/10)\n",
    "        decrement = True\n"
   ]
  },
  {
   "cell_type": "markdown",
   "metadata": {},
   "source": [
    "### 1.2 read the DB"
   ]
  },
  {
   "cell_type": "code",
   "execution_count": 5,
   "metadata": {
    "collapsed": false
   },
   "outputs": [],
   "source": [
    " # Connect to the DB first\n",
    "dbname = 'gdelt_db'\n",
    "username = 'martin'\n",
    "my_password='po$t'\n",
    "engine = create_engine('postgresql://%s:%s@localhost/%s'%(username,my_password,dbname))\n",
    "\n",
    "columns = ['edate','numarts', 'count', 'number','otype', 'gtype', 'gname', 'geocc', 'geoamdcode','geolat','geolon']\n",
    "df = pd.DataFrame(columns=columns)"
   ]
  },
  {
   "cell_type": "code",
   "execution_count": 7,
   "metadata": {
    "collapsed": false
   },
   "outputs": [
    {
     "data": {
      "text/html": [
       "<div>\n",
       "<table border=\"1\" class=\"dataframe\">\n",
       "  <thead>\n",
       "    <tr style=\"text-align: right;\">\n",
       "      <th></th>\n",
       "      <th>gname</th>\n",
       "    </tr>\n",
       "  </thead>\n",
       "  <tbody>\n",
       "    <tr>\n",
       "      <th>0</th>\n",
       "      <td>Redding, Connecticut, United States</td>\n",
       "    </tr>\n",
       "    <tr>\n",
       "      <th>1</th>\n",
       "      <td>East Hartford, Connecticut, United States</td>\n",
       "    </tr>\n",
       "    <tr>\n",
       "      <th>2</th>\n",
       "      <td>Scaddan, Western Australia, Australia</td>\n",
       "    </tr>\n",
       "    <tr>\n",
       "      <th>3</th>\n",
       "      <td>Ramadi, Al Anbar, Iraq</td>\n",
       "    </tr>\n",
       "    <tr>\n",
       "      <th>4</th>\n",
       "      <td>Gundaroo, New South Wales, Australia</td>\n",
       "    </tr>\n",
       "    <tr>\n",
       "      <th>5</th>\n",
       "      <td>Sailan, Uttaranchal, India</td>\n",
       "    </tr>\n",
       "    <tr>\n",
       "      <th>6</th>\n",
       "      <td>Bintulu, Sarawak, Malaysia</td>\n",
       "    </tr>\n",
       "    <tr>\n",
       "      <th>7</th>\n",
       "      <td>Grand Rapids, Michigan, United States</td>\n",
       "    </tr>\n",
       "    <tr>\n",
       "      <th>8</th>\n",
       "      <td>Nuristan, Nurestan, Afghanistan</td>\n",
       "    </tr>\n",
       "    <tr>\n",
       "      <th>9</th>\n",
       "      <td>Samalil, ?Ims, Syria</td>\n",
       "    </tr>\n",
       "  </tbody>\n",
       "</table>\n",
       "</div>"
      ],
      "text/plain": [
       "                                       gname\n",
       "0        Redding, Connecticut, United States\n",
       "1  East Hartford, Connecticut, United States\n",
       "2      Scaddan, Western Australia, Australia\n",
       "3                     Ramadi, Al Anbar, Iraq\n",
       "4       Gundaroo, New South Wales, Australia\n",
       "5                 Sailan, Uttaranchal, India\n",
       "6                 Bintulu, Sarawak, Malaysia\n",
       "7      Grand Rapids, Michigan, United States\n",
       "8            Nuristan, Nurestan, Afghanistan\n",
       "9                       Samalil, ?Ims, Syria"
      ]
     },
     "execution_count": 7,
     "metadata": {},
     "output_type": "execute_result"
    }
   ],
   "source": [
    " \n",
    "try:\n",
    "    db_con = None\n",
    "    db_con = psycopg2.connect(database=dbname, user=username, password=my_password)\n",
    "    #cursor = db_con.cursor()\n",
    "    #cursor.execute(\"SELECT * FROM gdelt;\")\n",
    "    #print(cursor.fetchone())\n",
    "    #data = cursor.fetchall()\n",
    "    # let's import the ones from Mx only\n",
    "    #df = pd.read_sql_query(\"SELECT edate,numarts,count,otype,gname,geocc,geolat,geolon FROM gdelt where number<'90' and gtype>'3';\", engine)\n",
    "    query = \"SELECT DISTINCT gname FROM gdelt;\"\n",
    "    df = pd.read_sql_query(query, engine)\n",
    "    \n",
    "    #df = pd.read_sql_query(\"SELECT * FROM gdelt;\", engine)   \n",
    "except psycopg2.DatabaseError as e: \n",
    "    print ('Error %s' % e)\n",
    "    sys.exit(1)\n",
    "finally:\n",
    "    if db_con:\n",
    "        db_con.close()\n",
    "df.head(10)"
   ]
  },
  {
   "cell_type": "code",
   "execution_count": 8,
   "metadata": {
    "collapsed": false
   },
   "outputs": [
    {
     "data": {
      "text/plain": [
       "11198"
      ]
     },
     "execution_count": 8,
     "metadata": {},
     "output_type": "execute_result"
    }
   ],
   "source": [
    "len(df)\n"
   ]
  },
  {
   "cell_type": "code",
   "execution_count": 10,
   "metadata": {
    "collapsed": false
   },
   "outputs": [],
   "source": [
    "file_name = \"/Users/martin/Dropbox/a_Insight/a_Project/a_python/e_extra/a_ipython/cities.txt\"\n",
    "df.to_csv(file_name, sep='\\t', encoding='utf-8')\n",
    "\n",
    "\n"
   ]
  }
 ],
 "metadata": {
  "kernelspec": {
   "display_name": "Python 2",
   "language": "python",
   "name": "python2"
  },
  "language_info": {
   "codemirror_mode": {
    "name": "ipython",
    "version": 2
   },
   "file_extension": ".py",
   "mimetype": "text/x-python",
   "name": "python",
   "nbconvert_exporter": "python",
   "pygments_lexer": "ipython2",
   "version": "2.7.11"
  }
 },
 "nbformat": 4,
 "nbformat_minor": 0
}
