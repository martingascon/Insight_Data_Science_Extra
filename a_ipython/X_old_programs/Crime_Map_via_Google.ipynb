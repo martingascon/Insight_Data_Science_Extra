{
 "cells": [
  {
   "cell_type": "code",
   "execution_count": 1,
   "metadata": {
    "collapsed": true
   },
   "outputs": [],
   "source": [
    "import webbrowser\n",
    "import time\n",
    "import os\n",
    "import shutil\n",
    "import copy\n",
    "import re\n",
    "import csv\n",
    "import pandas as pd"
   ]
  },
  {
   "cell_type": "code",
   "execution_count": 2,
   "metadata": {
    "collapsed": true
   },
   "outputs": [],
   "source": [
    "keyword = \"Iguala+violiencia+muertos\"\n",
    "\n",
    "path = '/Users/martin/Downloads'\n",
    "\n",
    "scrapings_dir = 'gt_{0}'.format(keyword)\n",
    "if not os.path.exists(path+\"/\"+scrapings_dir):\n",
    "    os.makedirs(path+\"/\"+scrapings_dir)"
   ]
  },
  {
   "cell_type": "code",
   "execution_count": 3,
   "metadata": {
    "collapsed": true
   },
   "outputs": [],
   "source": [
    "def ScrapeTwoMonths(keyword, year, startmonth):\n",
    "    print 'Scraping month'+str(startmonth)+' in '+str(year)\n",
    "    URL_start = \"http://www.google.com/trends/trendsReport?&q=\"\n",
    "    URL_end = \"&cmpt=q&content=1&export=1\"\n",
    "    queries = keyword[0]\n",
    "    if len(keyword) > 1:\n",
    "        queries_list = []\n",
    "        for i in range(0,len(keyword)):\n",
    "            queries_list.append(keyword[i])\n",
    "        queries = '%20'.join(queries_list)  \n",
    "    date = '&date='+str(startmonth)+'%2F'+str(year)+'%202m'\n",
    "    URL = URL_start+queries+date+URL_end\n",
    "    webbrowser.open(URL)    \n",
    "\n",
    "\n",
    "def ScrapeRange(keyword, startmonth, startyear, endmonth, endyear):   \n",
    "    for i in range(startmonth,11,2):\n",
    "        ScrapeTwoMonths(keyword,startyear,i)\n",
    "        time.sleep(7)\n",
    "    for y in range(startyear + 1, endyear):\n",
    "        for i in range(1,11,2):\n",
    "            ScrapeTwoMonths(keyword,y,i)\n",
    "            time.sleep(7)\n",
    "    for i in range(1,endmonth,2):\n",
    "        ScrapeTwoMonths(keyword,endyear,i)\n",
    "        time.sleep(7)\n",
    "    files = copy.deepcopy(os.listdir(path))    \n",
    "    for i in range(0,len(files)):\n",
    "        if files[i].lower().endswith('.csv'):\n",
    "            try:\n",
    "                if files[i][-5] == \")\":\n",
    "                    oldname = path+'/'+files[i]\n",
    "                    newname = path+'/report'+files[i][-6]+'.csv'\n",
    "                    os.rename(oldname,newname)\n",
    "            except OSError:\n",
    "                pass\n",
    "\n",
    "    quarterly_files = [fn for fn in os.listdir(path) if fn.lower().startswith('report')]                  \n",
    "    for file in quarterly_files:\n",
    "        shutil.move(path+\"/\"+file,path+'/'+scrapings_dir)\n",
    "    full_path = path+'/'+scrapings_dir    \n",
    "    newfiles = copy.deepcopy(os.listdir(full_path))\n",
    "    for i in range(0,len(newfiles)):\n",
    "        oldname = full_path+'/'+newfiles[i]\n",
    "        if os.path.getsize(oldname) < 800:\n",
    "            print 'File '+oldname+' is unusually small...'\n",
    "        newname = full_path+'/'+str(os.path.getmtime(full_path+'/'+newfiles[i]))[:-2]+\".csv\"\n",
    "        os.rename(oldname, newname) \n",
    "    \n",
    "    \n",
    "def CreateDailyFrame():\n",
    "    files = copy.deepcopy(os.listdir(path+'/'+scrapings_dir))[:-1]\n",
    "    print files\n",
    "    date_pattern = re.compile('\\d\\d\\d\\d-\\d\\d-\\d\\d')\n",
    "    for i in range(0,len(files)):\n",
    "        if files[i].lower().endswith('.csv'):\n",
    "            oldname = path+'/'+scrapings_dir+'/'+files[i]\n",
    "            newname = path+'/'+scrapings_dir+'/'+'bimonthly'+str(i)+'.csv'\n",
    "            temp_file = csv.reader(open(oldname,'ru'))\n",
    "            with open(newname,'wb') as write_to:\n",
    "                write_data = csv.writer(write_to, delimiter=',')\n",
    "                for row in temp_file:\n",
    "                    if len(row)==2:\n",
    "                        if re.search(date_pattern,row[0]) is not None:\n",
    "                            write_data.writerows([row])\n",
    "            os.remove(oldname)\n",
    "    files = [fn for fn in copy.deepcopy(os.listdir(path+'/'+scrapings_dir))[:-1] if fn.lower().startswith('bimonthly')]\n",
    "    frames_list = []\n",
    "    for file in files:\n",
    "        df = pd.read_csv(path+'/'+scrapings_dir+'/'+file,index_col=None,header=None)\n",
    "        list.append(df)\n",
    "    frame = pd.concat(list,ignore_index=True)\n",
    "    return frame    \n",
    "    \n",
    "    \n",
    "def CreateWeeklyFrame():\n",
    "        date_pattern = re.compile('\\d\\d\\d\\d-\\d\\d-\\d\\d\\s-\\s\\d\\d\\d\\d-\\d\\d-\\d\\d')\n",
    "        oldname = path+'/'+scrapings_dir+'/'+'weekly_data.csv'\n",
    "        newname = path+'/'+scrapings_dir+'/'+'weekly.csv'\n",
    "        temp_file = csv.reader(open(oldname,'ru'))\n",
    "        with open(newname,'wb') as write_to:\n",
    "            write_data = csv.writer(write_to, delimiter=',')\n",
    "            for row in temp_file:\n",
    "                if len(row) == 2:\n",
    "                    if re.search(date_pattern,row[0]) is not None:\n",
    "                        write_data.writerows([row])\n",
    "        os.remove(oldname)\n",
    "        frame = pd.read_csv(newname,index_col=None,header=None)\n",
    "        return frame\n",
    "    \n",
    "def StitchFrames():\n",
    "    daily_frame = CreateDailyFrame()\n",
    "    interim_weekly_frame = CreateWeeklyFrame()\n",
    "    daily_frame.columns = ['Date', 'Daily_Volume']\n",
    "    pd.to_datetime(daily_frame['Date'])\n",
    "    interim_weekly_frame.columns = ['Date_Range', 'Weekly_Volume']\n",
    "    date_pattern = re.compile('\\d\\d\\d\\d-\\d\\d-\\d\\d')\n",
    "    startdates = []\n",
    "    enddates = []\n",
    "    for i in range(0,len(interim_weekly_frame['Date_Range'])):\n",
    "        startdates.append(re.findall(date_pattern,interim_weekly_frame['Date_Range'][i])[0])\n",
    "        enddates.append(re.findall(date_pattern,interim_weekly_frame['Date_Range'][i])[1])\n",
    "    weekly_frame = pd.DataFrame(data=[startdates,enddates,interim_weekly_frame['Weekly_Volume'].tolist()]).transpose()\n",
    "    weekly_frame.columns = ['Start_Date', 'End_Date', 'Weekly_Volume']\n",
    "    pd.to_datetime(weekly_frame['Start_Date'])\n",
    "    pd.to_datetime(weekly_frame['End_Date'])   \n",
    "    "
   ]
  },
  {
   "cell_type": "code",
   "execution_count": 5,
   "metadata": {
    "collapsed": false
   },
   "outputs": [
    {
     "ename": "NameError",
     "evalue": "name 'weekly_frame' is not defined",
     "output_type": "error",
     "traceback": [
      "\u001b[0;31m---------------------------------------------------------------------------\u001b[0m",
      "\u001b[0;31mNameError\u001b[0m                                 Traceback (most recent call last)",
      "\u001b[0;32m<ipython-input-5-26c735880327>\u001b[0m in \u001b[0;36m<module>\u001b[0;34m()\u001b[0m\n\u001b[1;32m      1\u001b[0m \u001b[0mbins\u001b[0m \u001b[0;34m=\u001b[0m \u001b[0;34m[\u001b[0m\u001b[0;34m]\u001b[0m\u001b[0;34m\u001b[0m\u001b[0m\n\u001b[1;32m      2\u001b[0m \u001b[0;34m\u001b[0m\u001b[0m\n\u001b[0;32m----> 3\u001b[0;31m \u001b[0;32mfor\u001b[0m \u001b[0mi\u001b[0m \u001b[0;32min\u001b[0m \u001b[0mrange\u001b[0m\u001b[0;34m(\u001b[0m\u001b[0;36m0\u001b[0m\u001b[0;34m,\u001b[0m\u001b[0mlen\u001b[0m\u001b[0;34m(\u001b[0m\u001b[0mweekly_frame\u001b[0m\u001b[0;34m)\u001b[0m\u001b[0;34m)\u001b[0m\u001b[0;34m:\u001b[0m\u001b[0;34m\u001b[0m\u001b[0m\n\u001b[0m\u001b[1;32m      4\u001b[0m     \u001b[0mbins\u001b[0m\u001b[0;34m.\u001b[0m\u001b[0mappend\u001b[0m\u001b[0;34m(\u001b[0m\u001b[0mpd\u001b[0m\u001b[0;34m.\u001b[0m\u001b[0mdate_range\u001b[0m\u001b[0;34m(\u001b[0m\u001b[0mweekly_frame\u001b[0m\u001b[0;34m[\u001b[0m\u001b[0;34m'Start_Date'\u001b[0m\u001b[0;34m]\u001b[0m\u001b[0;34m[\u001b[0m\u001b[0mi\u001b[0m\u001b[0;34m]\u001b[0m\u001b[0;34m,\u001b[0m\u001b[0mperiods\u001b[0m\u001b[0;34m=\u001b[0m\u001b[0;36m7\u001b[0m\u001b[0;34m,\u001b[0m\u001b[0mfreq\u001b[0m\u001b[0;34m=\u001b[0m\u001b[0;34m'd'\u001b[0m\u001b[0;34m)\u001b[0m\u001b[0;34m)\u001b[0m\u001b[0;34m\u001b[0m\u001b[0m\n",
      "\u001b[0;31mNameError\u001b[0m: name 'weekly_frame' is not defined"
     ]
    }
   ],
   "source": [
    "bins = []\n",
    "\n",
    "for i in range(0,len(weekly_frame)):\n",
    "    bins.append(pd.date_range(weekly_frame['Start_Date'][i],periods=7,freq='d'))"
   ]
  },
  {
   "cell_type": "code",
   "execution_count": 4,
   "metadata": {
    "collapsed": false
   },
   "outputs": [
    {
     "ename": "NameError",
     "evalue": "name 'weekly_frame' is not defined",
     "output_type": "error",
     "traceback": [
      "\u001b[0;31m---------------------------------------------------------------------------\u001b[0m",
      "\u001b[0;31mNameError\u001b[0m                                 Traceback (most recent call last)",
      "\u001b[0;32m<ipython-input-4-96a86b0d28a1>\u001b[0m in \u001b[0;36m<module>\u001b[0;34m()\u001b[0m\n\u001b[1;32m      1\u001b[0m \u001b[0mbins\u001b[0m \u001b[0;34m=\u001b[0m \u001b[0;34m[\u001b[0m\u001b[0;34m]\u001b[0m\u001b[0;34m\u001b[0m\u001b[0m\n\u001b[1;32m      2\u001b[0m \u001b[0;34m\u001b[0m\u001b[0m\n\u001b[0;32m----> 3\u001b[0;31m \u001b[0;32mfor\u001b[0m \u001b[0mi\u001b[0m \u001b[0;32min\u001b[0m \u001b[0mrange\u001b[0m\u001b[0;34m(\u001b[0m\u001b[0;36m0\u001b[0m\u001b[0;34m,\u001b[0m\u001b[0mlen\u001b[0m\u001b[0;34m(\u001b[0m\u001b[0mweekly_frame\u001b[0m\u001b[0;34m)\u001b[0m\u001b[0;34m)\u001b[0m\u001b[0;34m:\u001b[0m\u001b[0;34m\u001b[0m\u001b[0m\n\u001b[0m\u001b[1;32m      4\u001b[0m     \u001b[0mbins\u001b[0m\u001b[0;34m.\u001b[0m\u001b[0mappend\u001b[0m\u001b[0;34m(\u001b[0m\u001b[0mpd\u001b[0m\u001b[0;34m.\u001b[0m\u001b[0mdate_range\u001b[0m\u001b[0;34m(\u001b[0m\u001b[0mweekly_frame\u001b[0m\u001b[0;34m[\u001b[0m\u001b[0;34m'Start_Date'\u001b[0m\u001b[0;34m]\u001b[0m\u001b[0;34m[\u001b[0m\u001b[0mi\u001b[0m\u001b[0;34m]\u001b[0m\u001b[0;34m,\u001b[0m\u001b[0mperiods\u001b[0m\u001b[0;34m=\u001b[0m\u001b[0;36m7\u001b[0m\u001b[0;34m,\u001b[0m\u001b[0mfreq\u001b[0m\u001b[0;34m=\u001b[0m\u001b[0;34m'd'\u001b[0m\u001b[0;34m)\u001b[0m\u001b[0;34m)\u001b[0m\u001b[0;34m\u001b[0m\u001b[0m\n\u001b[1;32m      5\u001b[0m \u001b[0;34m\u001b[0m\u001b[0m\n",
      "\u001b[0;31mNameError\u001b[0m: name 'weekly_frame' is not defined"
     ]
    }
   ],
   "source": [
    "weekly_frame = weekly_frame.set_index('Start_Date')\n",
    "daily_frame = daily_frame.set_index('Date')\n",
    "final_data = {}\n",
    "\n",
    "for i in range(0,len(bins)):\n",
    "    for j in range(0,len(bins[i])):\n",
    "        final_data[bins[i][j]] = weekly_frame['Weekly_Volume'][str(bins[i][0].date())]*daily_frame['Daily_Volume'][str(bins[i][j].date())]/daily_frame['Daily_Volume'][str(bins[i][0].date())]\n",
    "        \n",
    "final_data_frame = DataFrame.from_dict(final_data,orient='index').sort()\n",
    "    final_data_frame[0] = np.round(final_data_frame[0]/final_data_frame[0].max()*100)\n",
    "\n",
    "    final_data_frame.columns=['Volume']\n",
    "    final_data_frame.index.names = ['Date']\n",
    "\n",
    "    final_name = path+'/'+scrapings_dir+'/'+'final_output.csv'\n",
    "\n",
    "    final_data_frame.to_csv(final_name, sep=',')"
   ]
  },
  {
   "cell_type": "code",
   "execution_count": null,
   "metadata": {
    "collapsed": true
   },
   "outputs": [],
   "source": []
  },
  {
   "cell_type": "code",
   "execution_count": null,
   "metadata": {
    "collapsed": true
   },
   "outputs": [],
   "source": []
  },
  {
   "cell_type": "code",
   "execution_count": null,
   "metadata": {
    "collapsed": true
   },
   "outputs": [],
   "source": []
  },
  {
   "cell_type": "code",
   "execution_count": null,
   "metadata": {
    "collapsed": true
   },
   "outputs": [],
   "source": []
  },
  {
   "cell_type": "code",
   "execution_count": null,
   "metadata": {
    "collapsed": true
   },
   "outputs": [],
   "source": []
  },
  {
   "cell_type": "code",
   "execution_count": 24,
   "metadata": {
    "collapsed": false
   },
   "outputs": [
    {
     "name": "stdout",
     "output_type": "stream",
     "text": [
      "150\n",
      "Total 420 links to extract\n"
     ]
    }
   ],
   "source": [
    "def get_links(terms,category):\n",
    "    category_articles = []\n",
    "    article_count = int(category_total/len(terms))\n",
    "    for term in terms:\n",
    "        category_articles.extend(ex.google_news_search(term,category,article_count))\n",
    "    return category_articles\n",
    "\n",
    "# Policy Articles\n",
    "#violence_terms = ['Iguala','Deaths','killed','violence','crime']\n",
    "violence_terms = ['San Francisco','Deaths','killed','violence','crime']\n",
    "\n",
    "violence = get_links(violence_terms,'Violence')\n",
    "print len(violence)\n",
    "article_links.extend(violence)\n",
    "\n",
    "\n",
    "# Extract Content & Create Corpus\n",
    "print \"Total %d links to extract\" % len(article_links)"
   ]
  },
  {
   "cell_type": "code",
   "execution_count": 25,
   "metadata": {
    "collapsed": false
   },
   "outputs": [
    {
     "name": "stdout",
     "output_type": "stream",
     "text": [
      "Extracting  content from links...\n",
      "Saving article Mom's lawyer: Murder charges in babies' deaths 'speculation'...\n",
      "Record already inserted with title Mom's lawyer: Murder charges in babies' deaths 'speculation' \n",
      "Saving article Mass. opioid overdose deaths up 228 percent, new state report says...\n",
      "Saving article Everything you know about celebrity deaths is wrong...\n",
      "Record already inserted with title Everything you know about celebrity deaths is wrong \n",
      "Saving article Man Charged With Murder in Shooting Deaths of Ex-Girlfriend, Her New Boyfriend in Winnetka...\n",
      "Record already inserted with title Man Charged With Murder in Shooting Deaths of Ex-Girlfriend, Her New Boyfriend in Winnetka \n",
      "Saving article Eating healthy fats may reduce death from heart disease...\n",
      "Record already inserted with title Eating healthy fats may reduce death from heart disease \n",
      "Saving article Diane Staudte pleads guilty for antifreeze deaths of husband, son...\n",
      "Record already inserted with title Diane Staudte pleads guilty for antifreeze deaths of husband, son \n",
      "Saving article Celine Dion Resurfaces Following Husband's, Brother’s Deaths...\n",
      "Record already inserted with title Celine Dion Resurfaces Following Husband's, Brother’s Deaths \n",
      "Saving article USGS Research Finds Human Activity Leading Reported Cause Of Bat Deaths...\n",
      "Record already inserted with title USGS Research Finds Human Activity Leading Reported Cause Of Bat Deaths \n",
      "Saving article Pedestrian deaths on the rise in D.C. region...\n",
      "Record already inserted with title Pedestrian deaths on the rise in D.C. region \n",
      "Saving article Two panther deaths reported this year...\n",
      "Record already inserted with title Two panther deaths reported this year \n",
      "Saving article DuPage coroner: Heroin deaths rise, but it could have been worse...\n",
      "Record already inserted with title DuPage coroner: Heroin deaths rise, but it could have been worse \n",
      "Saving article Watch your favorite Star Wars characters die adorable 8-bit deaths...\n",
      "Record already inserted with title Watch your favorite Star Wars characters die adorable 8-bit deaths \n",
      "Saving article In Many Nursing Homes, Resident Deaths Are Kept Secret...\n",
      "Record already inserted with title In Many Nursing Homes, Resident Deaths Are Kept Secret \n",
      "Saving article No homicide charges in Amish crash deaths...\n",
      "Record already inserted with title No homicide charges in Amish crash deaths \n",
      "Saving article Unequal Lives, Unequal Deaths - NYTimes.com...\n",
      "Record already inserted with title Unequal Lives, Unequal Deaths - NYTimes.com \n",
      "Saving article State revises Legionnaires’ Flint deaths down to 9...\n",
      "Record already inserted with title State revises Legionnaires’ Flint deaths down to 9 \n",
      "Saving article AAA Releases Timely Study on Weather-Related Traffic Deaths...\n",
      "Saving article Could There Be Even More Major Deaths In Captain America: Civil War?...\n",
      "Record already inserted with title Could There Be Even More Major Deaths In Captain America: Civil War? \n",
      "Saving article Community mourns deaths of 2 sisters in house fire...\n",
      "Record already inserted with title Community mourns deaths of 2 sisters in house fire \n",
      "Saving article The 20 most shocking TV deaths EVER...\n",
      "Record already inserted with title The 20 most shocking TV deaths EVER \n",
      "Saving article Why Celebrity Deaths Spawn Hoaxes...\n",
      "Record already inserted with title Why Celebrity Deaths Spawn Hoaxes \n",
      "Saving article Multiple deaths at Bay Area beaches are warning of big waves dangers...\n",
      "Record already inserted with title Multiple deaths at Bay Area beaches are warning of big waves dangers \n",
      "Saving article Kyle Navin pleads not guilty to murder in parents' deaths - .com...\n",
      "Record already inserted with title Kyle Navin pleads not guilty to murder in parents' deaths - .com \n",
      "Saving article News Q’s | How the Epidemic of Drug Overdose Deaths Ripples Across America - NYTimes.com...\n",
      "Record already inserted with title News Q’s | How the Epidemic of Drug Overdose Deaths Ripples Across America - NYTimes.com \n",
      "Saving article ASU student-body president mourns 4 deaths tied to campus...\n",
      "Record already inserted with title ASU student-body president mourns 4 deaths tied to campus \n",
      "Saving article BREAKING: Police Officer Who Killed Unarmed, Naked Veteran Will Be Charged With Murder...\n",
      "Record already inserted with title BREAKING: Police Officer Who Killed Unarmed, Naked Veteran Will Be Charged With Murder \n",
      "Saving article Men killed in wrong-way crash identified...\n",
      "Record already inserted with title Men killed in wrong-way crash identified \n",
      "Saving article Georgia Lottery winner killed during home invasion...\n",
      "Record already inserted with title Georgia Lottery winner killed during home invasion \n",
      "Saving article Alexander Litvinenko Was Killed ‘for Calling Putin a Pedophile’...\n",
      "Saving article Bank president, suspect killed in robbery, chase in Eufaula...\n",
      "Record already inserted with title Bank president, suspect killed in robbery, chase in Eufaula \n",
      "Saving article Motorist killed when train strikes SUV in Arlington Heights...\n",
      "Record already inserted with title Motorist killed when train strikes SUV in Arlington Heights \n",
      "Saving article Investigators probe cause of Greyhound bus crash that killed 2...\n",
      "Record already inserted with title Investigators probe cause of Greyhound bus crash that killed 2 \n",
      "Saving article Tycoon Jailed After Killing His Guard for Being 'Too Slow'...\n",
      "Record already inserted with title Tycoon Jailed After Killing His Guard for Being 'Too Slow' \n",
      "Saving article Mother says son killed friend after worshiping the devil...\n",
      "Record already inserted with title Mother says son killed friend after worshiping the devil \n",
      "Saving article How Putin 'probably' had ex-KGB spy killed with tea and honey...\n",
      "Record already inserted with title How Putin 'probably' had ex-KGB spy killed with tea and honey \n",
      "Saving article Six killed in Egypt bomb attack near Giza pyramids...\n",
      "Record already inserted with title Six killed in Egypt bomb attack near Giza pyramids \n",
      "Saving article Curt's Cafe members mourn student killed in Evanston shooting...\n",
      "Record already inserted with title Curt's Cafe members mourn student killed in Evanston shooting \n",
      "Saving article 'It's like selling kids bombs': Dad blames hoverboard for fire that killed 2 dogs...\n",
      "Record already inserted with title 'It's like selling kids bombs': Dad blames hoverboard for fire that killed 2 dogs \n",
      "Saving article Why Can't We Find Aliens? Climate Change Killed Them...\n",
      "Record already inserted with title Why Can't We Find Aliens? Climate Change Killed Them \n",
      "Saving article Doctors deliver baby after pregnant mother is killed in a car crash...\n",
      "Record already inserted with title Doctors deliver baby after pregnant mother is killed in a car crash \n",
      "Saving article MSF paramedic, civilian first responders killed in Saudi double-tap airstrike in Yemen (GRAPHIC)...\n",
      "Record already inserted with title MSF paramedic, civilian first responders killed in Saudi double-tap airstrike in Yemen (GRAPHIC) \n",
      "Saving article CNY woman killed by drunk driver after leaving NFL game, police say...\n",
      "Record already inserted with title CNY woman killed by drunk driver after leaving NFL game, police say \n",
      "Saving article The Missionary Killed by Islamist Terror...\n",
      "Record already inserted with title The Missionary Killed by Islamist Terror \n",
      "Saving article Prisoner killed in Route 55 crash...\n",
      "Record already inserted with title Prisoner killed in Route 55 crash \n",
      "Saving article Woman ejected from car, killed on Irving highway...\n",
      "Record already inserted with title Woman ejected from car, killed on Irving highway \n",
      "Saving article Driver of S.F. tour bus that killed pedestrian is cited...\n",
      "Record already inserted with title Driver of S.F. tour bus that killed pedestrian is cited \n",
      "Saving article Troopers detail cause of Greene County street race crash that killed 3, injured 8...\n",
      "Record already inserted with title Troopers detail cause of Greene County street race crash that killed 3, injured 8 \n",
      "Saving article Two killed in shooting on West 9th in Cleveland...\n",
      "Record already inserted with title Two killed in shooting on West 9th in Cleveland \n",
      "Saving article Motorist comforts injured girl after head-on crash that killed 1, injured 3 others...\n",
      "Record already inserted with title Motorist comforts injured girl after head-on crash that killed 1, injured 3 others \n",
      "Saving article 2 shot, killed at Windgap industrial park...\n",
      "Record already inserted with title 2 shot, killed at Windgap industrial park \n",
      "Saving article Charsadda attack: 22 dead at Bacha Khan University - .com...\n",
      "Record already inserted with title Charsadda attack: 22 dead at Bacha Khan University - .com \n",
      "Saving article 11-year-old boy killed by falling hay bale in Lancaster, Pennsylvania...\n",
      "Record already inserted with title 11-year-old boy killed by falling hay bale in Lancaster, Pennsylvania \n",
      "Saving article Hudson man charged with OUI after hitting, killing pedestrian...\n",
      "Record already inserted with title Hudson man charged with OUI after hitting, killing pedestrian \n",
      "Saving article Woman, 77, killed in Ingleside crash...\n",
      "Record already inserted with title Woman, 77, killed in Ingleside crash \n",
      "Saving article Vulnerable victims of violence 'at risk' over funding uncertainty...\n",
      "Record already inserted with title Vulnerable victims of violence 'at risk' over funding uncertainty \n",
      "Saving article Calls for Latham's sacking after 'disgraceful podcast' about domestic violence...\n",
      "Record already inserted with title Calls for Latham's sacking after 'disgraceful podcast' about domestic violence \n",
      "Saving article Don McLean's wife files restraining order after domestic violence incident...\n",
      "Record already inserted with title Don McLean's wife files restraining order after domestic violence incident \n",
      "Saving article Why We Know Islam Isn’t a Religion of Violence...\n",
      "Record already inserted with title Why We Know Islam Isn’t a Religion of Violence \n",
      "Saving article Pastor calls for national campaign against violence, corruption - News...\n",
      "Record already inserted with title Pastor calls for national campaign against violence, corruption - News \n",
      "Saving article GOP lawmakers seek crackdown on domestic violence offenders...\n",
      "Record already inserted with title GOP lawmakers seek crackdown on domestic violence offenders \n",
      "Saving article The Twisted Politics of Police Violence in Chicago...\n",
      "Record already inserted with title The Twisted Politics of Police Violence in Chicago \n",
      "Saving article As Year 2 begins for Rob Manfred, domestic violence issue looms largest...\n",
      "Record already inserted with title As Year 2 begins for Rob Manfred, domestic violence issue looms largest \n",
      "Saving article Palin Appears To Blame Her Son’s Domestic Violence Arrest On PTSD, Obama...\n",
      "Record already inserted with title Palin Appears To Blame Her Son’s Domestic Violence Arrest On PTSD, Obama \n",
      "Saving article Well-to-do domestic violence victims hide in shadows at their peril...\n",
      "Record already inserted with title Well-to-do domestic violence victims hide in shadows at their peril \n",
      "Saving article Yankees' Aroldis Chapman will not face domestic violence charges...\n",
      "Record already inserted with title Yankees' Aroldis Chapman will not face domestic violence charges \n",
      "Saving article UN Security Council visits violence-wracked Burundi...\n",
      "Record already inserted with title UN Security Council visits violence-wracked Burundi \n",
      "Saving article Woman sends message about domestic violence from hospital bed...\n",
      "Record already inserted with title Woman sends message about domestic violence from hospital bed \n",
      "Saving article The Missing Data on Gun Violence...\n",
      "Record already inserted with title The Missing Data on Gun Violence \n",
      "Saving article Qld club to march against violence...\n",
      "Record already inserted with title Qld club to march against violence \n",
      "Saving article Men, women report equal spousal violence rates - but severity differs...\n",
      "Record already inserted with title Men, women report equal spousal violence rates - but severity differs \n",
      "Saving article Annual Sassy Shoe Social to raise awareness of domestic violence...\n",
      "Record already inserted with title Annual Sassy Shoe Social to raise awareness of domestic violence \n",
      "Saving article GOP Members Offering Bills to Fight Domestic Violence in Va....\n",
      "Record already inserted with title GOP Members Offering Bills to Fight Domestic Violence in Va. \n",
      "Saving article Dispatches: Impunity for Sexual Violence in Burma’s Kachin Conflict...\n",
      "Record already inserted with title Dispatches: Impunity for Sexual Violence in Burma’s Kachin Conflict \n",
      "Saving article A safe space in one of Chicago's most violent neighborhoods...\n",
      "Record already inserted with title A safe space in one of Chicago's most violent neighborhoods \n",
      "Saving article Neighbor describes previous domestic violence at Wyoming shooting scene...\n",
      "Record already inserted with title Neighbor describes previous domestic violence at Wyoming shooting scene \n",
      "Saving article Horror remake 'Martyrs' repels with pointless violence...\n",
      "Record already inserted with title Horror remake 'Martyrs' repels with pointless violence \n",
      "Saving article What a 10,000-year-old massacre can tell us about the origins of human violence...\n",
      "Record already inserted with title What a 10,000-year-old massacre can tell us about the origins of human violence \n",
      "Saving article Violent crime jumps 27 per cent in new figures released by the Office for National Statistics...\n",
      "Record already inserted with title Violent crime jumps 27 per cent in new figures released by the Office for National Statistics \n",
      "Saving article Slidell crime up slightly in 2015 but still under 2006 level...\n",
      "Record already inserted with title Slidell crime up slightly in 2015 but still under 2006 level \n",
      "Saving article Ex-USC, LSU players charged with Los Angeles-area crime spree...\n",
      "Saving article Neighborhood uses peace march to celebrate drop in crime...\n",
      "Record already inserted with title Neighborhood uses peace march to celebrate drop in crime \n",
      "Saving article Benton PD reporting reduced crime rates in 2015...\n",
      "Record already inserted with title Benton PD reporting reduced crime rates in 2015 \n",
      "Saving article LAPD union slams chief's response to crime hike, calls for hearings about officer deployment...\n",
      "Record already inserted with title LAPD union slams chief's response to crime hike, calls for hearings about officer deployment \n",
      "Saving article Yes, violent crimes rose last year in the US, but that doesn’t mean there’s a crime wave...\n",
      "Record already inserted with title Yes, violent crimes rose last year in the US, but that doesn’t mean there’s a crime wave \n",
      "Saving article Michael Moore: Flint Poisoning Is a 'Racial Crime'...\n",
      "Record already inserted with title Michael Moore: Flint Poisoning Is a 'Racial Crime' \n",
      "Saving article Rash of thefts drives South Bend's increase in crime...\n",
      "Record already inserted with title Rash of thefts drives South Bend's increase in crime \n",
      "Saving article New crime lab promises faster prosecution of criminals...\n",
      "Record already inserted with title New crime lab promises faster prosecution of criminals \n",
      "Saving article Crime, incident stats slightly up in 2015...\n",
      "Record already inserted with title Crime, incident stats slightly up in 2015 \n",
      "failed to extract article..\n",
      "Saving article Wilmington council OKs $300,000 for crime center...\n",
      "Record already inserted with title Wilmington council OKs $300,000 for crime center \n",
      "Saving article L.A. mayor makes funny comparison between Raiders fans and crime...\n",
      "Record already inserted with title L.A. mayor makes funny comparison between Raiders fans and crime \n",
      "Saving article Crime map goes live...\n",
      "Record already inserted with title Crime map goes live \n",
      "Saving article Attorney general announces another Baltimore street crime indictment...\n",
      "Record already inserted with title Attorney general announces another Baltimore street crime indictment \n",
      "Saving article DA Anthony Gulluni: Vito Resto 'the linchpin of crime in the North End of Springfield'...\n",
      "Record already inserted with title DA Anthony Gulluni: Vito Resto 'the linchpin of crime in the North End of Springfield' \n",
      "Saving article Leach Announces Proposal to Eliminate Crime of Second Degree Murder in Commonwealth...\n",
      "Record already inserted with title Leach Announces Proposal to Eliminate Crime of Second Degree Murder in Commonwealth \n",
      "Saving article Anchorage grapples with rising crime, smaller police force...\n",
      "Record already inserted with title Anchorage grapples with rising crime, smaller police force \n",
      "Saving article Swede’s Crime Confession on China TV Rattles Foreign Groups...\n",
      "Record already inserted with title Swede’s Crime Confession on China TV Rattles Foreign Groups \n",
      "Saving article Wichita Falls crime remained flat, for the most part, in early 2015...\n",
      "Record already inserted with title Wichita Falls crime remained flat, for the most part, in early 2015 \n",
      "Saving article Bustle...\n",
      "Record already inserted with title Bustle \n",
      "Saving article ‘American Crime’: So ... how common is male-on-male rape anyway?...\n",
      "Record already inserted with title ‘American Crime’: So ... how common is male-on-male rape anyway? \n",
      "Saving article Westwood crime rate increases 22 pct. in 2015, first spike since 2003 | Daily Bruin...\n",
      "Record already inserted with title Westwood crime rate increases 22 pct. in 2015, first spike since 2003 | Daily Bruin \n",
      "Saving article Raleigh & Frayser Officials Meet To Tackle Crime...\n",
      "Record already inserted with title Raleigh & Frayser Officials Meet To Tackle Crime \n",
      "Saving article Violent crime jumps 27 per cent in new figures released by the Office for National Statistics...\n",
      "Record already inserted with title Violent crime jumps 27 per cent in new figures released by the Office for National Statistics \n",
      "Saving article ‘Ningún luchador mexicano me iguala’: Alberto del Río [Lucha Libre] - 21/01/2016 | Periódico Zócalo...\n",
      "Saving article Asume nuevo jefe de Mando Especial Iguala —...\n",
      "Saving article Ayotzinapa Student Meets Jeremy Corbyn in London...\n",
      "Saving article “Los otros desaparecidos de Iguala”, dicen estar en el olvido...\n",
      "Saving article Acusan a Aguirre de evadir reunión sobre caso Iguala...\n",
      "Saving article Veracruz es la evidencia: Iguala no nos enseñó nada...\n",
      "Saving article Cae sucesor del líder de 'Guerreros unidos' en Iguala —...\n",
      "Saving article Jordan Spieth, el número 1 del mundo, iguala el récord de Tiger Woods...\n",
      "Saving article Relevarán mando en 27 Batallón de Infantería en Iguala...\n",
      "Saving article Mexico Deploying More Troops in Guerrero to Combat Drug Cartels...\n",
      "Saving article Indaga PGR tortura en testigos del caso Iguala...\n",
      "Saving article Presenta PGR Avances Del Caso Iguala A Familiares De Desaparecidos...\n",
      "Saving article Atacan fachada del Semefo de Iguala...\n",
      "Saving article La Jornada: El caso Iguala y la Sedena...\n",
      "Saving article Bloquean carretera en Iguala; exigen salida de PF de Arcelia...\n",
      "Saving article El Inter iguala 1-1 ante el Atalanta...\n",
      "failed to extract article..\n",
      "Saving article Navegantes iguala serie a punta de batazos...\n",
      "Saving article Mom's lawyer: Murder charges in babies' deaths 'speculation'...\n",
      "Record already inserted with title Mom's lawyer: Murder charges in babies' deaths 'speculation' \n",
      "Saving article Everything you know about celebrity deaths is wrong...\n",
      "Record already inserted with title Everything you know about celebrity deaths is wrong \n",
      "Saving article Man Charged With Murder in Shooting Deaths of Ex-Girlfriend, Her New Boyfriend in Winnetka...\n",
      "Record already inserted with title Man Charged With Murder in Shooting Deaths of Ex-Girlfriend, Her New Boyfriend in Winnetka \n",
      "Saving article Eating healthy fats may reduce death from heart disease...\n",
      "Record already inserted with title Eating healthy fats may reduce death from heart disease \n",
      "Saving article Diane Staudte pleads guilty for antifreeze deaths of husband, son...\n",
      "Record already inserted with title Diane Staudte pleads guilty for antifreeze deaths of husband, son \n",
      "Saving article Celine Dion Resurfaces Following Husband's, Brother’s Deaths...\n",
      "Record already inserted with title Celine Dion Resurfaces Following Husband's, Brother’s Deaths \n",
      "Saving article Pedestrian deaths on the rise in D.C. region...\n"
     ]
    },
    {
     "ename": "OperationalError",
     "evalue": "no such table: articles",
     "output_type": "error",
     "traceback": [
      "\u001b[0;31m---------------------------------------------------------------------------\u001b[0m",
      "\u001b[0;31mOperationalError\u001b[0m                          Traceback (most recent call last)",
      "\u001b[0;32m<ipython-input-25-f4b18a9f4dd5>\u001b[0m in \u001b[0;36m<module>\u001b[0;34m()\u001b[0m\n\u001b[0;32m----> 1\u001b[0;31m \u001b[0mex\u001b[0m\u001b[0;34m.\u001b[0m\u001b[0mgenerate_corpus\u001b[0m\u001b[0;34m(\u001b[0m\u001b[0marticle_links\u001b[0m\u001b[0;34m)\u001b[0m\u001b[0;34m\u001b[0m\u001b[0m\n\u001b[0m\u001b[1;32m      2\u001b[0m \u001b[0;32mprint\u001b[0m \u001b[0mex\u001b[0m\u001b[0;34m.\u001b[0m\u001b[0mget_stats\u001b[0m\u001b[0;34m(\u001b[0m\u001b[0;34m)\u001b[0m\u001b[0;34m\u001b[0m\u001b[0m\n",
      "\u001b[0;32m/Users/martin/anaconda/lib/python2.7/site-packages/news_corpus_builder/news_corpus_generator.pyc\u001b[0m in \u001b[0;36mgenerate_corpus\u001b[0;34m(self, articles)\u001b[0m\n\u001b[1;32m     99\u001b[0m \u001b[0;34m\u001b[0m\u001b[0m\n\u001b[1;32m    100\u001b[0m             self._save_article({'title':ex_title, 'body': ex_body,\n\u001b[0;32m--> 101\u001b[0;31m                 'category':category})\n\u001b[0m\u001b[1;32m    102\u001b[0m \u001b[0;34m\u001b[0m\u001b[0m\n\u001b[1;32m    103\u001b[0m     \u001b[0;32mdef\u001b[0m \u001b[0m_save_article\u001b[0m\u001b[0;34m(\u001b[0m\u001b[0mself\u001b[0m\u001b[0;34m,\u001b[0m\u001b[0mclean_article\u001b[0m\u001b[0;34m)\u001b[0m\u001b[0;34m:\u001b[0m\u001b[0;34m\u001b[0m\u001b[0m\n",
      "\u001b[0;32m/Users/martin/anaconda/lib/python2.7/site-packages/news_corpus_builder/news_corpus_generator.pyc\u001b[0m in \u001b[0;36m_save_article\u001b[0;34m(self, clean_article)\u001b[0m\n\u001b[1;32m    108\u001b[0m             \u001b[0mself\u001b[0m\u001b[0;34m.\u001b[0m\u001b[0m_save_flat_file\u001b[0m\u001b[0;34m(\u001b[0m\u001b[0mclean_article\u001b[0m\u001b[0;34m)\u001b[0m\u001b[0;34m\u001b[0m\u001b[0m\n\u001b[1;32m    109\u001b[0m         \u001b[0;32melif\u001b[0m \u001b[0mself\u001b[0m\u001b[0;34m.\u001b[0m\u001b[0mdatastore_type\u001b[0m \u001b[0;34m==\u001b[0m \u001b[0;34m'sqlite'\u001b[0m\u001b[0;34m:\u001b[0m\u001b[0;34m\u001b[0m\u001b[0m\n\u001b[0;32m--> 110\u001b[0;31m             \u001b[0mself\u001b[0m\u001b[0;34m.\u001b[0m\u001b[0m_save_to_db\u001b[0m\u001b[0;34m(\u001b[0m\u001b[0mclean_article\u001b[0m\u001b[0;34m)\u001b[0m\u001b[0;34m\u001b[0m\u001b[0m\n\u001b[0m\u001b[1;32m    111\u001b[0m         \u001b[0;32melse\u001b[0m\u001b[0;34m:\u001b[0m\u001b[0;34m\u001b[0m\u001b[0m\n\u001b[1;32m    112\u001b[0m             \u001b[0;32mraise\u001b[0m \u001b[0mException\u001b[0m\u001b[0;34m(\u001b[0m\u001b[0;34m\"Unsupported datastore type. Please specify file or sqlite\"\u001b[0m\u001b[0;34m)\u001b[0m\u001b[0;34m\u001b[0m\u001b[0m\n",
      "\u001b[0;32m/Users/martin/anaconda/lib/python2.7/site-packages/news_corpus_builder/news_corpus_generator.pyc\u001b[0m in \u001b[0;36m_save_to_db\u001b[0;34m(self, clean_article)\u001b[0m\n\u001b[1;32m    187\u001b[0m             \u001b[0;32mtry\u001b[0m\u001b[0;34m:\u001b[0m\u001b[0;34m\u001b[0m\u001b[0m\n\u001b[1;32m    188\u001b[0m                 cur.execute(\"INSERT INTO articles (Id,category,title,body)\\\n\u001b[0;32m--> 189\u001b[0;31m                     VALUES(?, ?, ?,?)\",(None,clean_article['category'],clean_article['title'],clean_article['body']))\n\u001b[0m\u001b[1;32m    190\u001b[0m             \u001b[0;32mexcept\u001b[0m \u001b[0msqlite3\u001b[0m\u001b[0;34m.\u001b[0m\u001b[0mIntegrityError\u001b[0m\u001b[0;34m:\u001b[0m\u001b[0;34m\u001b[0m\u001b[0m\n\u001b[1;32m    191\u001b[0m                 \u001b[0mself\u001b[0m\u001b[0;34m.\u001b[0m\u001b[0mstats\u001b[0m\u001b[0;34m[\u001b[0m\u001b[0;34m'not_insert_db'\u001b[0m\u001b[0;34m]\u001b[0m \u001b[0;34m+=\u001b[0m \u001b[0;36m1\u001b[0m\u001b[0;34m\u001b[0m\u001b[0m\n",
      "\u001b[0;31mOperationalError\u001b[0m: no such table: articles"
     ]
    }
   ],
   "source": [
    "ex.generate_corpus(article_links)\n",
    "print ex.get_stats()"
   ]
  },
  {
   "cell_type": "code",
   "execution_count": 4,
   "metadata": {
    "collapsed": true
   },
   "outputs": [],
   "source": [
    "# Open/Create a file to append data\n",
    "csvFile = open('tweets.csv', 'a')"
   ]
  },
  {
   "cell_type": "code",
   "execution_count": 3,
   "metadata": {
    "collapsed": true
   },
   "outputs": [],
   "source": [
    "# Make the graphs prettier\n",
    "pd.set_option('display.mpl_style', 'default')"
   ]
  },
  {
   "cell_type": "code",
   "execution_count": 4,
   "metadata": {
    "collapsed": true
   },
   "outputs": [],
   "source": [
    "WORDS = ['robbery', 'assault', 'brivery', 'thief']"
   ]
  },
  {
   "cell_type": "code",
   "execution_count": 5,
   "metadata": {
    "collapsed": true
   },
   "outputs": [],
   "source": [
    "cKey='7eDCo2qRKjSc9QTlNNo6pqc37' \n",
    "cSecret = '14qubum20DqXkVYMFsqVJC188itHF10QEmI1YZQDVbAtxq3Uw0'\n",
    "\n",
    "aKey='3179962074-VTtUFiexeL9uG7LcTqiFfRDkf9n7nq0bmd5Nx4y' \n",
    "aSecret = '3179962074-VTtUFiexeL9uG7LcTqiFfRDkf9n7nq0bmd5Nx4y'\n",
    "\n",
    "\n",
    "\n"
   ]
  },
  {
   "cell_type": "code",
   "execution_count": 6,
   "metadata": {
    "collapsed": true
   },
   "outputs": [],
   "source": [
    "#Use tweepy.OAuthHandler to create an authentication using the given key and secret\n",
    "auth = tweepy.OAuthHandler(consumer_key=cKey, consumer_secret=cSecret)\n",
    "\n",
    "#Connect to the Twitter API using the authentication\n",
    "api = tweepy.API(auth)"
   ]
  },
  {
   "cell_type": "code",
   "execution_count": 8,
   "metadata": {
    "collapsed": false
   },
   "outputs": [
    {
     "name": "stdout",
     "output_type": "stream",
     "text": [
      "2016-01-18 23:30:22 Just witnessed stones drawing 1-1 with gosport, i could have been watching England v Poland 1973!#robbery Enfield, north london\n",
      "2016-01-18 23:19:01 @TJDillashaw - watched the fight and I don't get it either. Gotta take it from champ n it didn't happen. #UFCBoston #robbery \n",
      "2016-01-18 22:51:45 @Bell chargin me 4 a month of UNUSED service. Incompetent employees fail to properly assist customers. #robbery #crook #bellcanada #notcool Scarborough\n",
      "2016-01-18 22:49:58 RT : MarekRamadan: RT ScoutForTrout: Classic grandmothers! #Robbery #Nan #Food https://t.co/MAMatDiSSC \n",
      "2016-01-18 22:47:46 RT @ScoutForTrout: Classic grandmothers! #Robbery #Nan #Food https://t.co/LxU2Wh1Ndq The Hague, South Holland\n",
      "2016-01-18 21:28:12 @ThisQuestions4 @TJDillashaw @TheDomin8r @GrabakaHitman Cruz won't stand in the pocket bang anyway so... #UFCFightNight81  #robbery TEXAS \n",
      "2016-01-18 21:04:40 Armed #robbery #suspect found hiding in girlfriend's closet - Jan 18 @ 4:04 PM ET  https://t.co/yOR3kwfuEB USA\n",
      "2016-01-18 21:03:57 RT @PoweredbyBMW: So gas prices dip below a $1 in Michigan and Texas, while in Cali we're still $3.00+... #Robbery California \n",
      "2016-01-18 21:01:38 #CSSN #Yacht #Security Report for #Belize: Middle Long Cay #Robbery &amp; Sexual Assault https://t.co/XhvqSIlmrF Worldwide\n",
      "2016-01-18 20:46:05 RT @WYP_LeedsOutNW: Violent #robbery at Cottage Stores, #Otley yesterday at 20:50. Cash, cigarettes &amp; spirits taken. Any info contact 101 r… twitter\n"
     ]
    }
   ],
   "source": [
    "# Open/Create a file to append data\n",
    "csvFile = open('tweets.csv', 'a')\n",
    "\n",
    "#Use csv Writer\n",
    "csvWriter = csv.writer(csvFile)\n",
    "count = 0\n",
    "\n",
    "for tweet in tweepy.Cursor(api.search,q=\"%23robbery\",\n",
    "                           lang=\"en\").items(10):\n",
    "    #if '%23robbery' in item:  ##,since=\"2014-01-01\", until=\"2014-12-01\"\n",
    "    #    count += 1             ## %20since%3A2014-09-09%20until%3A2014-10-25\n",
    "    #elif 'message' in item and item['code'] == 88:\n",
    "    #    print('SUSPEND, RATE LIMIT EXCEEDED: %s' % item['message'])\n",
    "    #    break\n",
    "    print tweet.created_at, tweet.text, tweet.user.location\n",
    "    \n",
    "    csvWriter.writerow([tweet.created_at, tweet.text.encode('utf-8'),tweet.user.location])\n",
    "    \n",
    "#print count"
   ]
  },
  {
   "cell_type": "code",
   "execution_count": 99,
   "metadata": {
    "collapsed": false
   },
   "outputs": [],
   "source": [
    "#Perform a basic search query where we search for the '#theft' in the tweets\n",
    "#result = api.search(q='%23robbery') #%23 is used to specify '#'\n",
    "\n",
    "\n",
    "# Print the number of items returned by the search query to verify our query ran. \n",
    "# Its 15 by default\n",
    "#len(result)"
   ]
  },
  {
   "cell_type": "code",
   "execution_count": 69,
   "metadata": {
    "collapsed": false
   },
   "outputs": [],
   "source": [
    "tweet = result[0] #Get the first tweet in the result\n",
    "\n",
    "\n",
    "# Analyze the data in one tweet to see what we require\n",
    "#for param in dir(tweet):\n",
    "#The key names beginning with an '_' are hidden ones and usually not required, \n",
    "# so we'll skip them\n",
    "    #if not param.startswith(\"_\"):\n",
    "        #print \"%s : %s\\n\" % (param, eval('tweet.'+param))"
   ]
  },
  {
   "cell_type": "code",
   "execution_count": null,
   "metadata": {
    "collapsed": true
   },
   "outputs": [],
   "source": [
    "results = []\n",
    "\n",
    "#Get the first 5000 items based on the search query\n",
    "for tweet in tweepy.Cursor(api.search, q='%theft'&since:2011-05-16&until:2011-08-16).items(5000):\n",
    "    results.append(tweet)\n",
    "\n",
    "# Verify the number of items returned\n",
    "print len(results)       "
   ]
  },
  {
   "cell_type": "code",
   "execution_count": 35,
   "metadata": {
    "collapsed": false
   },
   "outputs": [
    {
     "ename": "AttributeError",
     "evalue": "'API' object has no attribute 'request'",
     "output_type": "error",
     "traceback": [
      "\u001b[1;31m---------------------------------------------------------------------------\u001b[0m",
      "\u001b[1;31mAttributeError\u001b[0m                            Traceback (most recent call last)",
      "\u001b[1;32m<ipython-input-35-9ecb7a6a5784>\u001b[0m in \u001b[0;36m<module>\u001b[1;34m()\u001b[0m\n\u001b[0;32m      1\u001b[0m \u001b[0mcount\u001b[0m \u001b[1;33m=\u001b[0m \u001b[1;36m0\u001b[0m\u001b[1;33m\u001b[0m\u001b[0m\n\u001b[0;32m      2\u001b[0m \u001b[0mr\u001b[0m \u001b[1;33m=\u001b[0m \u001b[0mTwitterRestPager\u001b[0m\u001b[1;33m(\u001b[0m\u001b[0mapi\u001b[0m\u001b[1;33m,\u001b[0m \u001b[1;34m'search/tweets'\u001b[0m\u001b[1;33m,\u001b[0m \u001b[1;33m{\u001b[0m\u001b[1;34m'q'\u001b[0m\u001b[1;33m:\u001b[0m\u001b[1;34m'%23robbery'\u001b[0m\u001b[1;33m,\u001b[0m \u001b[1;34m'count'\u001b[0m\u001b[1;33m:\u001b[0m\u001b[1;36m100\u001b[0m\u001b[1;33m}\u001b[0m\u001b[1;33m)\u001b[0m\u001b[1;33m\u001b[0m\u001b[0m\n\u001b[1;32m----> 3\u001b[1;33m \u001b[1;32mfor\u001b[0m \u001b[0mitem\u001b[0m \u001b[1;32min\u001b[0m \u001b[0mr\u001b[0m\u001b[1;33m.\u001b[0m\u001b[0mget_iterator\u001b[0m\u001b[1;33m(\u001b[0m\u001b[0mwait\u001b[0m\u001b[1;33m=\u001b[0m\u001b[1;36m6\u001b[0m\u001b[1;33m)\u001b[0m\u001b[1;33m:\u001b[0m\u001b[1;33m\u001b[0m\u001b[0m\n\u001b[0m\u001b[0;32m      4\u001b[0m     \u001b[1;32mif\u001b[0m \u001b[1;34m'text'\u001b[0m \u001b[1;32min\u001b[0m \u001b[0mitem\u001b[0m\u001b[1;33m:\u001b[0m\u001b[1;33m\u001b[0m\u001b[0m\n\u001b[0;32m      5\u001b[0m         \u001b[0mcount\u001b[0m \u001b[1;33m+=\u001b[0m \u001b[1;36m1\u001b[0m\u001b[1;33m\u001b[0m\u001b[0m\n",
      "\u001b[1;32m/home/martin/anaconda2/lib/python2.7/site-packages/TwitterAPI/TwitterRestPager.pyc\u001b[0m in \u001b[0;36mget_iterator\u001b[1;34m(self, wait, new_tweets)\u001b[0m\n\u001b[0;32m     43\u001b[0m                 \u001b[1;31m# get one page of results\u001b[0m\u001b[1;33m\u001b[0m\u001b[1;33m\u001b[0m\u001b[0m\n\u001b[0;32m     44\u001b[0m                 \u001b[0mstart\u001b[0m \u001b[1;33m=\u001b[0m \u001b[0mtime\u001b[0m\u001b[1;33m.\u001b[0m\u001b[0mtime\u001b[0m\u001b[1;33m(\u001b[0m\u001b[1;33m)\u001b[0m\u001b[1;33m\u001b[0m\u001b[0m\n\u001b[1;32m---> 45\u001b[1;33m                 \u001b[0mr\u001b[0m \u001b[1;33m=\u001b[0m \u001b[0mself\u001b[0m\u001b[1;33m.\u001b[0m\u001b[0mapi\u001b[0m\u001b[1;33m.\u001b[0m\u001b[0mrequest\u001b[0m\u001b[1;33m(\u001b[0m\u001b[0mself\u001b[0m\u001b[1;33m.\u001b[0m\u001b[0mresource\u001b[0m\u001b[1;33m,\u001b[0m \u001b[0mself\u001b[0m\u001b[1;33m.\u001b[0m\u001b[0mparams\u001b[0m\u001b[1;33m)\u001b[0m\u001b[1;33m\u001b[0m\u001b[0m\n\u001b[0m\u001b[0;32m     46\u001b[0m                 \u001b[0mit\u001b[0m \u001b[1;33m=\u001b[0m \u001b[0mr\u001b[0m\u001b[1;33m.\u001b[0m\u001b[0mget_iterator\u001b[0m\u001b[1;33m(\u001b[0m\u001b[1;33m)\u001b[0m\u001b[1;33m\u001b[0m\u001b[0m\n\u001b[0;32m     47\u001b[0m                 \u001b[1;32mif\u001b[0m \u001b[0mnew_tweets\u001b[0m\u001b[1;33m:\u001b[0m\u001b[1;33m\u001b[0m\u001b[0m\n",
      "\u001b[1;31mAttributeError\u001b[0m: 'API' object has no attribute 'request'"
     ]
    }
   ],
   "source": [
    "count = 0\n",
    "r = TwitterRestPager(api, 'search/tweets', {'q':'%23robbery', 'count':100})\n",
    "for item in r.get_iterator(wait=6):\n",
    "    if 'text' in item:\n",
    "        count += 1\n",
    "    elif 'message' in item and item['code'] == 88:\n",
    "        print('SUSPEND, RATE LIMIT EXCEEDED: %s' % item['message'])\n",
    "        break\n",
    "print(count)"
   ]
  },
  {
   "cell_type": "code",
   "execution_count": 27,
   "metadata": {
    "collapsed": true
   },
   "outputs": [],
   "source": [
    "# Create a function to convert a given list of tweets into a Pandas DataFrame.\n",
    "# The DataFrame will consist of only the values, which I think might be useful for \n",
    "# analysis...\n",
    "\n",
    "def toDataFrame(tweets):\n",
    "\n",
    "    DataSet = pd.DataFrame()\n",
    "\n",
    "    DataSet['tweetID'] = [tweet.id for tweet in tweets]\n",
    "    DataSet['tweetText'] = [tweet.text for tweet in tweets]\n",
    "    DataSet['tweetRetweetCt'] = [tweet.retweet_count for tweet in tweets]\n",
    "    DataSet['tweetFavoriteCt'] = [tweet.favorite_count for tweet in tweets]\n",
    "    DataSet['tweetSource'] = [tweet.source for tweet in tweets]\n",
    "    DataSet['tweetCreated'] = [tweet.created_at for tweet in tweets]\n",
    "    DataSet['userID'] = [tweet.user.id for tweet in tweets]\n",
    "    DataSet['userScreen'] = [tweet.user.screen_name for tweet in tweets]\n",
    "    DataSet['userName'] = [tweet.user.name for tweet in tweets]\n",
    "    DataSet['userCreateDt'] = [tweet.user.created_at for tweet in tweets]\n",
    "    DataSet['userDesc'] = [tweet.user.description for tweet in tweets]\n",
    "    DataSet['userFollowerCt'] = [tweet.user.followers_count for tweet in tweets]\n",
    "    DataSet['userFriendsCt'] = [tweet.user.friends_count for tweet in tweets]\n",
    "    DataSet['userLocation'] = [tweet.user.location for tweet in tweets]\n",
    "    DataSet['userTimezone'] = [tweet.user.time_zone for tweet in tweets]\n",
    "\n",
    "    return DataSet\n",
    "\n",
    "#Pass the tweets list to the above function to create a DataFrame\n",
    "DataSet = toDataFrame(results)"
   ]
  },
  {
   "cell_type": "code",
   "execution_count": 28,
   "metadata": {
    "collapsed": false
   },
   "outputs": [
    {
     "data": {
      "text/html": [
       "<div>\n",
       "<table border=\"1\" class=\"dataframe\">\n",
       "  <thead>\n",
       "    <tr style=\"text-align: right;\">\n",
       "      <th></th>\n",
       "      <th>tweetID</th>\n",
       "      <th>tweetText</th>\n",
       "      <th>tweetRetweetCt</th>\n",
       "      <th>tweetFavoriteCt</th>\n",
       "      <th>tweetSource</th>\n",
       "      <th>tweetCreated</th>\n",
       "      <th>userID</th>\n",
       "      <th>userScreen</th>\n",
       "      <th>userName</th>\n",
       "      <th>userCreateDt</th>\n",
       "      <th>userDesc</th>\n",
       "      <th>userFollowerCt</th>\n",
       "      <th>userFriendsCt</th>\n",
       "      <th>userLocation</th>\n",
       "      <th>userTimezone</th>\n",
       "    </tr>\n",
       "  </thead>\n",
       "  <tbody>\n",
       "    <tr>\n",
       "      <th>0</th>\n",
       "      <td>687780326836428800</td>\n",
       "      <td>RT @FarmCrimeUK: @POSITIVEFARMERS could you po...</td>\n",
       "      <td>1</td>\n",
       "      <td>0</td>\n",
       "      <td>Twitter for Android</td>\n",
       "      <td>2016-01-14 23:36:22</td>\n",
       "      <td>3940311377</td>\n",
       "      <td>RAWfarms</td>\n",
       "      <td>OADmilking Rich</td>\n",
       "      <td>2015-10-12 20:46:53</td>\n",
       "      <td>#OADmilking 400 happy cows. Farming #soil for ...</td>\n",
       "      <td>460</td>\n",
       "      <td>905</td>\n",
       "      <td>Pembrokeshire</td>\n",
       "      <td>None</td>\n",
       "    </tr>\n",
       "    <tr>\n",
       "      <th>1</th>\n",
       "      <td>687780326685454344</td>\n",
       "      <td>So. @NickBolesMP is now justifying the Tory th...</td>\n",
       "      <td>0</td>\n",
       "      <td>0</td>\n",
       "      <td>Twitter Web Client</td>\n",
       "      <td>2016-01-14 23:36:22</td>\n",
       "      <td>353022633</td>\n",
       "      <td>EyeEdinburgh</td>\n",
       "      <td>Jane Carnall</td>\n",
       "      <td>2011-08-11 12:46:30</td>\n",
       "      <td>I blog as EdinburghEye. Here &amp; on my blog I re...</td>\n",
       "      <td>3031</td>\n",
       "      <td>2601</td>\n",
       "      <td>Edinburgh</td>\n",
       "      <td>Edinburgh</td>\n",
       "    </tr>\n",
       "    <tr>\n",
       "      <th>2</th>\n",
       "      <td>687780255206105088</td>\n",
       "      <td>PRIOR 2 murder  CHILD ENDANGERMENT ID theft MA...</td>\n",
       "      <td>0</td>\n",
       "      <td>0</td>\n",
       "      <td>SocialOomph</td>\n",
       "      <td>2016-01-14 23:36:05</td>\n",
       "      <td>4061763478</td>\n",
       "      <td>bullybully1323</td>\n",
       "      <td>bully</td>\n",
       "      <td>2015-10-28 16:14:21</td>\n",
       "      <td></td>\n",
       "      <td>51</td>\n",
       "      <td>39</td>\n",
       "      <td></td>\n",
       "      <td>None</td>\n",
       "    </tr>\n",
       "    <tr>\n",
       "      <th>3</th>\n",
       "      <td>687780253444521984</td>\n",
       "      <td>PRIOR 2 murder  CHILD ENDANGERMENT ID theft MA...</td>\n",
       "      <td>0</td>\n",
       "      <td>0</td>\n",
       "      <td>SocialOomph</td>\n",
       "      <td>2016-01-14 23:36:05</td>\n",
       "      <td>4061505257</td>\n",
       "      <td>justice4all26</td>\n",
       "      <td>justice4all</td>\n",
       "      <td>2015-10-28 15:35:39</td>\n",
       "      <td></td>\n",
       "      <td>86</td>\n",
       "      <td>49</td>\n",
       "      <td></td>\n",
       "      <td>None</td>\n",
       "    </tr>\n",
       "    <tr>\n",
       "      <th>4</th>\n",
       "      <td>687780241666916352</td>\n",
       "      <td>RT @glebuscesya: Las Vegas police are investig...</td>\n",
       "      <td>3</td>\n",
       "      <td>0</td>\n",
       "      <td>App48585185</td>\n",
       "      <td>2016-01-14 23:36:02</td>\n",
       "      <td>3209775688</td>\n",
       "      <td>nanonnatale</td>\n",
       "      <td>Milagros Raab</td>\n",
       "      <td>2015-04-26 22:04:12</td>\n",
       "      <td></td>\n",
       "      <td>87</td>\n",
       "      <td>87</td>\n",
       "      <td></td>\n",
       "      <td>None</td>\n",
       "    </tr>\n",
       "  </tbody>\n",
       "</table>\n",
       "</div>"
      ],
      "text/plain": [
       "              tweetID                                          tweetText  \\\n",
       "0  687780326836428800  RT @FarmCrimeUK: @POSITIVEFARMERS could you po...   \n",
       "1  687780326685454344  So. @NickBolesMP is now justifying the Tory th...   \n",
       "2  687780255206105088  PRIOR 2 murder  CHILD ENDANGERMENT ID theft MA...   \n",
       "3  687780253444521984  PRIOR 2 murder  CHILD ENDANGERMENT ID theft MA...   \n",
       "4  687780241666916352  RT @glebuscesya: Las Vegas police are investig...   \n",
       "\n",
       "   tweetRetweetCt  tweetFavoriteCt          tweetSource        tweetCreated  \\\n",
       "0               1                0  Twitter for Android 2016-01-14 23:36:22   \n",
       "1               0                0   Twitter Web Client 2016-01-14 23:36:22   \n",
       "2               0                0          SocialOomph 2016-01-14 23:36:05   \n",
       "3               0                0          SocialOomph 2016-01-14 23:36:05   \n",
       "4               3                0          App48585185 2016-01-14 23:36:02   \n",
       "\n",
       "       userID      userScreen         userName        userCreateDt  \\\n",
       "0  3940311377        RAWfarms  OADmilking Rich 2015-10-12 20:46:53   \n",
       "1   353022633    EyeEdinburgh     Jane Carnall 2011-08-11 12:46:30   \n",
       "2  4061763478  bullybully1323            bully 2015-10-28 16:14:21   \n",
       "3  4061505257   justice4all26      justice4all 2015-10-28 15:35:39   \n",
       "4  3209775688     nanonnatale    Milagros Raab 2015-04-26 22:04:12   \n",
       "\n",
       "                                            userDesc  userFollowerCt  \\\n",
       "0  #OADmilking 400 happy cows. Farming #soil for ...             460   \n",
       "1  I blog as EdinburghEye. Here & on my blog I re...            3031   \n",
       "2                                                                 51   \n",
       "3                                                                 86   \n",
       "4                                                                 87   \n",
       "\n",
       "   userFriendsCt    userLocation userTimezone  \n",
       "0            905  Pembrokeshire          None  \n",
       "1           2601       Edinburgh    Edinburgh  \n",
       "2             39                         None  \n",
       "3             49                         None  \n",
       "4             87                         None  "
      ]
     },
     "execution_count": 28,
     "metadata": {},
     "output_type": "execute_result"
    }
   ],
   "source": [
    "# Let's check the top 5 records in the Data Set\n",
    "DataSet.head(5)    \n"
   ]
  },
  {
   "cell_type": "code",
   "execution_count": 29,
   "metadata": {
    "collapsed": false
   },
   "outputs": [
    {
     "data": {
      "text/html": [
       "<div>\n",
       "<table border=\"1\" class=\"dataframe\">\n",
       "  <thead>\n",
       "    <tr style=\"text-align: right;\">\n",
       "      <th></th>\n",
       "      <th>tweetID</th>\n",
       "      <th>tweetText</th>\n",
       "      <th>tweetRetweetCt</th>\n",
       "      <th>tweetFavoriteCt</th>\n",
       "      <th>tweetSource</th>\n",
       "      <th>tweetCreated</th>\n",
       "      <th>userID</th>\n",
       "      <th>userScreen</th>\n",
       "      <th>userName</th>\n",
       "      <th>userCreateDt</th>\n",
       "      <th>userDesc</th>\n",
       "      <th>userFollowerCt</th>\n",
       "      <th>userFriendsCt</th>\n",
       "      <th>userLocation</th>\n",
       "      <th>userTimezone</th>\n",
       "    </tr>\n",
       "  </thead>\n",
       "  <tbody>\n",
       "    <tr>\n",
       "      <th>0</th>\n",
       "      <td>687780326836428800</td>\n",
       "      <td>RT @FarmCrimeUK: @POSITIVEFARMERS could you po...</td>\n",
       "      <td>1</td>\n",
       "      <td>0</td>\n",
       "      <td>Twitter for Android</td>\n",
       "      <td>2016-01-14 23:36:22</td>\n",
       "      <td>3940311377</td>\n",
       "      <td>RAWfarms</td>\n",
       "      <td>OADmilking Rich</td>\n",
       "      <td>2015-10-12 20:46:53</td>\n",
       "      <td>#OADmilking 400 happy cows. Farming #soil for ...</td>\n",
       "      <td>460</td>\n",
       "      <td>905</td>\n",
       "      <td>Pembrokeshire</td>\n",
       "      <td>None</td>\n",
       "    </tr>\n",
       "    <tr>\n",
       "      <th>1</th>\n",
       "      <td>687780326685454344</td>\n",
       "      <td>So. @NickBolesMP is now justifying the Tory th...</td>\n",
       "      <td>0</td>\n",
       "      <td>0</td>\n",
       "      <td>Twitter Web Client</td>\n",
       "      <td>2016-01-14 23:36:22</td>\n",
       "      <td>353022633</td>\n",
       "      <td>EyeEdinburgh</td>\n",
       "      <td>Jane Carnall</td>\n",
       "      <td>2011-08-11 12:46:30</td>\n",
       "      <td>I blog as EdinburghEye. Here &amp; on my blog I re...</td>\n",
       "      <td>3031</td>\n",
       "      <td>2601</td>\n",
       "      <td>Edinburgh</td>\n",
       "      <td>Edinburgh</td>\n",
       "    </tr>\n",
       "    <tr>\n",
       "      <th>2</th>\n",
       "      <td>687780255206105088</td>\n",
       "      <td>PRIOR 2 murder  CHILD ENDANGERMENT ID theft MA...</td>\n",
       "      <td>0</td>\n",
       "      <td>0</td>\n",
       "      <td>SocialOomph</td>\n",
       "      <td>2016-01-14 23:36:05</td>\n",
       "      <td>4061763478</td>\n",
       "      <td>bullybully1323</td>\n",
       "      <td>bully</td>\n",
       "      <td>2015-10-28 16:14:21</td>\n",
       "      <td></td>\n",
       "      <td>51</td>\n",
       "      <td>39</td>\n",
       "      <td></td>\n",
       "      <td>None</td>\n",
       "    </tr>\n",
       "    <tr>\n",
       "      <th>3</th>\n",
       "      <td>687780253444521984</td>\n",
       "      <td>PRIOR 2 murder  CHILD ENDANGERMENT ID theft MA...</td>\n",
       "      <td>0</td>\n",
       "      <td>0</td>\n",
       "      <td>SocialOomph</td>\n",
       "      <td>2016-01-14 23:36:05</td>\n",
       "      <td>4061505257</td>\n",
       "      <td>justice4all26</td>\n",
       "      <td>justice4all</td>\n",
       "      <td>2015-10-28 15:35:39</td>\n",
       "      <td></td>\n",
       "      <td>86</td>\n",
       "      <td>49</td>\n",
       "      <td></td>\n",
       "      <td>None</td>\n",
       "    </tr>\n",
       "    <tr>\n",
       "      <th>4</th>\n",
       "      <td>687780241666916352</td>\n",
       "      <td>RT @glebuscesya: Las Vegas police are investig...</td>\n",
       "      <td>3</td>\n",
       "      <td>0</td>\n",
       "      <td>App48585185</td>\n",
       "      <td>2016-01-14 23:36:02</td>\n",
       "      <td>3209775688</td>\n",
       "      <td>nanonnatale</td>\n",
       "      <td>Milagros Raab</td>\n",
       "      <td>2015-04-26 22:04:12</td>\n",
       "      <td></td>\n",
       "      <td>87</td>\n",
       "      <td>87</td>\n",
       "      <td></td>\n",
       "      <td>None</td>\n",
       "    </tr>\n",
       "  </tbody>\n",
       "</table>\n",
       "</div>"
      ],
      "text/plain": [
       "              tweetID                                          tweetText  \\\n",
       "0  687780326836428800  RT @FarmCrimeUK: @POSITIVEFARMERS could you po...   \n",
       "1  687780326685454344  So. @NickBolesMP is now justifying the Tory th...   \n",
       "2  687780255206105088  PRIOR 2 murder  CHILD ENDANGERMENT ID theft MA...   \n",
       "3  687780253444521984  PRIOR 2 murder  CHILD ENDANGERMENT ID theft MA...   \n",
       "4  687780241666916352  RT @glebuscesya: Las Vegas police are investig...   \n",
       "\n",
       "   tweetRetweetCt  tweetFavoriteCt          tweetSource        tweetCreated  \\\n",
       "0               1                0  Twitter for Android 2016-01-14 23:36:22   \n",
       "1               0                0   Twitter Web Client 2016-01-14 23:36:22   \n",
       "2               0                0          SocialOomph 2016-01-14 23:36:05   \n",
       "3               0                0          SocialOomph 2016-01-14 23:36:05   \n",
       "4               3                0          App48585185 2016-01-14 23:36:02   \n",
       "\n",
       "       userID      userScreen         userName        userCreateDt  \\\n",
       "0  3940311377        RAWfarms  OADmilking Rich 2015-10-12 20:46:53   \n",
       "1   353022633    EyeEdinburgh     Jane Carnall 2011-08-11 12:46:30   \n",
       "2  4061763478  bullybully1323            bully 2015-10-28 16:14:21   \n",
       "3  4061505257   justice4all26      justice4all 2015-10-28 15:35:39   \n",
       "4  3209775688     nanonnatale    Milagros Raab 2015-04-26 22:04:12   \n",
       "\n",
       "                                            userDesc  userFollowerCt  \\\n",
       "0  #OADmilking 400 happy cows. Farming #soil for ...             460   \n",
       "1  I blog as EdinburghEye. Here & on my blog I re...            3031   \n",
       "2                                                                 51   \n",
       "3                                                                 86   \n",
       "4                                                                 87   \n",
       "\n",
       "   userFriendsCt    userLocation userTimezone  \n",
       "0            905  Pembrokeshire          None  \n",
       "1           2601       Edinburgh    Edinburgh  \n",
       "2             39                         None  \n",
       "3             49                         None  \n",
       "4             87                         None  "
      ]
     },
     "execution_count": 29,
     "metadata": {},
     "output_type": "execute_result"
    }
   ],
   "source": [
    "# Let's check the top 5 records in the Data Set\n",
    "DataSet.head(5)"
   ]
  },
  {
   "cell_type": "code",
   "execution_count": 30,
   "metadata": {
    "collapsed": false
   },
   "outputs": [
    {
     "data": {
      "text/plain": [
       "652"
      ]
     },
     "execution_count": 30,
     "metadata": {},
     "output_type": "execute_result"
    }
   ],
   "source": [
    "# 'None' is treated as null here, so I'll remove all the records having 'None' in their 'userTimezone' column\n",
    "DataSet = DataSet[DataSet.userTimezone.notnull()]\n",
    "\n",
    "# Let's also check how many records are we left with now\n",
    "len(DataSet)\n"
   ]
  },
  {
   "cell_type": "code",
   "execution_count": 31,
   "metadata": {
    "collapsed": false
   },
   "outputs": [
    {
     "name": "stdout",
     "output_type": "stream",
     "text": [
      "Pacific Time (US & Canada)     130\n",
      "Eastern Time (US & Canada)     113\n",
      "Central Time (US & Canada)      58\n",
      "London                          52\n",
      "Amsterdam                       49\n",
      "West Central Africa             26\n",
      "Hawaii                          18\n",
      "Mountain Time (US & Canada)     15\n",
      "Arizona                         14\n",
      "Quito                           14\n",
      "Name: userTimezone, dtype: int64\n"
     ]
    }
   ],
   "source": [
    "# Count the number of tweets in each time zone and get the first 10\n",
    "tzs = DataSet['userTimezone'].value_counts()[:10]\n",
    "print tzs"
   ]
  },
  {
   "cell_type": "code",
   "execution_count": 32,
   "metadata": {
    "collapsed": false
   },
   "outputs": [
    {
     "data": {
      "text/plain": [
       "<matplotlib.text.Text at 0x7f7831e9a550>"
      ]
     },
     "execution_count": 32,
     "metadata": {},
     "output_type": "execute_result"
    }
   ],
   "source": [
    "# Create a bar-graph figure of the specified size\n",
    "plt.rcParams['figure.figsize'] = (15, 5)\n",
    "\n",
    "# Plot the Time Zone data as a bar-graph\n",
    "tzs.plot(kind='bar')\n",
    "\n",
    "\n",
    "# Assign labels and title to the graph to make it more presentable\n",
    "plt.xlabel('Timezones')\n",
    "plt.ylabel('Tweet Count')\n",
    "plt.title('Top 10 Timezones tweeting about #Oscars2015')\n"
   ]
  },
  {
   "cell_type": "code",
   "execution_count": 42,
   "metadata": {
    "collapsed": false
   },
   "outputs": [
    {
     "ename": "TypeError",
     "evalue": "'NoneType' object is not iterable",
     "output_type": "error",
     "traceback": [
      "\u001b[1;31m---------------------------------------------------------------------------\u001b[0m",
      "\u001b[1;31mTypeError\u001b[0m                                 Traceback (most recent call last)",
      "\u001b[1;32m<ipython-input-42-cb14cfba4158>\u001b[0m in \u001b[0;36m<module>\u001b[1;34m()\u001b[0m\n\u001b[0;32m      1\u001b[0m \u001b[1;32mimport\u001b[0m \u001b[0mvincent\u001b[0m\u001b[1;33m\u001b[0m\u001b[0m\n\u001b[0;32m      2\u001b[0m \u001b[0mworld_countries\u001b[0m \u001b[1;33m=\u001b[0m \u001b[1;34mr'world-countries.json'\u001b[0m\u001b[1;33m\u001b[0m\u001b[0m\n\u001b[1;32m----> 3\u001b[1;33m \u001b[0mworld\u001b[0m \u001b[1;33m=\u001b[0m \u001b[0mvincent\u001b[0m\u001b[1;33m.\u001b[0m\u001b[0mMap\u001b[0m\u001b[1;33m(\u001b[0m\u001b[0mwidth\u001b[0m\u001b[1;33m=\u001b[0m\u001b[1;36m120\u001b[0m\u001b[1;33m,\u001b[0m \u001b[0mheight\u001b[0m\u001b[1;33m=\u001b[0m\u001b[1;36m100\u001b[0m\u001b[1;33m)\u001b[0m\u001b[1;33m\u001b[0m\u001b[0m\n\u001b[0m\u001b[0;32m      4\u001b[0m \u001b[0mworld\u001b[0m\u001b[1;33m.\u001b[0m\u001b[0mgeo_data\u001b[0m\u001b[1;33m(\u001b[0m\u001b[0mprojection\u001b[0m\u001b[1;33m=\u001b[0m\u001b[1;34m'winkel3'\u001b[0m\u001b[1;33m,\u001b[0m \u001b[0mscale\u001b[0m\u001b[1;33m=\u001b[0m\u001b[1;36m200\u001b[0m\u001b[1;33m,\u001b[0m \u001b[0mworld\u001b[0m\u001b[1;33m=\u001b[0m\u001b[0mworld_countries\u001b[0m\u001b[1;33m)\u001b[0m\u001b[1;33m\u001b[0m\u001b[0m\n\u001b[0;32m      5\u001b[0m \u001b[0mworld\u001b[0m\u001b[1;33m.\u001b[0m\u001b[0mto_json\u001b[0m\u001b[1;33m(\u001b[0m\u001b[1;34m'/home/martin/Dropbox/a_Insight/Project/world.jpg'\u001b[0m\u001b[1;33m)\u001b[0m\u001b[1;33m\u001b[0m\u001b[0m\n",
      "\u001b[1;32m/home/martin/anaconda2/lib/python2.7/site-packages/vincent/charts.pyc\u001b[0m in \u001b[0;36m__init__\u001b[1;34m(self, data, geo_data, projection, center, translate, scale, rotate, data_bind, data_key, map_key, brew, *args, **kwargs)\u001b[0m\n\u001b[0;32m    409\u001b[0m \u001b[1;33m\u001b[0m\u001b[0m\n\u001b[0;32m    410\u001b[0m         \u001b[1;31m# Add Data\u001b[0m\u001b[1;33m\u001b[0m\u001b[1;33m\u001b[0m\u001b[0m\n\u001b[1;32m--> 411\u001b[1;33m         \u001b[1;32mfor\u001b[0m \u001b[0mdat\u001b[0m \u001b[1;32min\u001b[0m \u001b[0mgeo_data\u001b[0m\u001b[1;33m:\u001b[0m\u001b[1;33m\u001b[0m\u001b[0m\n\u001b[0m\u001b[0;32m    412\u001b[0m             \u001b[1;31m# Data\u001b[0m\u001b[1;33m\u001b[0m\u001b[1;33m\u001b[0m\u001b[0m\n\u001b[0;32m    413\u001b[0m             \u001b[0mtransforms\u001b[0m \u001b[1;33m=\u001b[0m \u001b[1;33m[\u001b[0m\u001b[1;33m]\u001b[0m\u001b[1;33m\u001b[0m\u001b[0m\n",
      "\u001b[1;31mTypeError\u001b[0m: 'NoneType' object is not iterable"
     ]
    }
   ],
   "source": [
    "import vincent\n",
    "world_countries = r'world-countries.json'\n",
    "world = vincent.Map(width=120, height=1000)\n",
    "world.geo_data(projection='winkel3', scale=200, world=world_countries)\n",
    "world.to_json('/home/martin/Dropbox/a_Insight/Project/world.jpg')\n",
    "\n",
    "vis = vincent.Map(width=1000, height=800)\n",
    "#Add the US county data and a new line color\n",
    "vis.geo_data(projection='albersUsa', scale=1000, counties=county_geo)\n",
    "vis + ('2B4ECF', 'marks', 0, 'properties', 'enter', 'stroke', 'value')\n",
    "\n",
    "#Add the state data, remove the fill, write Vega spec output to JSON\n",
    "vis.geo_data(states=state_geo)\n",
    "vis - ('fill', 'marks', 1, 'properties', 'enter')\n",
    "vis.to_json(path)"
   ]
  },
  {
   "cell_type": "code",
   "execution_count": null,
   "metadata": {
    "collapsed": true
   },
   "outputs": [],
   "source": []
  }
 ],
 "metadata": {
  "kernelspec": {
   "display_name": "Python 2",
   "language": "python",
   "name": "python2"
  },
  "language_info": {
   "codemirror_mode": {
    "name": "ipython",
    "version": 2
   },
   "file_extension": ".py",
   "mimetype": "text/x-python",
   "name": "python",
   "nbconvert_exporter": "python",
   "pygments_lexer": "ipython2",
   "version": "2.7.11"
  }
 },
 "nbformat": 4,
 "nbformat_minor": 0
}
