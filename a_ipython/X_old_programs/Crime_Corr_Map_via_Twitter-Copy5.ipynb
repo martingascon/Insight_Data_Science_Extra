{
 "cells": [
  {
   "cell_type": "code",
   "execution_count": 2,
   "metadata": {
    "collapsed": false
   },
   "outputs": [],
   "source": [
    "import tweepy\n",
    "import pandas as pd\n",
    "import json\n",
    "import csv\n",
    "import matplotlib.pyplot as plt\n",
    "\n",
    "# Make the graphs prettier\n",
    "pd.set_option('display.mpl_style', 'default')"
   ]
  },
  {
   "cell_type": "code",
   "execution_count": 3,
   "metadata": {
    "collapsed": false
   },
   "outputs": [],
   "source": [
    "settings = json.load(open('settings.json', 'r'))\n",
    "twitter_settings = settings['twitter']"
   ]
  },
  {
   "cell_type": "code",
   "execution_count": 4,
   "metadata": {
    "collapsed": true
   },
   "outputs": [],
   "source": [
    "#Use tweepy.OAuthHandler to create an authentication using the given key and secret\n",
    "auth = tweepy.OAuthHandler(twitter_settings['client_id'], twitter_settings['client_secret'])\n",
    "\n",
    "#Connect to the Twitter API using the authentication      \\\n",
    "api = tweepy.API(auth)"
   ]
  },
  {
   "cell_type": "code",
   "execution_count": 5,
   "metadata": {
    "collapsed": false
   },
   "outputs": [],
   "source": [
    "# Open/Create a file to append data\n",
    "csvFile = open('tweets.csv', 'a')\n",
    "\n",
    "#Use csv Writer\n",
    "csvWriter = csv.writer(csvFile)"
   ]
  },
  {
   "cell_type": "code",
   "execution_count": 16,
   "metadata": {
    "collapsed": false
   },
   "outputs": [
    {
     "name": "stdout",
     "output_type": "stream",
     "text": [
      "0\n"
     ]
    }
   ],
   "source": [
    "results = []\n",
    "\n",
    "#Get the first 5000 items based on the search query\n",
    "for tweet in tweepy.Cursor(api.search, q='%23robbery San Francisco').items(5000):\n",
    "    csvWriter.writerow([tweet.created_at, tweet.text.encode('utf-8'),tweet.user.location])\n",
    "    results.append(tweet)\n",
    "# Verify the number of items returned\n",
    "print len(results)  "
   ]
  },
  {
   "cell_type": "code",
   "execution_count": 10,
   "metadata": {
    "collapsed": true
   },
   "outputs": [],
   "source": [
    "# Create a function to convert a given list of tweets into a Pandas DataFrame.\n",
    "# The DataFrame will consist of only the values, which I think might be useful for \n",
    "# analysis...\n",
    "\n",
    "def toDataFrame(tweets):\n",
    "    DataSet = pd.DataFrame()\n",
    "    DataSet['tweetID'] = [tweet.id for tweet in tweets]\n",
    "    DataSet['tweetText'] = [tweet.text for tweet in tweets]\n",
    "    DataSet['tweetRetweetCt'] = [tweet.retweet_count for tweet in tweets]\n",
    "    DataSet['tweetFavoriteCt'] = [tweet.favorite_count for tweet in tweets]\n",
    "    DataSet['tweetSource'] = [tweet.source for tweet in tweets]\n",
    "    DataSet['tweetCreated'] = [tweet.created_at for tweet in tweets]\n",
    "    DataSet['userID'] = [tweet.user.id for tweet in tweets]\n",
    "    DataSet['userScreen'] = [tweet.user.screen_name for tweet in tweets]\n",
    "    DataSet['userName'] = [tweet.user.name for tweet in tweets]\n",
    "    DataSet['userCreateDt'] = [tweet.user.created_at for tweet in tweets]\n",
    "    DataSet['userDesc'] = [tweet.user.description for tweet in tweets]\n",
    "    DataSet['userFollowerCt'] = [tweet.user.followers_count for tweet in tweets]\n",
    "    DataSet['userFriendsCt'] = [tweet.user.friends_count for tweet in tweets]\n",
    "    DataSet['userLocation'] = [tweet.user.location for tweet in tweets]\n",
    "    DataSet['userTimezone'] = [tweet.user.time_zone for tweet in tweets]\n",
    "\n",
    "    return DataSet\n",
    "\n",
    "#Pass the tweets list to the above function to create a DataFrame\n",
    "\n",
    "\n",
    "DataSet = toDataFrame(results)"
   ]
  },
  {
   "cell_type": "code",
   "execution_count": 11,
   "metadata": {
    "collapsed": false
   },
   "outputs": [
    {
     "data": {
      "text/html": [
       "<div>\n",
       "<table border=\"1\" class=\"dataframe\">\n",
       "  <thead>\n",
       "    <tr style=\"text-align: right;\">\n",
       "      <th></th>\n",
       "      <th>tweetID</th>\n",
       "      <th>tweetText</th>\n",
       "      <th>tweetRetweetCt</th>\n",
       "      <th>tweetFavoriteCt</th>\n",
       "      <th>tweetSource</th>\n",
       "      <th>tweetCreated</th>\n",
       "      <th>userID</th>\n",
       "      <th>userScreen</th>\n",
       "      <th>userName</th>\n",
       "      <th>userCreateDt</th>\n",
       "      <th>userDesc</th>\n",
       "      <th>userFollowerCt</th>\n",
       "      <th>userFriendsCt</th>\n",
       "      <th>userLocation</th>\n",
       "      <th>userTimezone</th>\n",
       "    </tr>\n",
       "  </thead>\n",
       "  <tbody>\n",
       "    <tr>\n",
       "      <th>0</th>\n",
       "      <td>690348254723248130</td>\n",
       "      <td>Not all Asians know martial art JT BRUUUH #asi...</td>\n",
       "      <td>0</td>\n",
       "      <td>0</td>\n",
       "      <td>Vine - Make a Scene</td>\n",
       "      <td>2016-01-22 01:40:24</td>\n",
       "      <td>3145813374</td>\n",
       "      <td>F66Ryo</td>\n",
       "      <td>Ryooo</td>\n",
       "      <td>2015-04-09 08:41:13</td>\n",
       "      <td>#hiphop #edm #音楽 #music 好き #followme !! /MC梁瑠 ...</td>\n",
       "      <td>143</td>\n",
       "      <td>147</td>\n",
       "      <td></td>\n",
       "      <td>None</td>\n",
       "    </tr>\n",
       "    <tr>\n",
       "      <th>1</th>\n",
       "      <td>690346909580525568</td>\n",
       "      <td>Melo starts the Allstar game instead of DeMar?...</td>\n",
       "      <td>0</td>\n",
       "      <td>0</td>\n",
       "      <td>Twitter for iPhone</td>\n",
       "      <td>2016-01-22 01:35:03</td>\n",
       "      <td>3249481638</td>\n",
       "      <td>luca_achille98</td>\n",
       "      <td>Luca Bozzetto</td>\n",
       "      <td>2015-06-19 06:10:01</td>\n",
       "      <td></td>\n",
       "      <td>20</td>\n",
       "      <td>28</td>\n",
       "      <td></td>\n",
       "      <td>None</td>\n",
       "    </tr>\n",
       "    <tr>\n",
       "      <th>2</th>\n",
       "      <td>690345930969747461</td>\n",
       "      <td>#GermanVillage: #Robbery victim reports purse ...</td>\n",
       "      <td>0</td>\n",
       "      <td>0</td>\n",
       "      <td>Twitter Web Client</td>\n",
       "      <td>2016-01-22 01:31:10</td>\n",
       "      <td>82662452</td>\n",
       "      <td>TWFoodWine</td>\n",
       "      <td>Food and Wine</td>\n",
       "      <td>2009-10-15 17:06:33</td>\n",
       "      <td>Sharing news and updates about the central Ohi...</td>\n",
       "      <td>1521</td>\n",
       "      <td>1221</td>\n",
       "      <td>Columbus</td>\n",
       "      <td>Central Time (US &amp; Canada)</td>\n",
       "    </tr>\n",
       "    <tr>\n",
       "      <th>3</th>\n",
       "      <td>690344962291011586</td>\n",
       "      <td>RT @RockfordScanner: #RockfordScanner Victim f...</td>\n",
       "      <td>3</td>\n",
       "      <td>0</td>\n",
       "      <td>Twitter Web Client</td>\n",
       "      <td>2016-01-22 01:27:19</td>\n",
       "      <td>285636756</td>\n",
       "      <td>HelpforBear</td>\n",
       "      <td>Charlene R.</td>\n",
       "      <td>2011-04-21 14:28:37</td>\n",
       "      <td>I'm just me. I don't want or need fancy things...</td>\n",
       "      <td>3060</td>\n",
       "      <td>3168</td>\n",
       "      <td>Illinois</td>\n",
       "      <td>Central Time (US &amp; Canada)</td>\n",
       "    </tr>\n",
       "    <tr>\n",
       "      <th>4</th>\n",
       "      <td>690342744594739202</td>\n",
       "      <td>Three arrested following #robbery of card game...</td>\n",
       "      <td>0</td>\n",
       "      <td>0</td>\n",
       "      <td>Crime News Updates</td>\n",
       "      <td>2016-01-22 01:18:30</td>\n",
       "      <td>100986964</td>\n",
       "      <td>PulpNews</td>\n",
       "      <td>PulpNews Crime</td>\n",
       "      <td>2010-01-01 14:32:20</td>\n",
       "      <td>The Fastest Crime News Updates on the Planet! ...</td>\n",
       "      <td>3889</td>\n",
       "      <td>806</td>\n",
       "      <td>USA</td>\n",
       "      <td>Eastern Time (US &amp; Canada)</td>\n",
       "    </tr>\n",
       "  </tbody>\n",
       "</table>\n",
       "</div>"
      ],
      "text/plain": [
       "              tweetID                                          tweetText  \\\n",
       "0  690348254723248130  Not all Asians know martial art JT BRUUUH #asi...   \n",
       "1  690346909580525568  Melo starts the Allstar game instead of DeMar?...   \n",
       "2  690345930969747461  #GermanVillage: #Robbery victim reports purse ...   \n",
       "3  690344962291011586  RT @RockfordScanner: #RockfordScanner Victim f...   \n",
       "4  690342744594739202  Three arrested following #robbery of card game...   \n",
       "\n",
       "   tweetRetweetCt  tweetFavoriteCt          tweetSource        tweetCreated  \\\n",
       "0               0                0  Vine - Make a Scene 2016-01-22 01:40:24   \n",
       "1               0                0   Twitter for iPhone 2016-01-22 01:35:03   \n",
       "2               0                0   Twitter Web Client 2016-01-22 01:31:10   \n",
       "3               3                0   Twitter Web Client 2016-01-22 01:27:19   \n",
       "4               0                0   Crime News Updates 2016-01-22 01:18:30   \n",
       "\n",
       "       userID      userScreen        userName        userCreateDt  \\\n",
       "0  3145813374          F66Ryo           Ryooo 2015-04-09 08:41:13   \n",
       "1  3249481638  luca_achille98   Luca Bozzetto 2015-06-19 06:10:01   \n",
       "2    82662452      TWFoodWine   Food and Wine 2009-10-15 17:06:33   \n",
       "3   285636756     HelpforBear     Charlene R. 2011-04-21 14:28:37   \n",
       "4   100986964        PulpNews  PulpNews Crime 2010-01-01 14:32:20   \n",
       "\n",
       "                                            userDesc  userFollowerCt  \\\n",
       "0  #hiphop #edm #音楽 #music 好き #followme !! /MC梁瑠 ...             143   \n",
       "1                                                                 20   \n",
       "2  Sharing news and updates about the central Ohi...            1521   \n",
       "3  I'm just me. I don't want or need fancy things...            3060   \n",
       "4  The Fastest Crime News Updates on the Planet! ...            3889   \n",
       "\n",
       "   userFriendsCt userLocation                userTimezone  \n",
       "0            147                                     None  \n",
       "1             28                                     None  \n",
       "2           1221     Columbus  Central Time (US & Canada)  \n",
       "3           3168     Illinois  Central Time (US & Canada)  \n",
       "4            806          USA  Eastern Time (US & Canada)  "
      ]
     },
     "execution_count": 11,
     "metadata": {},
     "output_type": "execute_result"
    }
   ],
   "source": [
    "# Let's check the top 5 records in the Data Set\n",
    "DataSet.head(5)    \n"
   ]
  },
  {
   "cell_type": "markdown",
   "metadata": {},
   "source": [
    "## let's try to connect to the database"
   ]
  },
  {
   "cell_type": "code",
   "execution_count": 1,
   "metadata": {
    "collapsed": false
   },
   "outputs": [
    {
     "name": "stdout",
     "output_type": "stream",
     "text": [
      "unable to connect\n"
     ]
    }
   ],
   "source": [
    "\n",
    "\n",
    "\n",
    "\n",
    "\n",
    "\n",
    "\n",
    "try:\n",
    "    conn = psycopg2.connect(\"dbname=tweet user=postgres password=po$t host=localhost\")\n",
    "    print \"connected\"\n",
    "except:\n",
    "    print \"unable to connect\"\n",
    "    \n",
    "    \n",
    "## insert data into database from Python (proof of concept - this won't be useful for big data, of course)\n",
    "## df is any pandas dataframe \n",
    "tweet_term_table.to_sql('tweet_term_table', engine, if_exists='replace')"
   ]
  },
  {
   "cell_type": "code",
   "execution_count": 9,
   "metadata": {
    "collapsed": false
   },
   "outputs": [],
   "source": [
    "#Pass the tweets list to the above function to create a DataFrame\n",
    "for tweet in results:\n",
    "        print tweet.created_at, tweet.text, tweet.user.location\n",
    "        \n",
    "#DataSet = toDataFrame(results)"
   ]
  },
  {
   "cell_type": "code",
   "execution_count": 71,
   "metadata": {
    "collapsed": false
   },
   "outputs": [
    {
     "name": "stdout",
     "output_type": "stream",
     "text": [
      "Eastern Time (US & Canada)    1\n",
      "Name: userTimezone, dtype: int64\n"
     ]
    }
   ],
   "source": [
    "\n",
    "\n",
    "\n",
    "\n",
    "\n",
    "\n",
    "\n",
    "# Count the number of tweets in each time zone and get the first 10\n",
    "tzs = DataSet['userTimezone'].value_counts()[:10]\n",
    "print tzs"
   ]
  },
  {
   "cell_type": "code",
   "execution_count": 72,
   "metadata": {
    "collapsed": false
   },
   "outputs": [
    {
     "data": {
      "text/plain": [
       "<matplotlib.text.Text at 0x7f92a7341610>"
      ]
     },
     "execution_count": 72,
     "metadata": {},
     "output_type": "execute_result"
    }
   ],
   "source": [
    "# Create a bar-graph figure of the specified size23theft\n",
    "plt.rcParams['figure.figsize'] = (15, 5)\n",
    "\n",
    "# Plot the Time Zone data as a bar-graph\n",
    "tzs.plot(kind='bar')\n",
    "\n",
    "\n",
    "# Assign labels and title to the graph to make it more presentable\n",
    "plt.xlabel('Timezones')\n",
    "plt.ylabel('Tweet Count')\n",
    "plt.title('Top 10 Timezones tweeting about #Oscars2015')\n"
   ]
  },
  {
   "cell_type": "code",
   "execution_count": 30,
   "metadata": {
    "collapsed": false
   },
   "outputs": [
    {
     "data": {
      "text/plain": [
       "652"
      ]
     },
     "execution_count": 30,
     "metadata": {},
     "output_type": "execute_result"
    }
   ],
   "source": [
    "# 'None' is treated as null here, so I'll remove all the records having 'None' in their 'userTimezone' column\n",
    "DataSet = DataSet[DataSet.userTimezone.notnull()]\n",
    "\n",
    "# Let's also check how many records are we left with now\n",
    "len(DataSet)\n"
   ]
  }
 ],
 "metadata": {
  "kernelspec": {
   "display_name": "Python 2",
   "language": "python",
   "name": "python2"
  },
  "language_info": {
   "codemirror_mode": {
    "name": "ipython",
    "version": 2
   },
   "file_extension": ".py",
   "mimetype": "text/x-python",
   "name": "python",
   "nbconvert_exporter": "python",
   "pygments_lexer": "ipython2",
   "version": "2.7.11"
  }
 },
 "nbformat": 4,
 "nbformat_minor": 0
}
