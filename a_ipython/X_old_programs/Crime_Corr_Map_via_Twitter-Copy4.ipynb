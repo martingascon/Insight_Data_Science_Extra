{
 "cells": [
  {
   "cell_type": "code",
   "execution_count": 40,
   "metadata": {
    "collapsed": true
   },
   "outputs": [],
   "source": [
    "import tweepy\n",
    "import pandas as pd\n",
    "import json\n",
    "import psycopg2"
   ]
  },
  {
   "cell_type": "code",
   "execution_count": 41,
   "metadata": {
    "collapsed": false
   },
   "outputs": [],
   "source": [
    "settings = json.load(open('settings.json', 'r'))\n",
    "twitter_settings = settings['twitter']"
   ]
  },
  {
   "cell_type": "code",
   "execution_count": 42,
   "metadata": {
    "collapsed": false
   },
   "outputs": [],
   "source": [
    "#Use tweepy.OAuthHandler to create an authentication using the given key and secret\n",
    "auth = tweepy.OAuthHandler(twitter_settings['client_id'], twitter_settings['client_secret'])\n",
    "\n",
    "#Connect to the Twitter API using the authentication      consumer_key=cKey, consumer_secret=cSecret\n",
    "api = tweepy.API(auth)"
   ]
  },
  {
   "cell_type": "code",
   "execution_count": 43,
   "metadata": {
    "collapsed": false
   },
   "outputs": [],
   "source": [
    "results = []\n",
    "query = '%23burglary San Francisco'\n",
    "max_tweets = 10\n",
    "for tweet in tweepy.Cursor(api.search,q=query, lang=\"en\").items():\n",
    "    results.append(tweet)\n",
    "\n",
    "    #print tweet.created_at, tweet.text, tweet.user.location\n",
    "    #print tweet.created_at, tweet.text, tweet.user.location, tweet.retweet_count\n",
    "    #csvWriter.writerow([tweet.created_at, tweet.text.encode('utf-8'),tweet.user.location])\n",
    "\n",
    "#print results[0]   \n"
   ]
  },
  {
   "cell_type": "code",
   "execution_count": 44,
   "metadata": {
    "collapsed": false
   },
   "outputs": [
    {
     "name": "stdout",
     "output_type": "stream",
     "text": [
      "0\n"
     ]
    }
   ],
   "source": [
    "# Verify the number of items returned\n",
    "print len(results)"
   ]
  },
  {
   "cell_type": "code",
   "execution_count": 45,
   "metadata": {
    "collapsed": false
   },
   "outputs": [],
   "source": [
    "# Create a function to convert a given list of tweets into a Pandas DataFrame.\n",
    "# The DataFrame will consist of only the values, which I think might be useful for \n",
    "# analysis...\n",
    "\n",
    "def toDataFrame(tweets):\n",
    "    DataSet = pd.DataFrame()\n",
    "    DataSet['tweetID'] = [tweet.id for tweet in tweets]\n",
    "    DataSet['tweetText'] = [tweet.text for tweet in tweets]\n",
    "    DataSet['tweetRetweetCt'] = [tweet.retweet_count for tweet in tweets]\n",
    "    DataSet['tweetFavoriteCt'] = [tweet.favorite_count for tweet in tweets]\n",
    "    DataSet['tweetSource'] = [tweet.source for tweet in tweets]\n",
    "    DataSet['tweetCreated'] = [tweet.created_at for tweet in tweets]\n",
    "    DataSet['userID'] = [tweet.user.id for tweet in tweets]\n",
    "    DataSet['userScreen'] = [tweet.user.screen_name for tweet in tweets]\n",
    "    DataSet['userName'] = [tweet.user.name for tweet in tweets]\n",
    "    DataSet['userCreateDt'] = [tweet.user.created_at for tweet in tweets]\n",
    "    DataSet['userDesc'] = [tweet.user.description for tweet in tweets]\n",
    "    DataSet['userFollowerCt'] = [tweet.user.followers_count for tweet in tweets]\n",
    "    DataSet['userFriendsCt'] = [tweet.user.friends_count for tweet in tweets]\n",
    "    DataSet['userLocation'] = [tweet.user.location for tweet in tweets]\n",
    "    DataSet['userTimezone'] = [tweet.user.time_zone for tweet in tweets]\n",
    "    return DataSet\n",
    "\n",
    "#Pass the tweets list to the above function to create a DataFrame\n",
    "\n",
    "\n",
    "DataSet = toDataFrame(results)"
   ]
  },
  {
   "cell_type": "code",
   "execution_count": 46,
   "metadata": {
    "collapsed": false
   },
   "outputs": [
    {
     "data": {
      "text/html": [
       "<div>\n",
       "<table border=\"1\" class=\"dataframe\">\n",
       "  <thead>\n",
       "    <tr style=\"text-align: right;\">\n",
       "      <th></th>\n",
       "      <th>tweetID</th>\n",
       "      <th>tweetText</th>\n",
       "      <th>tweetRetweetCt</th>\n",
       "      <th>tweetFavoriteCt</th>\n",
       "      <th>tweetSource</th>\n",
       "      <th>tweetCreated</th>\n",
       "      <th>userID</th>\n",
       "      <th>userScreen</th>\n",
       "      <th>userName</th>\n",
       "      <th>userCreateDt</th>\n",
       "      <th>userDesc</th>\n",
       "      <th>userFollowerCt</th>\n",
       "      <th>userFriendsCt</th>\n",
       "      <th>userLocation</th>\n",
       "      <th>userTimezone</th>\n",
       "    </tr>\n",
       "  </thead>\n",
       "  <tbody>\n",
       "  </tbody>\n",
       "</table>\n",
       "</div>"
      ],
      "text/plain": [
       "Empty DataFrame\n",
       "Columns: [tweetID, tweetText, tweetRetweetCt, tweetFavoriteCt, tweetSource, tweetCreated, userID, userScreen, userName, userCreateDt, userDesc, userFollowerCt, userFriendsCt, userLocation, userTimezone]\n",
       "Index: []"
      ]
     },
     "execution_count": 46,
     "metadata": {},
     "output_type": "execute_result"
    }
   ],
   "source": [
    "# Let's check the top 5 records in the Data Set\n",
    "DataSet.head(5)    \n"
   ]
  },
  {
   "cell_type": "code",
   "execution_count": null,
   "metadata": {
    "collapsed": false
   },
   "outputs": [],
   "source": [
    "# Count the number of tweets in each time zone and get the first 10\n",
    "tzs = DataSet['userTimezone'].value_counts()[:10]\n",
    "print tzs"
   ]
  },
  {
   "cell_type": "code",
   "execution_count": null,
   "metadata": {
    "collapsed": false
   },
   "outputs": [],
   "source": [
    "# Create a bar-graph figure of the specified size\n",
    "plt.rcParams['figure.figsize'] = (15, 5)\n",
    "\n",
    "# Plot the Time Zone data as a bar-graph\n",
    "tzs.plot(kind='bar')\n",
    "\n",
    "\n",
    "# Assign labels and title to the graph to make it more presentable\n",
    "plt.xlabel('Timezones')\n",
    "plt.ylabel('Tweet Count')\n",
    "plt.title('Top 10 Timezones tweeting about #Oscars2015')\n"
   ]
  },
  {
   "cell_type": "code",
   "execution_count": 22,
   "metadata": {
    "collapsed": false
   },
   "outputs": [
    {
     "ename": "TypeError",
     "evalue": "'NoneType' object is not iterable",
     "output_type": "error",
     "traceback": [
      "\u001b[1;31m---------------------------------------------------------------------------\u001b[0m",
      "\u001b[1;31mTypeError\u001b[0m                                 Traceback (most recent call last)",
      "\u001b[1;32m<ipython-input-22-0d7324926f02>\u001b[0m in \u001b[0;36m<module>\u001b[1;34m()\u001b[0m\n\u001b[0;32m      1\u001b[0m \u001b[1;32mimport\u001b[0m \u001b[0mvincent\u001b[0m\u001b[1;33m\u001b[0m\u001b[0m\n\u001b[0;32m      2\u001b[0m \u001b[0mworld_countries\u001b[0m \u001b[1;33m=\u001b[0m \u001b[1;34mr'world-countries.json'\u001b[0m\u001b[1;33m\u001b[0m\u001b[0m\n\u001b[1;32m----> 3\u001b[1;33m \u001b[0mworld\u001b[0m \u001b[1;33m=\u001b[0m \u001b[0mvincent\u001b[0m\u001b[1;33m.\u001b[0m\u001b[0mMap\u001b[0m\u001b[1;33m(\u001b[0m\u001b[0mwidth\u001b[0m\u001b[1;33m=\u001b[0m\u001b[1;36m120\u001b[0m\u001b[1;33m,\u001b[0m \u001b[0mheight\u001b[0m\u001b[1;33m=\u001b[0m\u001b[1;36m1000\u001b[0m\u001b[1;33m)\u001b[0m\u001b[1;33m\u001b[0m\u001b[0m\n\u001b[0m\u001b[0;32m      4\u001b[0m \u001b[0mworld\u001b[0m\u001b[1;33m.\u001b[0m\u001b[0mgeo_data\u001b[0m\u001b[1;33m(\u001b[0m\u001b[0mprojection\u001b[0m\u001b[1;33m=\u001b[0m\u001b[1;34m'winkel3'\u001b[0m\u001b[1;33m,\u001b[0m \u001b[0mscale\u001b[0m\u001b[1;33m=\u001b[0m\u001b[1;36m200\u001b[0m\u001b[1;33m,\u001b[0m \u001b[0mworld\u001b[0m\u001b[1;33m=\u001b[0m\u001b[0mworld_countries\u001b[0m\u001b[1;33m)\u001b[0m\u001b[1;33m\u001b[0m\u001b[0m\n\u001b[0;32m      5\u001b[0m \u001b[0mworld\u001b[0m\u001b[1;33m.\u001b[0m\u001b[0mto_json\u001b[0m\u001b[1;33m(\u001b[0m\u001b[1;34m'/home/martin/Dropbox/a_Insight/Project/world.jpg'\u001b[0m\u001b[1;33m)\u001b[0m\u001b[1;33m\u001b[0m\u001b[0m\n",
      "\u001b[1;32m/home/martin/anaconda2/lib/python2.7/site-packages/vincent/charts.pyc\u001b[0m in \u001b[0;36m__init__\u001b[1;34m(self, data, geo_data, projection, center, translate, scale, rotate, data_bind, data_key, map_key, brew, *args, **kwargs)\u001b[0m\n\u001b[0;32m    409\u001b[0m \u001b[1;33m\u001b[0m\u001b[0m\n\u001b[0;32m    410\u001b[0m         \u001b[1;31m# Add Data\u001b[0m\u001b[1;33m\u001b[0m\u001b[1;33m\u001b[0m\u001b[0m\n\u001b[1;32m--> 411\u001b[1;33m         \u001b[1;32mfor\u001b[0m \u001b[0mdat\u001b[0m \u001b[1;32min\u001b[0m \u001b[0mgeo_data\u001b[0m\u001b[1;33m:\u001b[0m\u001b[1;33m\u001b[0m\u001b[0m\n\u001b[0m\u001b[0;32m    412\u001b[0m             \u001b[1;31m# Data\u001b[0m\u001b[1;33m\u001b[0m\u001b[1;33m\u001b[0m\u001b[0m\n\u001b[0;32m    413\u001b[0m             \u001b[0mtransforms\u001b[0m \u001b[1;33m=\u001b[0m \u001b[1;33m[\u001b[0m\u001b[1;33m]\u001b[0m\u001b[1;33m\u001b[0m\u001b[0m\n",
      "\u001b[1;31mTypeError\u001b[0m: 'NoneType' object is not iterable"
     ]
    }
   ],
   "source": [
    "import vincent\n",
    "world_countries = r'world-countries.json'\n",
    "world = vincent.Map(width=120, height=1000)\n",
    "world.geo_data(projection='winkel3', scale=200, world=world_countries)\n",
    "world.to_json('/home/martin/Dropbox/a_Insight/Project/world.jpg')\n",
    "\n",
    "vis = vincent.Map(width=1000, height=800)\n",
    "#Add the US county data and a new line color\n",
    "vis.geo_data(projection='albersUsa', scale=1000, counties=county_geo)\n",
    "vis + ('2B4ECF', 'marks', 0, 'properties', 'enter', 'stroke', 'value')\n",
    "\n",
    "#Add the state data, remove the fill, write Vega spec output to JSON\n",
    "vis.geo_data(states=state_geo)\n",
    "vis - ('fill', 'marks', 1, 'properties', 'enter')\n",
    "vis.to_json(path)"
   ]
  },
  {
   "cell_type": "code",
   "execution_count": null,
   "metadata": {
    "collapsed": true
   },
   "outputs": [],
   "source": []
  }
 ],
 "metadata": {
  "kernelspec": {
   "display_name": "Python 2",
   "language": "python",
   "name": "python2"
  },
  "language_info": {
   "codemirror_mode": {
    "name": "ipython",
    "version": 2
   },
   "file_extension": ".py",
   "mimetype": "text/x-python",
   "name": "python",
   "nbconvert_exporter": "python",
   "pygments_lexer": "ipython2",
   "version": "2.7.10"
  }
 },
 "nbformat": 4,
 "nbformat_minor": 0
}
