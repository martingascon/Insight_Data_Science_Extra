{
 "cells": [
  {
   "cell_type": "code",
   "execution_count": 1,
   "metadata": {
    "collapsed": true
   },
   "outputs": [],
   "source": [
    "import tweepy\n",
    "import pandas as pd\n",
    "import matplotlib.pyplot as plt\n",
    "import csv\n",
    "import json\n",
    "import psycopg2"
   ]
  },
  {
   "cell_type": "code",
   "execution_count": 2,
   "metadata": {
    "collapsed": false
   },
   "outputs": [],
   "source": [
    "settings = json.load(open('settings.json', 'r'))"
   ]
  },
  {
   "cell_type": "code",
   "execution_count": 3,
   "metadata": {
    "collapsed": true
   },
   "outputs": [],
   "source": [
    "twitter_settings = settings['twitter']"
   ]
  },
  {
   "cell_type": "code",
   "execution_count": 4,
   "metadata": {
    "collapsed": true
   },
   "outputs": [],
   "source": [
    "#Use tweepy.OAuthHandler to create an authentication using the given key and secret\n",
    "auth = tweepy.OAuthHandler(twitter_settings['client_id'], twitter_settings['client_secret'])\n",
    "\n",
    "#Connect to the Twitter API using the authentication      consumer_key=cKey, consumer_secret=cSecret\n",
    "api = tweepy.API(auth)"
   ]
  },
  {
   "cell_type": "code",
   "execution_count": 5,
   "metadata": {
    "collapsed": false
   },
   "outputs": [
    {
     "name": "stdout",
     "output_type": "stream",
     "text": [
      "[Status(contributors=None, truncated=False, text=u'#Robbery in #Hamilton tops The Trentonian #Police Blotter for #Jan. 20, 2016 - Jan 20 @ 2:00 PM ET  https://t.co/i3nzj7sD6T', is_quote_status=False, in_reply_to_status_id=None, id=689885325297065984, favorite_count=0, _api=<tweepy.api.API object at 0x7fafa6d47f50>, author=User(follow_request_sent=None, has_extended_profile=False, profile_use_background_image=True, _json={u'follow_request_sent': None, u'has_extended_profile': False, u'profile_use_background_image': True, u'default_profile_image': False, u'id': 100986964, u'profile_background_image_url_https': u'https://pbs.twimg.com/profile_background_images/478687798245859330/xW-zJmuU.jpeg', u'verified': False, u'profile_text_color': u'0066CC', u'profile_image_url_https': u'https://pbs.twimg.com/profile_images/478705015041712128/BpM9m5yT_normal.jpeg', u'profile_sidebar_fill_color': u'FFFFFF', u'entities': {u'url': {u'urls': [{u'url': u'http://t.co/M6Ch3yBNB5', u'indices': [0, 22], u'expanded_url': u'http://pulpnews.com', u'display_url': u'pulpnews.com'}]}, u'description': {u'urls': []}}, u'followers_count': 3882, u'profile_sidebar_border_color': u'000000', u'id_str': u'100986964', u'profile_background_color': u'000000', u'listed_count': 586, u'is_translation_enabled': False, u'utc_offset': -18000, u'statuses_count': 2149106, u'description': u'The Fastest Crime News Updates on the Planet! Are you a news-a-holic? We have your fix right here.', u'friends_count': 806, u'location': u'USA', u'profile_link_color': u'CE0000', u'profile_image_url': u'http://pbs.twimg.com/profile_images/478705015041712128/BpM9m5yT_normal.jpeg', u'following': None, u'geo_enabled': False, u'profile_banner_url': u'https://pbs.twimg.com/profile_banners/100986964/1402968635', u'profile_background_image_url': u'http://pbs.twimg.com/profile_background_images/478687798245859330/xW-zJmuU.jpeg', u'screen_name': u'PulpNews', u'lang': u'en', u'profile_background_tile': True, u'favourites_count': 31, u'name': u'PulpNews Crime', u'notifications': None, u'url': u'http://t.co/M6Ch3yBNB5', u'created_at': u'Fri Jan 01 14:32:20 +0000 2010', u'contributors_enabled': False, u'time_zone': u'Eastern Time (US & Canada)', u'protected': False, u'default_profile': False, u'is_translator': False}, time_zone=u'Eastern Time (US & Canada)', id=100986964, _api=<tweepy.api.API object at 0x7fafa6d47f50>, verified=False, profile_text_color=u'0066CC', profile_image_url_https=u'https://pbs.twimg.com/profile_images/478705015041712128/BpM9m5yT_normal.jpeg', profile_sidebar_fill_color=u'FFFFFF', is_translator=False, geo_enabled=False, entities={u'url': {u'urls': [{u'url': u'http://t.co/M6Ch3yBNB5', u'indices': [0, 22], u'expanded_url': u'http://pulpnews.com', u'display_url': u'pulpnews.com'}]}, u'description': {u'urls': []}}, followers_count=3882, protected=False, id_str=u'100986964', default_profile_image=False, listed_count=586, lang=u'en', utc_offset=-18000, statuses_count=2149106, description=u'The Fastest Crime News Updates on the Planet! Are you a news-a-holic? We have your fix right here.', friends_count=806, profile_link_color=u'CE0000', profile_image_url=u'http://pbs.twimg.com/profile_images/478705015041712128/BpM9m5yT_normal.jpeg', notifications=None, profile_background_image_url_https=u'https://pbs.twimg.com/profile_background_images/478687798245859330/xW-zJmuU.jpeg', profile_background_color=u'000000', profile_banner_url=u'https://pbs.twimg.com/profile_banners/100986964/1402968635', profile_background_image_url=u'http://pbs.twimg.com/profile_background_images/478687798245859330/xW-zJmuU.jpeg', name=u'PulpNews Crime', is_translation_enabled=False, profile_background_tile=True, favourites_count=31, screen_name=u'PulpNews', url=u'http://t.co/M6Ch3yBNB5', created_at=datetime.datetime(2010, 1, 1, 14, 32, 20), contributors_enabled=False, location=u'USA', profile_sidebar_border_color=u'000000', default_profile=False, following=False), _json={u'contributors': None, u'truncated': False, u'text': u'#Robbery in #Hamilton tops The Trentonian #Police Blotter for #Jan. 20, 2016 - Jan 20 @ 2:00 PM ET  https://t.co/i3nzj7sD6T', u'is_quote_status': False, u'in_reply_to_status_id': None, u'id': 689885325297065984, u'favorite_count': 0, u'source': u'<a href=\"http://pulpnews.com/twitter/index.php\" rel=\"nofollow\">Crime News Updates</a>', u'retweeted': False, u'coordinates': None, u'entities': {u'symbols': [], u'user_mentions': [], u'hashtags': [{u'indices': [0, 8], u'text': u'Robbery'}, {u'indices': [12, 21], u'text': u'Hamilton'}, {u'indices': [42, 49], u'text': u'Police'}, {u'indices': [62, 66], u'text': u'Jan'}], u'urls': [{u'url': u'https://t.co/i3nzj7sD6T', u'indices': [100, 123], u'expanded_url': u'http://oddcrimes.com/o/i.php?id=1659914154', u'display_url': u'oddcrimes.com/o/i.php?id=165\\u2026'}]}, u'in_reply_to_screen_name': None, u'in_reply_to_user_id': None, u'retweet_count': 0, u'id_str': u'689885325297065984', u'favorited': False, u'user': {u'follow_request_sent': None, u'has_extended_profile': False, u'profile_use_background_image': True, u'default_profile_image': False, u'id': 100986964, u'profile_background_image_url_https': u'https://pbs.twimg.com/profile_background_images/478687798245859330/xW-zJmuU.jpeg', u'verified': False, u'profile_text_color': u'0066CC', u'profile_image_url_https': u'https://pbs.twimg.com/profile_images/478705015041712128/BpM9m5yT_normal.jpeg', u'profile_sidebar_fill_color': u'FFFFFF', u'entities': {u'url': {u'urls': [{u'url': u'http://t.co/M6Ch3yBNB5', u'indices': [0, 22], u'expanded_url': u'http://pulpnews.com', u'display_url': u'pulpnews.com'}]}, u'description': {u'urls': []}}, u'followers_count': 3882, u'profile_sidebar_border_color': u'000000', u'id_str': u'100986964', u'profile_background_color': u'000000', u'listed_count': 586, u'is_translation_enabled': False, u'utc_offset': -18000, u'statuses_count': 2149106, u'description': u'The Fastest Crime News Updates on the Planet! Are you a news-a-holic? We have your fix right here.', u'friends_count': 806, u'location': u'USA', u'profile_link_color': u'CE0000', u'profile_image_url': u'http://pbs.twimg.com/profile_images/478705015041712128/BpM9m5yT_normal.jpeg', u'following': None, u'geo_enabled': False, u'profile_banner_url': u'https://pbs.twimg.com/profile_banners/100986964/1402968635', u'profile_background_image_url': u'http://pbs.twimg.com/profile_background_images/478687798245859330/xW-zJmuU.jpeg', u'screen_name': u'PulpNews', u'lang': u'en', u'profile_background_tile': True, u'favourites_count': 31, u'name': u'PulpNews Crime', u'notifications': None, u'url': u'http://t.co/M6Ch3yBNB5', u'created_at': u'Fri Jan 01 14:32:20 +0000 2010', u'contributors_enabled': False, u'time_zone': u'Eastern Time (US & Canada)', u'protected': False, u'default_profile': False, u'is_translator': False}, u'geo': None, u'in_reply_to_user_id_str': None, u'possibly_sensitive': False, u'lang': u'en', u'created_at': u'Wed Jan 20 19:00:53 +0000 2016', u'in_reply_to_status_id_str': None, u'place': None, u'metadata': {u'iso_language_code': u'en', u'result_type': u'recent'}}, coordinates=None, entities={u'symbols': [], u'user_mentions': [], u'hashtags': [{u'indices': [0, 8], u'text': u'Robbery'}, {u'indices': [12, 21], u'text': u'Hamilton'}, {u'indices': [42, 49], u'text': u'Police'}, {u'indices': [62, 66], u'text': u'Jan'}], u'urls': [{u'url': u'https://t.co/i3nzj7sD6T', u'indices': [100, 123], u'expanded_url': u'http://oddcrimes.com/o/i.php?id=1659914154', u'display_url': u'oddcrimes.com/o/i.php?id=165\\u2026'}]}, in_reply_to_screen_name=None, id_str=u'689885325297065984', retweet_count=0, in_reply_to_user_id=None, favorited=False, source_url=u'http://pulpnews.com/twitter/index.php', user=User(follow_request_sent=None, has_extended_profile=False, profile_use_background_image=True, _json={u'follow_request_sent': None, u'has_extended_profile': False, u'profile_use_background_image': True, u'default_profile_image': False, u'id': 100986964, u'profile_background_image_url_https': u'https://pbs.twimg.com/profile_background_images/478687798245859330/xW-zJmuU.jpeg', u'verified': False, u'profile_text_color': u'0066CC', u'profile_image_url_https': u'https://pbs.twimg.com/profile_images/478705015041712128/BpM9m5yT_normal.jpeg', u'profile_sidebar_fill_color': u'FFFFFF', u'entities': {u'url': {u'urls': [{u'url': u'http://t.co/M6Ch3yBNB5', u'indices': [0, 22], u'expanded_url': u'http://pulpnews.com', u'display_url': u'pulpnews.com'}]}, u'description': {u'urls': []}}, u'followers_count': 3882, u'profile_sidebar_border_color': u'000000', u'id_str': u'100986964', u'profile_background_color': u'000000', u'listed_count': 586, u'is_translation_enabled': False, u'utc_offset': -18000, u'statuses_count': 2149106, u'description': u'The Fastest Crime News Updates on the Planet! Are you a news-a-holic? We have your fix right here.', u'friends_count': 806, u'location': u'USA', u'profile_link_color': u'CE0000', u'profile_image_url': u'http://pbs.twimg.com/profile_images/478705015041712128/BpM9m5yT_normal.jpeg', u'following': None, u'geo_enabled': False, u'profile_banner_url': u'https://pbs.twimg.com/profile_banners/100986964/1402968635', u'profile_background_image_url': u'http://pbs.twimg.com/profile_background_images/478687798245859330/xW-zJmuU.jpeg', u'screen_name': u'PulpNews', u'lang': u'en', u'profile_background_tile': True, u'favourites_count': 31, u'name': u'PulpNews Crime', u'notifications': None, u'url': u'http://t.co/M6Ch3yBNB5', u'created_at': u'Fri Jan 01 14:32:20 +0000 2010', u'contributors_enabled': False, u'time_zone': u'Eastern Time (US & Canada)', u'protected': False, u'default_profile': False, u'is_translator': False}, time_zone=u'Eastern Time (US & Canada)', id=100986964, _api=<tweepy.api.API object at 0x7fafa6d47f50>, verified=False, profile_text_color=u'0066CC', profile_image_url_https=u'https://pbs.twimg.com/profile_images/478705015041712128/BpM9m5yT_normal.jpeg', profile_sidebar_fill_color=u'FFFFFF', is_translator=False, geo_enabled=False, entities={u'url': {u'urls': [{u'url': u'http://t.co/M6Ch3yBNB5', u'indices': [0, 22], u'expanded_url': u'http://pulpnews.com', u'display_url': u'pulpnews.com'}]}, u'description': {u'urls': []}}, followers_count=3882, protected=False, id_str=u'100986964', default_profile_image=False, listed_count=586, lang=u'en', utc_offset=-18000, statuses_count=2149106, description=u'The Fastest Crime News Updates on the Planet! Are you a news-a-holic? We have your fix right here.', friends_count=806, profile_link_color=u'CE0000', profile_image_url=u'http://pbs.twimg.com/profile_images/478705015041712128/BpM9m5yT_normal.jpeg', notifications=None, profile_background_image_url_https=u'https://pbs.twimg.com/profile_background_images/478687798245859330/xW-zJmuU.jpeg', profile_background_color=u'000000', profile_banner_url=u'https://pbs.twimg.com/profile_banners/100986964/1402968635', profile_background_image_url=u'http://pbs.twimg.com/profile_background_images/478687798245859330/xW-zJmuU.jpeg', name=u'PulpNews Crime', is_translation_enabled=False, profile_background_tile=True, favourites_count=31, screen_name=u'PulpNews', url=u'http://t.co/M6Ch3yBNB5', created_at=datetime.datetime(2010, 1, 1, 14, 32, 20), contributors_enabled=False, location=u'USA', profile_sidebar_border_color=u'000000', default_profile=False, following=False), geo=None, in_reply_to_user_id_str=None, possibly_sensitive=False, lang=u'en', created_at=datetime.datetime(2016, 1, 20, 19, 0, 53), in_reply_to_status_id_str=None, place=None, source=u'Crime News Updates', retweeted=False, metadata={u'iso_language_code': u'en', u'result_type': u'recent'}), Status(contributors=None, truncated=False, text=u'The AA came out to help my wife to be robbed of \\xa3222 for putting 4 litres of wrong fuel in car even though your a member #robbery', is_quote_status=False, in_reply_to_status_id=None, id=689883567841763330, favorite_count=0, _api=<tweepy.api.API object at 0x7fafa6d47f50>, author=User(follow_request_sent=None, has_extended_profile=False, profile_use_background_image=False, _json={u'follow_request_sent': None, u'has_extended_profile': False, u'profile_use_background_image': False, u'default_profile_image': False, u'id': 250254949, u'profile_background_image_url_https': u'https://abs.twimg.com/images/themes/theme18/bg.gif', u'verified': False, u'profile_text_color': u'000000', u'profile_image_url_https': u'https://pbs.twimg.com/profile_images/425023661733474304/WVh3yGFb_normal.jpeg', u'profile_sidebar_fill_color': u'000000', u'entities': {u'description': {u'urls': []}}, u'followers_count': 148, u'profile_sidebar_border_color': u'000000', u'id_str': u'250254949', u'profile_background_color': u'000000', u'listed_count': 8, u'is_translation_enabled': False, u'utc_offset': 0, u'statuses_count': 2437, u'description': u\"I'm husband to a beautiful wife and dad and Nan-dad with a lovely family  have two beagles and I'm life long fan of West Bromwich Albion.\", u'friends_count': 410, u'location': u'Worcestershire', u'profile_link_color': u'9266CC', u'profile_image_url': u'http://pbs.twimg.com/profile_images/425023661733474304/WVh3yGFb_normal.jpeg', u'following': None, u'geo_enabled': False, u'profile_background_image_url': u'http://abs.twimg.com/images/themes/theme18/bg.gif', u'screen_name': u'Dazbaza', u'lang': u'en', u'profile_background_tile': False, u'favourites_count': 37, u'name': u'Darren Pemberton', u'notifications': None, u'url': None, u'created_at': u'Thu Feb 10 18:44:01 +0000 2011', u'contributors_enabled': False, u'time_zone': u'London', u'protected': False, u'default_profile': False, u'is_translator': False}, time_zone=u'London', id=250254949, _api=<tweepy.api.API object at 0x7fafa6d47f50>, verified=False, profile_text_color=u'000000', profile_image_url_https=u'https://pbs.twimg.com/profile_images/425023661733474304/WVh3yGFb_normal.jpeg', profile_sidebar_fill_color=u'000000', is_translator=False, geo_enabled=False, entities={u'description': {u'urls': []}}, followers_count=148, protected=False, id_str=u'250254949', default_profile_image=False, listed_count=8, lang=u'en', utc_offset=0, statuses_count=2437, description=u\"I'm husband to a beautiful wife and dad and Nan-dad with a lovely family  have two beagles and I'm life long fan of West Bromwich Albion.\", friends_count=410, profile_link_color=u'9266CC', profile_image_url=u'http://pbs.twimg.com/profile_images/425023661733474304/WVh3yGFb_normal.jpeg', notifications=None, profile_background_image_url_https=u'https://abs.twimg.com/images/themes/theme18/bg.gif', profile_background_color=u'000000', profile_background_image_url=u'http://abs.twimg.com/images/themes/theme18/bg.gif', name=u'Darren Pemberton', is_translation_enabled=False, profile_background_tile=False, favourites_count=37, screen_name=u'Dazbaza', url=None, created_at=datetime.datetime(2011, 2, 10, 18, 44, 1), contributors_enabled=False, location=u'Worcestershire', profile_sidebar_border_color=u'000000', default_profile=False, following=False), _json={u'contributors': None, u'truncated': False, u'text': u'The AA came out to help my wife to be robbed of \\xa3222 for putting 4 litres of wrong fuel in car even though your a member #robbery', u'is_quote_status': False, u'in_reply_to_status_id': None, u'id': 689883567841763330, u'favorite_count': 0, u'source': u'<a href=\"http://twitter.com\" rel=\"nofollow\">Twitter Web Client</a>', u'retweeted': False, u'coordinates': None, u'entities': {u'symbols': [], u'user_mentions': [], u'hashtags': [{u'indices': [121, 129], u'text': u'robbery'}], u'urls': []}, u'in_reply_to_screen_name': None, u'in_reply_to_user_id': None, u'retweet_count': 0, u'id_str': u'689883567841763330', u'favorited': False, u'user': {u'follow_request_sent': None, u'has_extended_profile': False, u'profile_use_background_image': False, u'default_profile_image': False, u'id': 250254949, u'profile_background_image_url_https': u'https://abs.twimg.com/images/themes/theme18/bg.gif', u'verified': False, u'profile_text_color': u'000000', u'profile_image_url_https': u'https://pbs.twimg.com/profile_images/425023661733474304/WVh3yGFb_normal.jpeg', u'profile_sidebar_fill_color': u'000000', u'entities': {u'description': {u'urls': []}}, u'followers_count': 148, u'profile_sidebar_border_color': u'000000', u'id_str': u'250254949', u'profile_background_color': u'000000', u'listed_count': 8, u'is_translation_enabled': False, u'utc_offset': 0, u'statuses_count': 2437, u'description': u\"I'm husband to a beautiful wife and dad and Nan-dad with a lovely family  have two beagles and I'm life long fan of West Bromwich Albion.\", u'friends_count': 410, u'location': u'Worcestershire', u'profile_link_color': u'9266CC', u'profile_image_url': u'http://pbs.twimg.com/profile_images/425023661733474304/WVh3yGFb_normal.jpeg', u'following': None, u'geo_enabled': False, u'profile_background_image_url': u'http://abs.twimg.com/images/themes/theme18/bg.gif', u'screen_name': u'Dazbaza', u'lang': u'en', u'profile_background_tile': False, u'favourites_count': 37, u'name': u'Darren Pemberton', u'notifications': None, u'url': None, u'created_at': u'Thu Feb 10 18:44:01 +0000 2011', u'contributors_enabled': False, u'time_zone': u'London', u'protected': False, u'default_profile': False, u'is_translator': False}, u'geo': None, u'in_reply_to_user_id_str': None, u'lang': u'en', u'created_at': u'Wed Jan 20 18:53:54 +0000 2016', u'in_reply_to_status_id_str': None, u'place': None, u'metadata': {u'iso_language_code': u'en', u'result_type': u'recent'}}, coordinates=None, entities={u'symbols': [], u'user_mentions': [], u'hashtags': [{u'indices': [121, 129], u'text': u'robbery'}], u'urls': []}, in_reply_to_screen_name=None, id_str=u'689883567841763330', retweet_count=0, in_reply_to_user_id=None, favorited=False, source_url=u'http://twitter.com', user=User(follow_request_sent=None, has_extended_profile=False, profile_use_background_image=False, _json={u'follow_request_sent': None, u'has_extended_profile': False, u'profile_use_background_image': False, u'default_profile_image': False, u'id': 250254949, u'profile_background_image_url_https': u'https://abs.twimg.com/images/themes/theme18/bg.gif', u'verified': False, u'profile_text_color': u'000000', u'profile_image_url_https': u'https://pbs.twimg.com/profile_images/425023661733474304/WVh3yGFb_normal.jpeg', u'profile_sidebar_fill_color': u'000000', u'entities': {u'description': {u'urls': []}}, u'followers_count': 148, u'profile_sidebar_border_color': u'000000', u'id_str': u'250254949', u'profile_background_color': u'000000', u'listed_count': 8, u'is_translation_enabled': False, u'utc_offset': 0, u'statuses_count': 2437, u'description': u\"I'm husband to a beautiful wife and dad and Nan-dad with a lovely family  have two beagles and I'm life long fan of West Bromwich Albion.\", u'friends_count': 410, u'location': u'Worcestershire', u'profile_link_color': u'9266CC', u'profile_image_url': u'http://pbs.twimg.com/profile_images/425023661733474304/WVh3yGFb_normal.jpeg', u'following': None, u'geo_enabled': False, u'profile_background_image_url': u'http://abs.twimg.com/images/themes/theme18/bg.gif', u'screen_name': u'Dazbaza', u'lang': u'en', u'profile_background_tile': False, u'favourites_count': 37, u'name': u'Darren Pemberton', u'notifications': None, u'url': None, u'created_at': u'Thu Feb 10 18:44:01 +0000 2011', u'contributors_enabled': False, u'time_zone': u'London', u'protected': False, u'default_profile': False, u'is_translator': False}, time_zone=u'London', id=250254949, _api=<tweepy.api.API object at 0x7fafa6d47f50>, verified=False, profile_text_color=u'000000', profile_image_url_https=u'https://pbs.twimg.com/profile_images/425023661733474304/WVh3yGFb_normal.jpeg', profile_sidebar_fill_color=u'000000', is_translator=False, geo_enabled=False, entities={u'description': {u'urls': []}}, followers_count=148, protected=False, id_str=u'250254949', default_profile_image=False, listed_count=8, lang=u'en', utc_offset=0, statuses_count=2437, description=u\"I'm husband to a beautiful wife and dad and Nan-dad with a lovely family  have two beagles and I'm life long fan of West Bromwich Albion.\", friends_count=410, profile_link_color=u'9266CC', profile_image_url=u'http://pbs.twimg.com/profile_images/425023661733474304/WVh3yGFb_normal.jpeg', notifications=None, profile_background_image_url_https=u'https://abs.twimg.com/images/themes/theme18/bg.gif', profile_background_color=u'000000', profile_background_image_url=u'http://abs.twimg.com/images/themes/theme18/bg.gif', name=u'Darren Pemberton', is_translation_enabled=False, profile_background_tile=False, favourites_count=37, screen_name=u'Dazbaza', url=None, created_at=datetime.datetime(2011, 2, 10, 18, 44, 1), contributors_enabled=False, location=u'Worcestershire', profile_sidebar_border_color=u'000000', default_profile=False, following=False), geo=None, in_reply_to_user_id_str=None, lang=u'en', created_at=datetime.datetime(2016, 1, 20, 18, 53, 54), in_reply_to_status_id_str=None, place=None, source=u'Twitter Web Client', retweeted=False, metadata={u'iso_language_code': u'en', u'result_type': u'recent'}), Status(contributors=None, truncated=False, text=u'Contact #police at 714-754-5637 with info on #robbery in #California &gt;&gt; https://t.co/909mwf16ic https://t.co/uzbmRWXc5O', is_quote_status=False, in_reply_to_status_id=None, id=689882363074088960, favorite_count=0, _api=<tweepy.api.API object at 0x7fafa6d47f50>, author=User(follow_request_sent=None, has_extended_profile=False, profile_use_background_image=True, _json={u'follow_request_sent': None, u'has_extended_profile': False, u'profile_use_background_image': True, u'default_profile_image': False, u'id': 59493718, u'profile_background_image_url_https': u'https://abs.twimg.com/images/themes/theme15/bg.png', u'verified': False, u'profile_text_color': u'333333', u'profile_image_url_https': u'https://pbs.twimg.com/profile_images/593863867106734080/-HJuwO77_normal.png', u'profile_sidebar_fill_color': u'C0DFEC', u'entities': {u'url': {u'urls': [{u'url': u'http://t.co/J6PGihyXSI', u'indices': [0, 22], u'expanded_url': u'http://www.jewelersmutual.com', u'display_url': u'jewelersmutual.com'}]}, u'description': {u'urls': []}}, u'followers_count': 1148, u'profile_sidebar_border_color': u'A8C7F7', u'id_str': u'59493718', u'profile_background_color': u'022330', u'listed_count': 35, u'is_translation_enabled': False, u'utc_offset': -21600, u'statuses_count': 1943, u'description': u'Get expert loss prevention and security advice from @JewelersMutual, the business and personal jewelry insurance leader.', u'friends_count': 166, u'location': u'Wisconsin', u'profile_link_color': u'0084B4', u'profile_image_url': u'http://pbs.twimg.com/profile_images/593863867106734080/-HJuwO77_normal.png', u'following': None, u'geo_enabled': False, u'profile_banner_url': u'https://pbs.twimg.com/profile_banners/59493718/1430423132', u'profile_background_image_url': u'http://abs.twimg.com/images/themes/theme15/bg.png', u'screen_name': u'JMStaySecure', u'lang': u'en', u'profile_background_tile': False, u'favourites_count': 468, u'name': u'Jewelers Mutual', u'notifications': None, u'url': u'http://t.co/J6PGihyXSI', u'created_at': u'Thu Jul 23 15:21:39 +0000 2009', u'contributors_enabled': False, u'time_zone': u'Central Time (US & Canada)', u'protected': False, u'default_profile': False, u'is_translator': False}, time_zone=u'Central Time (US & Canada)', id=59493718, _api=<tweepy.api.API object at 0x7fafa6d47f50>, verified=False, profile_text_color=u'333333', profile_image_url_https=u'https://pbs.twimg.com/profile_images/593863867106734080/-HJuwO77_normal.png', profile_sidebar_fill_color=u'C0DFEC', is_translator=False, geo_enabled=False, entities={u'url': {u'urls': [{u'url': u'http://t.co/J6PGihyXSI', u'indices': [0, 22], u'expanded_url': u'http://www.jewelersmutual.com', u'display_url': u'jewelersmutual.com'}]}, u'description': {u'urls': []}}, followers_count=1148, protected=False, id_str=u'59493718', default_profile_image=False, listed_count=35, lang=u'en', utc_offset=-21600, statuses_count=1943, description=u'Get expert loss prevention and security advice from @JewelersMutual, the business and personal jewelry insurance leader.', friends_count=166, profile_link_color=u'0084B4', profile_image_url=u'http://pbs.twimg.com/profile_images/593863867106734080/-HJuwO77_normal.png', notifications=None, profile_background_image_url_https=u'https://abs.twimg.com/images/themes/theme15/bg.png', profile_background_color=u'022330', profile_banner_url=u'https://pbs.twimg.com/profile_banners/59493718/1430423132', profile_background_image_url=u'http://abs.twimg.com/images/themes/theme15/bg.png', name=u'Jewelers Mutual', is_translation_enabled=False, profile_background_tile=False, favourites_count=468, screen_name=u'JMStaySecure', url=u'http://t.co/J6PGihyXSI', created_at=datetime.datetime(2009, 7, 23, 15, 21, 39), contributors_enabled=False, location=u'Wisconsin', profile_sidebar_border_color=u'A8C7F7', default_profile=False, following=False), _json={u'contributors': None, u'truncated': False, u'text': u'Contact #police at 714-754-5637 with info on #robbery in #California &gt;&gt; https://t.co/909mwf16ic https://t.co/uzbmRWXc5O', u'is_quote_status': False, u'in_reply_to_status_id': None, u'id': 689882363074088960, u'favorite_count': 0, u'source': u'<a href=\"http://www.hubspot.com/\" rel=\"nofollow\">HubSpot</a>', u'retweeted': False, u'coordinates': None, u'entities': {u'symbols': [], u'user_mentions': [], u'hashtags': [{u'indices': [8, 15], u'text': u'police'}, {u'indices': [45, 53], u'text': u'robbery'}, {u'indices': [57, 68], u'text': u'California'}], u'urls': [{u'url': u'https://t.co/909mwf16ic', u'indices': [78, 101], u'expanded_url': u'http://hubs.ly/H01Vzrl0', u'display_url': u'hubs.ly/H01Vzrl0'}], u'media': [{u'expanded_url': u'http://twitter.com/JMStaySecure/status/689882363074088960/photo/1', u'display_url': u'pic.twitter.com/uzbmRWXc5O', u'url': u'https://t.co/uzbmRWXc5O', u'media_url_https': u'https://pbs.twimg.com/media/CZL0Wo2WkAAx0Vc.jpg', u'id_str': u'689882362700795904', u'sizes': {u'large': {u'h': 420, u'resize': u'fit', u'w': 560}, u'small': {u'h': 255, u'resize': u'fit', u'w': 340}, u'medium': {u'h': 420, u'resize': u'fit', u'w': 560}, u'thumb': {u'h': 150, u'resize': u'crop', u'w': 150}}, u'indices': [102, 125], u'type': u'photo', u'id': 689882362700795904, u'media_url': u'http://pbs.twimg.com/media/CZL0Wo2WkAAx0Vc.jpg'}]}, u'in_reply_to_screen_name': None, u'in_reply_to_user_id': None, u'retweet_count': 0, u'id_str': u'689882363074088960', u'favorited': False, u'user': {u'follow_request_sent': None, u'has_extended_profile': False, u'profile_use_background_image': True, u'default_profile_image': False, u'id': 59493718, u'profile_background_image_url_https': u'https://abs.twimg.com/images/themes/theme15/bg.png', u'verified': False, u'profile_text_color': u'333333', u'profile_image_url_https': u'https://pbs.twimg.com/profile_images/593863867106734080/-HJuwO77_normal.png', u'profile_sidebar_fill_color': u'C0DFEC', u'entities': {u'url': {u'urls': [{u'url': u'http://t.co/J6PGihyXSI', u'indices': [0, 22], u'expanded_url': u'http://www.jewelersmutual.com', u'display_url': u'jewelersmutual.com'}]}, u'description': {u'urls': []}}, u'followers_count': 1148, u'profile_sidebar_border_color': u'A8C7F7', u'id_str': u'59493718', u'profile_background_color': u'022330', u'listed_count': 35, u'is_translation_enabled': False, u'utc_offset': -21600, u'statuses_count': 1943, u'description': u'Get expert loss prevention and security advice from @JewelersMutual, the business and personal jewelry insurance leader.', u'friends_count': 166, u'location': u'Wisconsin', u'profile_link_color': u'0084B4', u'profile_image_url': u'http://pbs.twimg.com/profile_images/593863867106734080/-HJuwO77_normal.png', u'following': None, u'geo_enabled': False, u'profile_banner_url': u'https://pbs.twimg.com/profile_banners/59493718/1430423132', u'profile_background_image_url': u'http://abs.twimg.com/images/themes/theme15/bg.png', u'screen_name': u'JMStaySecure', u'lang': u'en', u'profile_background_tile': False, u'favourites_count': 468, u'name': u'Jewelers Mutual', u'notifications': None, u'url': u'http://t.co/J6PGihyXSI', u'created_at': u'Thu Jul 23 15:21:39 +0000 2009', u'contributors_enabled': False, u'time_zone': u'Central Time (US & Canada)', u'protected': False, u'default_profile': False, u'is_translator': False}, u'geo': None, u'in_reply_to_user_id_str': None, u'possibly_sensitive': False, u'lang': u'en', u'created_at': u'Wed Jan 20 18:49:07 +0000 2016', u'in_reply_to_status_id_str': None, u'place': None, u'metadata': {u'iso_language_code': u'en', u'result_type': u'recent'}}, coordinates=None, entities={u'symbols': [], u'user_mentions': [], u'hashtags': [{u'indices': [8, 15], u'text': u'police'}, {u'indices': [45, 53], u'text': u'robbery'}, {u'indices': [57, 68], u'text': u'California'}], u'urls': [{u'url': u'https://t.co/909mwf16ic', u'indices': [78, 101], u'expanded_url': u'http://hubs.ly/H01Vzrl0', u'display_url': u'hubs.ly/H01Vzrl0'}], u'media': [{u'expanded_url': u'http://twitter.com/JMStaySecure/status/689882363074088960/photo/1', u'display_url': u'pic.twitter.com/uzbmRWXc5O', u'url': u'https://t.co/uzbmRWXc5O', u'media_url_https': u'https://pbs.twimg.com/media/CZL0Wo2WkAAx0Vc.jpg', u'id_str': u'689882362700795904', u'sizes': {u'large': {u'h': 420, u'resize': u'fit', u'w': 560}, u'small': {u'h': 255, u'resize': u'fit', u'w': 340}, u'medium': {u'h': 420, u'resize': u'fit', u'w': 560}, u'thumb': {u'h': 150, u'resize': u'crop', u'w': 150}}, u'indices': [102, 125], u'type': u'photo', u'id': 689882362700795904, u'media_url': u'http://pbs.twimg.com/media/CZL0Wo2WkAAx0Vc.jpg'}]}, in_reply_to_screen_name=None, id_str=u'689882363074088960', retweet_count=0, in_reply_to_user_id=None, favorited=False, source_url=u'http://www.hubspot.com/', user=User(follow_request_sent=None, has_extended_profile=False, profile_use_background_image=True, _json={u'follow_request_sent': None, u'has_extended_profile': False, u'profile_use_background_image': True, u'default_profile_image': False, u'id': 59493718, u'profile_background_image_url_https': u'https://abs.twimg.com/images/themes/theme15/bg.png', u'verified': False, u'profile_text_color': u'333333', u'profile_image_url_https': u'https://pbs.twimg.com/profile_images/593863867106734080/-HJuwO77_normal.png', u'profile_sidebar_fill_color': u'C0DFEC', u'entities': {u'url': {u'urls': [{u'url': u'http://t.co/J6PGihyXSI', u'indices': [0, 22], u'expanded_url': u'http://www.jewelersmutual.com', u'display_url': u'jewelersmutual.com'}]}, u'description': {u'urls': []}}, u'followers_count': 1148, u'profile_sidebar_border_color': u'A8C7F7', u'id_str': u'59493718', u'profile_background_color': u'022330', u'listed_count': 35, u'is_translation_enabled': False, u'utc_offset': -21600, u'statuses_count': 1943, u'description': u'Get expert loss prevention and security advice from @JewelersMutual, the business and personal jewelry insurance leader.', u'friends_count': 166, u'location': u'Wisconsin', u'profile_link_color': u'0084B4', u'profile_image_url': u'http://pbs.twimg.com/profile_images/593863867106734080/-HJuwO77_normal.png', u'following': None, u'geo_enabled': False, u'profile_banner_url': u'https://pbs.twimg.com/profile_banners/59493718/1430423132', u'profile_background_image_url': u'http://abs.twimg.com/images/themes/theme15/bg.png', u'screen_name': u'JMStaySecure', u'lang': u'en', u'profile_background_tile': False, u'favourites_count': 468, u'name': u'Jewelers Mutual', u'notifications': None, u'url': u'http://t.co/J6PGihyXSI', u'created_at': u'Thu Jul 23 15:21:39 +0000 2009', u'contributors_enabled': False, u'time_zone': u'Central Time (US & Canada)', u'protected': False, u'default_profile': False, u'is_translator': False}, time_zone=u'Central Time (US & Canada)', id=59493718, _api=<tweepy.api.API object at 0x7fafa6d47f50>, verified=False, profile_text_color=u'333333', profile_image_url_https=u'https://pbs.twimg.com/profile_images/593863867106734080/-HJuwO77_normal.png', profile_sidebar_fill_color=u'C0DFEC', is_translator=False, geo_enabled=False, entities={u'url': {u'urls': [{u'url': u'http://t.co/J6PGihyXSI', u'indices': [0, 22], u'expanded_url': u'http://www.jewelersmutual.com', u'display_url': u'jewelersmutual.com'}]}, u'description': {u'urls': []}}, followers_count=1148, protected=False, id_str=u'59493718', default_profile_image=False, listed_count=35, lang=u'en', utc_offset=-21600, statuses_count=1943, description=u'Get expert loss prevention and security advice from @JewelersMutual, the business and personal jewelry insurance leader.', friends_count=166, profile_link_color=u'0084B4', profile_image_url=u'http://pbs.twimg.com/profile_images/593863867106734080/-HJuwO77_normal.png', notifications=None, profile_background_image_url_https=u'https://abs.twimg.com/images/themes/theme15/bg.png', profile_background_color=u'022330', profile_banner_url=u'https://pbs.twimg.com/profile_banners/59493718/1430423132', profile_background_image_url=u'http://abs.twimg.com/images/themes/theme15/bg.png', name=u'Jewelers Mutual', is_translation_enabled=False, profile_background_tile=False, favourites_count=468, screen_name=u'JMStaySecure', url=u'http://t.co/J6PGihyXSI', created_at=datetime.datetime(2009, 7, 23, 15, 21, 39), contributors_enabled=False, location=u'Wisconsin', profile_sidebar_border_color=u'A8C7F7', default_profile=False, following=False), geo=None, in_reply_to_user_id_str=None, possibly_sensitive=False, lang=u'en', created_at=datetime.datetime(2016, 1, 20, 18, 49, 7), in_reply_to_status_id_str=None, place=None, source=u'HubSpot', retweeted=False, metadata={u'iso_language_code': u'en', u'result_type': u'recent'}), Status(contributors=None, truncated=False, text=u'#Lynbrook Man #Mugged at #Knifepoint by Three Thugs, Authorities Report @NassauCountyPD #Crime #Robbery https://t.co/S7xz1rnnZI', is_quote_status=False, in_reply_to_status_id=None, id=689881615783350274, favorite_count=1, _api=<tweepy.api.API object at 0x7fafa6d47f50>, author=User(follow_request_sent=None, has_extended_profile=False, profile_use_background_image=True, _json={u'follow_request_sent': None, u'has_extended_profile': False, u'profile_use_background_image': True, u'default_profile_image': False, u'id': 16195663, u'profile_background_image_url_https': u'https://pbs.twimg.com/profile_background_images/464919491541868544/qgsArfGV.png', u'verified': False, u'profile_text_color': u'000000', u'profile_image_url_https': u'https://pbs.twimg.com/profile_images/347767221/mic_flag_white_normal.gif', u'profile_sidebar_fill_color': u'E0FF92', u'entities': {u'url': {u'urls': [{u'url': u'http://t.co/pjCeqh92ga', u'indices': [0, 22], u'expanded_url': u'http://www.LongIslandExchange.com', u'display_url': u'LongIslandExchange.com'}]}, u'description': {u'urls': [{u'url': u'https://t.co/hqMiSbmDOW', u'indices': [69, 92], u'expanded_url': u'http://www.LongIslandExchange.com', u'display_url': u'LongIslandExchange.com'}]}}, u'followers_count': 21295, u'profile_sidebar_border_color': u'FFFFFF', u'id_str': u'16195663', u'profile_background_color': u'CCCCCC', u'listed_count': 185, u'is_translation_enabled': False, u'utc_offset': -18000, u'statuses_count': 30006, u'description': u'Long Island Exchange\\u2122  The Guide to Everything That Is Long Island.\\u2122 https://t.co/hqMiSbmDOW Online Newspaper. Official Twitter Page.', u'friends_count': 2892, u'location': u'Long Island New York', u'profile_link_color': u'0000FF', u'profile_image_url': u'http://pbs.twimg.com/profile_images/347767221/mic_flag_white_normal.gif', u'following': None, u'geo_enabled': False, u'profile_banner_url': u'https://pbs.twimg.com/profile_banners/16195663/1399679817', u'profile_background_image_url': u'http://pbs.twimg.com/profile_background_images/464919491541868544/qgsArfGV.png', u'screen_name': u'Long_Island', u'lang': u'en', u'profile_background_tile': True, u'favourites_count': 26, u'name': u'Long Island Exchange', u'notifications': None, u'url': u'http://t.co/pjCeqh92ga', u'created_at': u'Tue Sep 09 01:29:32 +0000 2008', u'contributors_enabled': False, u'time_zone': u'Quito', u'protected': False, u'default_profile': False, u'is_translator': False}, time_zone=u'Quito', id=16195663, _api=<tweepy.api.API object at 0x7fafa6d47f50>, verified=False, profile_text_color=u'000000', profile_image_url_https=u'https://pbs.twimg.com/profile_images/347767221/mic_flag_white_normal.gif', profile_sidebar_fill_color=u'E0FF92', is_translator=False, geo_enabled=False, entities={u'url': {u'urls': [{u'url': u'http://t.co/pjCeqh92ga', u'indices': [0, 22], u'expanded_url': u'http://www.LongIslandExchange.com', u'display_url': u'LongIslandExchange.com'}]}, u'description': {u'urls': [{u'url': u'https://t.co/hqMiSbmDOW', u'indices': [69, 92], u'expanded_url': u'http://www.LongIslandExchange.com', u'display_url': u'LongIslandExchange.com'}]}}, followers_count=21295, protected=False, id_str=u'16195663', default_profile_image=False, listed_count=185, lang=u'en', utc_offset=-18000, statuses_count=30006, description=u'Long Island Exchange\\u2122  The Guide to Everything That Is Long Island.\\u2122 https://t.co/hqMiSbmDOW Online Newspaper. Official Twitter Page.', friends_count=2892, profile_link_color=u'0000FF', profile_image_url=u'http://pbs.twimg.com/profile_images/347767221/mic_flag_white_normal.gif', notifications=None, profile_background_image_url_https=u'https://pbs.twimg.com/profile_background_images/464919491541868544/qgsArfGV.png', profile_background_color=u'CCCCCC', profile_banner_url=u'https://pbs.twimg.com/profile_banners/16195663/1399679817', profile_background_image_url=u'http://pbs.twimg.com/profile_background_images/464919491541868544/qgsArfGV.png', name=u'Long Island Exchange', is_translation_enabled=False, profile_background_tile=True, favourites_count=26, screen_name=u'Long_Island', url=u'http://t.co/pjCeqh92ga', created_at=datetime.datetime(2008, 9, 9, 1, 29, 32), contributors_enabled=False, location=u'Long Island New York', profile_sidebar_border_color=u'FFFFFF', default_profile=False, following=False), _json={u'contributors': None, u'truncated': False, u'text': u'#Lynbrook Man #Mugged at #Knifepoint by Three Thugs, Authorities Report @NassauCountyPD #Crime #Robbery https://t.co/S7xz1rnnZI', u'is_quote_status': False, u'in_reply_to_status_id': None, u'id': 689881615783350274, u'favorite_count': 1, u'source': u'<a href=\"http://twitter.com\" rel=\"nofollow\">Twitter Web Client</a>', u'retweeted': False, u'coordinates': None, u'entities': {u'symbols': [], u'user_mentions': [{u'id': 606443380, u'indices': [72, 87], u'id_str': u'606443380', u'screen_name': u'NassauCountyPD', u'name': u'NCPD'}], u'hashtags': [{u'indices': [0, 9], u'text': u'Lynbrook'}, {u'indices': [14, 21], u'text': u'Mugged'}, {u'indices': [25, 36], u'text': u'Knifepoint'}, {u'indices': [88, 94], u'text': u'Crime'}, {u'indices': [95, 103], u'text': u'Robbery'}], u'urls': [{u'url': u'https://t.co/S7xz1rnnZI', u'indices': [104, 127], u'expanded_url': u'https://www.longislandexchange.com/press-releases/lynbrook-man-mugged-at-knifepoint-by-three-thugs-authorities-report/#.Vp_V3VTKzTI.twitter', u'display_url': u'longislandexchange.com/press-releases\\u2026'}]}, u'in_reply_to_screen_name': None, u'in_reply_to_user_id': None, u'retweet_count': 0, u'id_str': u'689881615783350274', u'favorited': False, u'user': {u'follow_request_sent': None, u'has_extended_profile': False, u'profile_use_background_image': True, u'default_profile_image': False, u'id': 16195663, u'profile_background_image_url_https': u'https://pbs.twimg.com/profile_background_images/464919491541868544/qgsArfGV.png', u'verified': False, u'profile_text_color': u'000000', u'profile_image_url_https': u'https://pbs.twimg.com/profile_images/347767221/mic_flag_white_normal.gif', u'profile_sidebar_fill_color': u'E0FF92', u'entities': {u'url': {u'urls': [{u'url': u'http://t.co/pjCeqh92ga', u'indices': [0, 22], u'expanded_url': u'http://www.LongIslandExchange.com', u'display_url': u'LongIslandExchange.com'}]}, u'description': {u'urls': [{u'url': u'https://t.co/hqMiSbmDOW', u'indices': [69, 92], u'expanded_url': u'http://www.LongIslandExchange.com', u'display_url': u'LongIslandExchange.com'}]}}, u'followers_count': 21295, u'profile_sidebar_border_color': u'FFFFFF', u'id_str': u'16195663', u'profile_background_color': u'CCCCCC', u'listed_count': 185, u'is_translation_enabled': False, u'utc_offset': -18000, u'statuses_count': 30006, u'description': u'Long Island Exchange\\u2122  The Guide to Everything That Is Long Island.\\u2122 https://t.co/hqMiSbmDOW Online Newspaper. Official Twitter Page.', u'friends_count': 2892, u'location': u'Long Island New York', u'profile_link_color': u'0000FF', u'profile_image_url': u'http://pbs.twimg.com/profile_images/347767221/mic_flag_white_normal.gif', u'following': None, u'geo_enabled': False, u'profile_banner_url': u'https://pbs.twimg.com/profile_banners/16195663/1399679817', u'profile_background_image_url': u'http://pbs.twimg.com/profile_background_images/464919491541868544/qgsArfGV.png', u'screen_name': u'Long_Island', u'lang': u'en', u'profile_background_tile': True, u'favourites_count': 26, u'name': u'Long Island Exchange', u'notifications': None, u'url': u'http://t.co/pjCeqh92ga', u'created_at': u'Tue Sep 09 01:29:32 +0000 2008', u'contributors_enabled': False, u'time_zone': u'Quito', u'protected': False, u'default_profile': False, u'is_translator': False}, u'geo': None, u'in_reply_to_user_id_str': None, u'possibly_sensitive': False, u'lang': u'en', u'created_at': u'Wed Jan 20 18:46:09 +0000 2016', u'in_reply_to_status_id_str': None, u'place': None, u'metadata': {u'iso_language_code': u'en', u'result_type': u'recent'}}, coordinates=None, entities={u'symbols': [], u'user_mentions': [{u'id': 606443380, u'indices': [72, 87], u'id_str': u'606443380', u'screen_name': u'NassauCountyPD', u'name': u'NCPD'}], u'hashtags': [{u'indices': [0, 9], u'text': u'Lynbrook'}, {u'indices': [14, 21], u'text': u'Mugged'}, {u'indices': [25, 36], u'text': u'Knifepoint'}, {u'indices': [88, 94], u'text': u'Crime'}, {u'indices': [95, 103], u'text': u'Robbery'}], u'urls': [{u'url': u'https://t.co/S7xz1rnnZI', u'indices': [104, 127], u'expanded_url': u'https://www.longislandexchange.com/press-releases/lynbrook-man-mugged-at-knifepoint-by-three-thugs-authorities-report/#.Vp_V3VTKzTI.twitter', u'display_url': u'longislandexchange.com/press-releases\\u2026'}]}, in_reply_to_screen_name=None, id_str=u'689881615783350274', retweet_count=0, in_reply_to_user_id=None, favorited=False, source_url=u'http://twitter.com', user=User(follow_request_sent=None, has_extended_profile=False, profile_use_background_image=True, _json={u'follow_request_sent': None, u'has_extended_profile': False, u'profile_use_background_image': True, u'default_profile_image': False, u'id': 16195663, u'profile_background_image_url_https': u'https://pbs.twimg.com/profile_background_images/464919491541868544/qgsArfGV.png', u'verified': False, u'profile_text_color': u'000000', u'profile_image_url_https': u'https://pbs.twimg.com/profile_images/347767221/mic_flag_white_normal.gif', u'profile_sidebar_fill_color': u'E0FF92', u'entities': {u'url': {u'urls': [{u'url': u'http://t.co/pjCeqh92ga', u'indices': [0, 22], u'expanded_url': u'http://www.LongIslandExchange.com', u'display_url': u'LongIslandExchange.com'}]}, u'description': {u'urls': [{u'url': u'https://t.co/hqMiSbmDOW', u'indices': [69, 92], u'expanded_url': u'http://www.LongIslandExchange.com', u'display_url': u'LongIslandExchange.com'}]}}, u'followers_count': 21295, u'profile_sidebar_border_color': u'FFFFFF', u'id_str': u'16195663', u'profile_background_color': u'CCCCCC', u'listed_count': 185, u'is_translation_enabled': False, u'utc_offset': -18000, u'statuses_count': 30006, u'description': u'Long Island Exchange\\u2122  The Guide to Everything That Is Long Island.\\u2122 https://t.co/hqMiSbmDOW Online Newspaper. Official Twitter Page.', u'friends_count': 2892, u'location': u'Long Island New York', u'profile_link_color': u'0000FF', u'profile_image_url': u'http://pbs.twimg.com/profile_images/347767221/mic_flag_white_normal.gif', u'following': None, u'geo_enabled': False, u'profile_banner_url': u'https://pbs.twimg.com/profile_banners/16195663/1399679817', u'profile_background_image_url': u'http://pbs.twimg.com/profile_background_images/464919491541868544/qgsArfGV.png', u'screen_name': u'Long_Island', u'lang': u'en', u'profile_background_tile': True, u'favourites_count': 26, u'name': u'Long Island Exchange', u'notifications': None, u'url': u'http://t.co/pjCeqh92ga', u'created_at': u'Tue Sep 09 01:29:32 +0000 2008', u'contributors_enabled': False, u'time_zone': u'Quito', u'protected': False, u'default_profile': False, u'is_translator': False}, time_zone=u'Quito', id=16195663, _api=<tweepy.api.API object at 0x7fafa6d47f50>, verified=False, profile_text_color=u'000000', profile_image_url_https=u'https://pbs.twimg.com/profile_images/347767221/mic_flag_white_normal.gif', profile_sidebar_fill_color=u'E0FF92', is_translator=False, geo_enabled=False, entities={u'url': {u'urls': [{u'url': u'http://t.co/pjCeqh92ga', u'indices': [0, 22], u'expanded_url': u'http://www.LongIslandExchange.com', u'display_url': u'LongIslandExchange.com'}]}, u'description': {u'urls': [{u'url': u'https://t.co/hqMiSbmDOW', u'indices': [69, 92], u'expanded_url': u'http://www.LongIslandExchange.com', u'display_url': u'LongIslandExchange.com'}]}}, followers_count=21295, protected=False, id_str=u'16195663', default_profile_image=False, listed_count=185, lang=u'en', utc_offset=-18000, statuses_count=30006, description=u'Long Island Exchange\\u2122  The Guide to Everything That Is Long Island.\\u2122 https://t.co/hqMiSbmDOW Online Newspaper. Official Twitter Page.', friends_count=2892, profile_link_color=u'0000FF', profile_image_url=u'http://pbs.twimg.com/profile_images/347767221/mic_flag_white_normal.gif', notifications=None, profile_background_image_url_https=u'https://pbs.twimg.com/profile_background_images/464919491541868544/qgsArfGV.png', profile_background_color=u'CCCCCC', profile_banner_url=u'https://pbs.twimg.com/profile_banners/16195663/1399679817', profile_background_image_url=u'http://pbs.twimg.com/profile_background_images/464919491541868544/qgsArfGV.png', name=u'Long Island Exchange', is_translation_enabled=False, profile_background_tile=True, favourites_count=26, screen_name=u'Long_Island', url=u'http://t.co/pjCeqh92ga', created_at=datetime.datetime(2008, 9, 9, 1, 29, 32), contributors_enabled=False, location=u'Long Island New York', profile_sidebar_border_color=u'FFFFFF', default_profile=False, following=False), geo=None, in_reply_to_user_id_str=None, possibly_sensitive=False, lang=u'en', created_at=datetime.datetime(2016, 1, 20, 18, 46, 9), in_reply_to_status_id_str=None, place=None, source=u'Twitter Web Client', retweeted=False, metadata={u'iso_language_code': u'en', u'result_type': u'recent'}), Status(contributors=None, truncated=False, text=u'#Nassau #Police Investigating #Robbery, #Assault of Chinese Food Deliveryman in #Malverne @NassauCountyPD #Crime https://t.co/5r9BSVxbeN', is_quote_status=False, in_reply_to_status_id=None, id=689880845910437888, favorite_count=0, _api=<tweepy.api.API object at 0x7fafa6d47f50>, author=User(follow_request_sent=None, has_extended_profile=False, profile_use_background_image=True, _json={u'follow_request_sent': None, u'has_extended_profile': False, u'profile_use_background_image': True, u'default_profile_image': False, u'id': 16195663, u'profile_background_image_url_https': u'https://pbs.twimg.com/profile_background_images/464919491541868544/qgsArfGV.png', u'verified': False, u'profile_text_color': u'000000', u'profile_image_url_https': u'https://pbs.twimg.com/profile_images/347767221/mic_flag_white_normal.gif', u'profile_sidebar_fill_color': u'E0FF92', u'entities': {u'url': {u'urls': [{u'url': u'http://t.co/pjCeqh92ga', u'indices': [0, 22], u'expanded_url': u'http://www.LongIslandExchange.com', u'display_url': u'LongIslandExchange.com'}]}, u'description': {u'urls': [{u'url': u'https://t.co/hqMiSbmDOW', u'indices': [69, 92], u'expanded_url': u'http://www.LongIslandExchange.com', u'display_url': u'LongIslandExchange.com'}]}}, u'followers_count': 21295, u'profile_sidebar_border_color': u'FFFFFF', u'id_str': u'16195663', u'profile_background_color': u'CCCCCC', u'listed_count': 185, u'is_translation_enabled': False, u'utc_offset': -18000, u'statuses_count': 30006, u'description': u'Long Island Exchange\\u2122  The Guide to Everything That Is Long Island.\\u2122 https://t.co/hqMiSbmDOW Online Newspaper. Official Twitter Page.', u'friends_count': 2892, u'location': u'Long Island New York', u'profile_link_color': u'0000FF', u'profile_image_url': u'http://pbs.twimg.com/profile_images/347767221/mic_flag_white_normal.gif', u'following': None, u'geo_enabled': False, u'profile_banner_url': u'https://pbs.twimg.com/profile_banners/16195663/1399679817', u'profile_background_image_url': u'http://pbs.twimg.com/profile_background_images/464919491541868544/qgsArfGV.png', u'screen_name': u'Long_Island', u'lang': u'en', u'profile_background_tile': True, u'favourites_count': 26, u'name': u'Long Island Exchange', u'notifications': None, u'url': u'http://t.co/pjCeqh92ga', u'created_at': u'Tue Sep 09 01:29:32 +0000 2008', u'contributors_enabled': False, u'time_zone': u'Quito', u'protected': False, u'default_profile': False, u'is_translator': False}, time_zone=u'Quito', id=16195663, _api=<tweepy.api.API object at 0x7fafa6d47f50>, verified=False, profile_text_color=u'000000', profile_image_url_https=u'https://pbs.twimg.com/profile_images/347767221/mic_flag_white_normal.gif', profile_sidebar_fill_color=u'E0FF92', is_translator=False, geo_enabled=False, entities={u'url': {u'urls': [{u'url': u'http://t.co/pjCeqh92ga', u'indices': [0, 22], u'expanded_url': u'http://www.LongIslandExchange.com', u'display_url': u'LongIslandExchange.com'}]}, u'description': {u'urls': [{u'url': u'https://t.co/hqMiSbmDOW', u'indices': [69, 92], u'expanded_url': u'http://www.LongIslandExchange.com', u'display_url': u'LongIslandExchange.com'}]}}, followers_count=21295, protected=False, id_str=u'16195663', default_profile_image=False, listed_count=185, lang=u'en', utc_offset=-18000, statuses_count=30006, description=u'Long Island Exchange\\u2122  The Guide to Everything That Is Long Island.\\u2122 https://t.co/hqMiSbmDOW Online Newspaper. Official Twitter Page.', friends_count=2892, profile_link_color=u'0000FF', profile_image_url=u'http://pbs.twimg.com/profile_images/347767221/mic_flag_white_normal.gif', notifications=None, profile_background_image_url_https=u'https://pbs.twimg.com/profile_background_images/464919491541868544/qgsArfGV.png', profile_background_color=u'CCCCCC', profile_banner_url=u'https://pbs.twimg.com/profile_banners/16195663/1399679817', profile_background_image_url=u'http://pbs.twimg.com/profile_background_images/464919491541868544/qgsArfGV.png', name=u'Long Island Exchange', is_translation_enabled=False, profile_background_tile=True, favourites_count=26, screen_name=u'Long_Island', url=u'http://t.co/pjCeqh92ga', created_at=datetime.datetime(2008, 9, 9, 1, 29, 32), contributors_enabled=False, location=u'Long Island New York', profile_sidebar_border_color=u'FFFFFF', default_profile=False, following=False), _json={u'contributors': None, u'truncated': False, u'text': u'#Nassau #Police Investigating #Robbery, #Assault of Chinese Food Deliveryman in #Malverne @NassauCountyPD #Crime https://t.co/5r9BSVxbeN', u'is_quote_status': False, u'in_reply_to_status_id': None, u'id': 689880845910437888, u'favorite_count': 0, u'source': u'<a href=\"http://twitter.com\" rel=\"nofollow\">Twitter Web Client</a>', u'retweeted': False, u'coordinates': None, u'entities': {u'symbols': [], u'user_mentions': [{u'id': 606443380, u'indices': [90, 105], u'id_str': u'606443380', u'screen_name': u'NassauCountyPD', u'name': u'NCPD'}], u'hashtags': [{u'indices': [0, 7], u'text': u'Nassau'}, {u'indices': [8, 15], u'text': u'Police'}, {u'indices': [30, 38], u'text': u'Robbery'}, {u'indices': [40, 48], u'text': u'Assault'}, {u'indices': [80, 89], u'text': u'Malverne'}, {u'indices': [106, 112], u'text': u'Crime'}], u'urls': [{u'url': u'https://t.co/5r9BSVxbeN', u'indices': [113, 136], u'expanded_url': u'https://www.longislandexchange.com/press-releases/nassau-police-investigating-robbery-assault-of-chinese-food-deliveryman-in-malverne/#.Vp_VKgP_fX0.twitter', u'display_url': u'longislandexchange.com/press-releases\\u2026'}]}, u'in_reply_to_screen_name': None, u'in_reply_to_user_id': None, u'retweet_count': 0, u'id_str': u'689880845910437888', u'favorited': False, u'user': {u'follow_request_sent': None, u'has_extended_profile': False, u'profile_use_background_image': True, u'default_profile_image': False, u'id': 16195663, u'profile_background_image_url_https': u'https://pbs.twimg.com/profile_background_images/464919491541868544/qgsArfGV.png', u'verified': False, u'profile_text_color': u'000000', u'profile_image_url_https': u'https://pbs.twimg.com/profile_images/347767221/mic_flag_white_normal.gif', u'profile_sidebar_fill_color': u'E0FF92', u'entities': {u'url': {u'urls': [{u'url': u'http://t.co/pjCeqh92ga', u'indices': [0, 22], u'expanded_url': u'http://www.LongIslandExchange.com', u'display_url': u'LongIslandExchange.com'}]}, u'description': {u'urls': [{u'url': u'https://t.co/hqMiSbmDOW', u'indices': [69, 92], u'expanded_url': u'http://www.LongIslandExchange.com', u'display_url': u'LongIslandExchange.com'}]}}, u'followers_count': 21295, u'profile_sidebar_border_color': u'FFFFFF', u'id_str': u'16195663', u'profile_background_color': u'CCCCCC', u'listed_count': 185, u'is_translation_enabled': False, u'utc_offset': -18000, u'statuses_count': 30006, u'description': u'Long Island Exchange\\u2122  The Guide to Everything That Is Long Island.\\u2122 https://t.co/hqMiSbmDOW Online Newspaper. Official Twitter Page.', u'friends_count': 2892, u'location': u'Long Island New York', u'profile_link_color': u'0000FF', u'profile_image_url': u'http://pbs.twimg.com/profile_images/347767221/mic_flag_white_normal.gif', u'following': None, u'geo_enabled': False, u'profile_banner_url': u'https://pbs.twimg.com/profile_banners/16195663/1399679817', u'profile_background_image_url': u'http://pbs.twimg.com/profile_background_images/464919491541868544/qgsArfGV.png', u'screen_name': u'Long_Island', u'lang': u'en', u'profile_background_tile': True, u'favourites_count': 26, u'name': u'Long Island Exchange', u'notifications': None, u'url': u'http://t.co/pjCeqh92ga', u'created_at': u'Tue Sep 09 01:29:32 +0000 2008', u'contributors_enabled': False, u'time_zone': u'Quito', u'protected': False, u'default_profile': False, u'is_translator': False}, u'geo': None, u'in_reply_to_user_id_str': None, u'possibly_sensitive': False, u'lang': u'en', u'created_at': u'Wed Jan 20 18:43:05 +0000 2016', u'in_reply_to_status_id_str': None, u'place': None, u'metadata': {u'iso_language_code': u'en', u'result_type': u'recent'}}, coordinates=None, entities={u'symbols': [], u'user_mentions': [{u'id': 606443380, u'indices': [90, 105], u'id_str': u'606443380', u'screen_name': u'NassauCountyPD', u'name': u'NCPD'}], u'hashtags': [{u'indices': [0, 7], u'text': u'Nassau'}, {u'indices': [8, 15], u'text': u'Police'}, {u'indices': [30, 38], u'text': u'Robbery'}, {u'indices': [40, 48], u'text': u'Assault'}, {u'indices': [80, 89], u'text': u'Malverne'}, {u'indices': [106, 112], u'text': u'Crime'}], u'urls': [{u'url': u'https://t.co/5r9BSVxbeN', u'indices': [113, 136], u'expanded_url': u'https://www.longislandexchange.com/press-releases/nassau-police-investigating-robbery-assault-of-chinese-food-deliveryman-in-malverne/#.Vp_VKgP_fX0.twitter', u'display_url': u'longislandexchange.com/press-releases\\u2026'}]}, in_reply_to_screen_name=None, id_str=u'689880845910437888', retweet_count=0, in_reply_to_user_id=None, favorited=False, source_url=u'http://twitter.com', user=User(follow_request_sent=None, has_extended_profile=False, profile_use_background_image=True, _json={u'follow_request_sent': None, u'has_extended_profile': False, u'profile_use_background_image': True, u'default_profile_image': False, u'id': 16195663, u'profile_background_image_url_https': u'https://pbs.twimg.com/profile_background_images/464919491541868544/qgsArfGV.png', u'verified': False, u'profile_text_color': u'000000', u'profile_image_url_https': u'https://pbs.twimg.com/profile_images/347767221/mic_flag_white_normal.gif', u'profile_sidebar_fill_color': u'E0FF92', u'entities': {u'url': {u'urls': [{u'url': u'http://t.co/pjCeqh92ga', u'indices': [0, 22], u'expanded_url': u'http://www.LongIslandExchange.com', u'display_url': u'LongIslandExchange.com'}]}, u'description': {u'urls': [{u'url': u'https://t.co/hqMiSbmDOW', u'indices': [69, 92], u'expanded_url': u'http://www.LongIslandExchange.com', u'display_url': u'LongIslandExchange.com'}]}}, u'followers_count': 21295, u'profile_sidebar_border_color': u'FFFFFF', u'id_str': u'16195663', u'profile_background_color': u'CCCCCC', u'listed_count': 185, u'is_translation_enabled': False, u'utc_offset': -18000, u'statuses_count': 30006, u'description': u'Long Island Exchange\\u2122  The Guide to Everything That Is Long Island.\\u2122 https://t.co/hqMiSbmDOW Online Newspaper. Official Twitter Page.', u'friends_count': 2892, u'location': u'Long Island New York', u'profile_link_color': u'0000FF', u'profile_image_url': u'http://pbs.twimg.com/profile_images/347767221/mic_flag_white_normal.gif', u'following': None, u'geo_enabled': False, u'profile_banner_url': u'https://pbs.twimg.com/profile_banners/16195663/1399679817', u'profile_background_image_url': u'http://pbs.twimg.com/profile_background_images/464919491541868544/qgsArfGV.png', u'screen_name': u'Long_Island', u'lang': u'en', u'profile_background_tile': True, u'favourites_count': 26, u'name': u'Long Island Exchange', u'notifications': None, u'url': u'http://t.co/pjCeqh92ga', u'created_at': u'Tue Sep 09 01:29:32 +0000 2008', u'contributors_enabled': False, u'time_zone': u'Quito', u'protected': False, u'default_profile': False, u'is_translator': False}, time_zone=u'Quito', id=16195663, _api=<tweepy.api.API object at 0x7fafa6d47f50>, verified=False, profile_text_color=u'000000', profile_image_url_https=u'https://pbs.twimg.com/profile_images/347767221/mic_flag_white_normal.gif', profile_sidebar_fill_color=u'E0FF92', is_translator=False, geo_enabled=False, entities={u'url': {u'urls': [{u'url': u'http://t.co/pjCeqh92ga', u'indices': [0, 22], u'expanded_url': u'http://www.LongIslandExchange.com', u'display_url': u'LongIslandExchange.com'}]}, u'description': {u'urls': [{u'url': u'https://t.co/hqMiSbmDOW', u'indices': [69, 92], u'expanded_url': u'http://www.LongIslandExchange.com', u'display_url': u'LongIslandExchange.com'}]}}, followers_count=21295, protected=False, id_str=u'16195663', default_profile_image=False, listed_count=185, lang=u'en', utc_offset=-18000, statuses_count=30006, description=u'Long Island Exchange\\u2122  The Guide to Everything That Is Long Island.\\u2122 https://t.co/hqMiSbmDOW Online Newspaper. Official Twitter Page.', friends_count=2892, profile_link_color=u'0000FF', profile_image_url=u'http://pbs.twimg.com/profile_images/347767221/mic_flag_white_normal.gif', notifications=None, profile_background_image_url_https=u'https://pbs.twimg.com/profile_background_images/464919491541868544/qgsArfGV.png', profile_background_color=u'CCCCCC', profile_banner_url=u'https://pbs.twimg.com/profile_banners/16195663/1399679817', profile_background_image_url=u'http://pbs.twimg.com/profile_background_images/464919491541868544/qgsArfGV.png', name=u'Long Island Exchange', is_translation_enabled=False, profile_background_tile=True, favourites_count=26, screen_name=u'Long_Island', url=u'http://t.co/pjCeqh92ga', created_at=datetime.datetime(2008, 9, 9, 1, 29, 32), contributors_enabled=False, location=u'Long Island New York', profile_sidebar_border_color=u'FFFFFF', default_profile=False, following=False), geo=None, in_reply_to_user_id_str=None, possibly_sensitive=False, lang=u'en', created_at=datetime.datetime(2016, 1, 20, 18, 43, 5), in_reply_to_status_id_str=None, place=None, source=u'Twitter Web Client', retweeted=False, metadata={u'iso_language_code': u'en', u'result_type': u'recent'})]\n"
     ]
    }
   ],
   "source": [
    "count = 0\n",
    "\n",
    "query = '%23robbery'\n",
    "max_tweets = 5\n",
    "\n",
    "searched_tweets = [status for status in tweepy.Cursor(api.search, q=query).items(max_tweets)]\n",
    "searched_tweets = []\n",
    "last_id = -1\n",
    "while len(searched_tweets) < max_tweets:\n",
    "    count = max_tweets - len(searched_tweets)\n",
    "    try:\n",
    "        new_tweets = api.search(q=query, count=count, max_id=str(last_id - 1))\n",
    "        if not new_tweets:\n",
    "            break\n",
    "        searched_tweets.extend(new_tweets)\n",
    "        last_id = new_tweets[-1].id\n",
    "    except tweepy.TweepError as e:\n",
    "        # depending on TweepError.code, one may want to retry or wait\n",
    "        # to keep things simple, we will give up on an error\n",
    "        break\n",
    "print searched_tweets\n",
    "\n",
    "\n"
   ]
  },
  {
   "cell_type": "code",
   "execution_count": 6,
   "metadata": {
    "collapsed": true
   },
   "outputs": [],
   "source": [
    "connection = psycopg2.connect(\"dbname=crime user=postgres password=po$t host=localhost\")\n",
    "cursor = connection.cursor()"
   ]
  },
  {
   "cell_type": "code",
   "execution_count": 7,
   "metadata": {
    "collapsed": true
   },
   "outputs": [],
   "source": [
    "#always use this step to begin clean\n",
    "def reset_cursor():\n",
    "    cursor = connection.cursor()"
   ]
  },
  {
   "cell_type": "code",
   "execution_count": 8,
   "metadata": {
    "collapsed": false
   },
   "outputs": [],
   "source": [
    "class StreamWatcherListener(tweepy.StreamListener):\n",
    "    def on_data(self, data):\n",
    "        try:\n",
    "            print 'before cursor' + data\n",
    "            connection = psycopg2.connect(\"dbname=crime user=postgres password=po$t host=localhost\")\n",
    "            cur = connection.cursor()\n",
    "            print 'status is: ' + str(connection.status)\n",
    "            #cur.execute(\"INSERT INTO tweet_list VALUES (%s)\" % (data.text))\n",
    "            cur.executemany(\"\"\"INSERT INTO tweets(tweet) VALUES (%(text)s)\"\"\", data);\n",
    "            connection.commit()\n",
    "            print '---------'\n",
    "            print type(data)\n",
    "            #print data\n",
    "        except Exception as e:\n",
    "            connection.rollback()\n",
    "            reset_cursor()\n",
    "            print \"not saving\"\n",
    "            return \n",
    "        if cursor.lastrowid == None:\n",
    "            print \"Unable to save\"\n",
    "\n",
    "    def on_error(self, status_code):\n",
    "        print 'Error code = %s' % status_code\n",
    "        return True\n",
    "\n",
    "    def on_timeout(self):\n",
    "        print 'timed out.....'"
   ]
  },
  {
   "cell_type": "code",
   "execution_count": 9,
   "metadata": {
    "collapsed": false
   },
   "outputs": [
    {
     "name": "stdout",
     "output_type": "stream",
     "text": [
      "about to stream\n",
      "<tweepy.streaming.Stream object at 0x7fafa6a81210>\n"
     ]
    }
   ],
   "source": [
    "        \n",
    "l = StreamWatcherListener()\n",
    "print 'about to stream'\n",
    "stream = tweepy.Stream(auth = auth, listener = l)\n",
    "print stream\n",
    "\n",
    "\n",
    "#print tweet.created_at, tweet.text, tweet.user.location ,tweet.retweet_count"
   ]
  },
  {
   "cell_type": "code",
   "execution_count": 14,
   "metadata": {
    "collapsed": false
   },
   "outputs": [
    {
     "name": "stdout",
     "output_type": "stream",
     "text": [
      "2016-01-20 20:47:13 #Longmont man arrested on suspicion of #robbery after domestic incident: A Longmont man… https://t.co/4n5TReuK5M Bandung 0\n"
     ]
    },
    {
     "ename": "NameError",
     "evalue": "name 'csvWriter' is not defined",
     "output_type": "error",
     "traceback": [
      "\u001b[1;31m---------------------------------------------------------------------------\u001b[0m",
      "\u001b[1;31mNameError\u001b[0m                                 Traceback (most recent call last)",
      "\u001b[1;32m<ipython-input-14-e1a9a0dfcdb3>\u001b[0m in \u001b[0;36m<module>\u001b[1;34m()\u001b[0m\n\u001b[0;32m      4\u001b[0m     \u001b[1;31m#print tweet.created_at, tweet.text, tweet.user.location\u001b[0m\u001b[1;33m\u001b[0m\u001b[1;33m\u001b[0m\u001b[0m\n\u001b[0;32m      5\u001b[0m     \u001b[1;32mprint\u001b[0m \u001b[0mtweet\u001b[0m\u001b[1;33m.\u001b[0m\u001b[0mcreated_at\u001b[0m\u001b[1;33m,\u001b[0m \u001b[0mtweet\u001b[0m\u001b[1;33m.\u001b[0m\u001b[0mtext\u001b[0m\u001b[1;33m,\u001b[0m \u001b[0mtweet\u001b[0m\u001b[1;33m.\u001b[0m\u001b[0muser\u001b[0m\u001b[1;33m.\u001b[0m\u001b[0mlocation\u001b[0m\u001b[1;33m,\u001b[0m \u001b[0mtweet\u001b[0m\u001b[1;33m.\u001b[0m\u001b[0mretweet_count\u001b[0m\u001b[1;33m\u001b[0m\u001b[0m\n\u001b[1;32m----> 6\u001b[1;33m     \u001b[0mcsvWriter\u001b[0m\u001b[1;33m.\u001b[0m\u001b[0mwriterow\u001b[0m\u001b[1;33m(\u001b[0m\u001b[1;33m[\u001b[0m\u001b[0mtweet\u001b[0m\u001b[1;33m.\u001b[0m\u001b[0mcreated_at\u001b[0m\u001b[1;33m,\u001b[0m \u001b[0mtweet\u001b[0m\u001b[1;33m.\u001b[0m\u001b[0mtext\u001b[0m\u001b[1;33m.\u001b[0m\u001b[0mencode\u001b[0m\u001b[1;33m(\u001b[0m\u001b[1;34m'utf-8'\u001b[0m\u001b[1;33m)\u001b[0m\u001b[1;33m,\u001b[0m\u001b[0mtweet\u001b[0m\u001b[1;33m.\u001b[0m\u001b[0muser\u001b[0m\u001b[1;33m.\u001b[0m\u001b[0mlocation\u001b[0m\u001b[1;33m]\u001b[0m\u001b[1;33m)\u001b[0m\u001b[1;33m\u001b[0m\u001b[0m\n\u001b[0m\u001b[0;32m      7\u001b[0m \u001b[1;33m\u001b[0m\u001b[0m\n\u001b[0;32m      8\u001b[0m \u001b[1;31m#print results\u001b[0m\u001b[1;33m\u001b[0m\u001b[1;33m\u001b[0m\u001b[0m\n",
      "\u001b[1;31mNameError\u001b[0m: name 'csvWriter' is not defined"
     ]
    }
   ],
   "source": [
    "query = '%23robbery'\n",
    "max_tweets = 5\n",
    "for tweet in tweepy.Cursor(api.search,q=query, lang=\"en\").items(max_tweets):\n",
    "    #print tweet.created_at, tweet.text, tweet.user.location\n",
    "    print tweet.created_at, tweet.text, tweet.user.location, tweet.retweet_count\n",
    "    csvWriter.writerow([tweet.created_at, tweet.text.encode('utf-8'),tweet.user.location])\n",
    "\n",
    "#print results   \n",
    "#print count"
   ]
  },
  {
   "cell_type": "code",
   "execution_count": 9,
   "metadata": {
    "collapsed": true
   },
   "outputs": [],
   "source": []
  },
  {
   "cell_type": "code",
   "execution_count": 10,
   "metadata": {
    "collapsed": true
   },
   "outputs": [],
   "source": []
  },
  {
   "cell_type": "code",
   "execution_count": 11,
   "metadata": {
    "collapsed": false
   },
   "outputs": [
    {
     "name": "stdout",
     "output_type": "stream",
     "text": [
      "about to stream\n",
      "<tweepy.streaming.Stream object at 0x7f0625a2d750>\n",
      "2016-01-20 02:42:32 RT @abc7eileen: WANTED:\"Jose Almaraz--auto theft and robbery suspect.  Do not approach. Call 911 if you see him @AnaheimPD #robbery https:/…  21\n"
     ]
    }
   ],
   "source": []
  },
  {
   "cell_type": "code",
   "execution_count": 10,
   "metadata": {
    "collapsed": false
   },
   "outputs": [
    {
     "name": "stdout",
     "output_type": "stream",
     "text": [
      "connected\n"
     ]
    }
   ],
   "source": [
    "try:\n",
    "    conn = psycopg2.connect(\"dbname=crime user=postgres password=po$t host=localhost\")\n",
    "    print \"connected\"\n",
    "except:\n",
    "    print \"unable to connect\""
   ]
  },
  {
   "cell_type": "code",
   "execution_count": null,
   "metadata": {
    "collapsed": false
   },
   "outputs": [],
   "source": [
    "import psycopg2\n",
    "import time\n",
    "import json\n",
    "from getpass import getpass\n",
    "import tweepy\n",
    "\n",
    "  \n",
    "#always use this step to begin clean\n",
    "def reset_cursor():\n",
    "    cursor = connection.cursor()\n",
    "\n",
    "class StreamWatcherListener(tweepy.StreamListener):\n",
    "    def on_data(self, data):\n",
    "        try:\n",
    "            print 'before cursor' + data\n",
    "            connection = psycopg2.connect(\"dbname=teststreamtweets user=postgres password=x host=localhost\")\n",
    "            cur = connection.cursor()\n",
    "            print 'status is: ' + str(connection.status)\n",
    "            #cur.execute(\"INSERT INTO tweet_list VALUES (%s)\" % (data.text))\n",
    "            cur.executemany(\"\"\"INSERT INTO tweets(tweet) VALUES (%(text)s)\"\"\", data);\n",
    "            connection.commit()\n",
    "            print '---------'\n",
    "            print type(data)\n",
    "            #print data\n",
    "        except Exception as e:\n",
    "            connection.rollback()\n",
    "            reset_cursor()\n",
    "            print \"not saving\"\n",
    "            return \n",
    "        if cursor.lastrowid == None:\n",
    "            print \"Unable to save\"\n",
    "\n",
    "    def on_error(self, status_code):\n",
    "        print 'Error code = %s' % status_code\n",
    "        return True\n",
    "\n",
    "    def on_timeout(self):\n",
    "        print 'timed out.....'\n",
    "\n",
    "print 'welcome'\n",
    "#auth1 = tweepy.OAuthHandler(consumer_key, consumer_secret)\n",
    "auth.set_access_token(access_key, access_secret)\n",
    "api = tweepy.API(auth)\n",
    "\n",
    "l = StreamWatcherListener()\n",
    "print 'about to stream'\n",
    "stream = tweepy.Stream(auth = auth1, listener = l)\n",
    "\n",
    " \n",
    "\n",
    "\n",
    "#Perform a basic search query where we search for the '#theft' in the tweets\n",
    "#result = api.search(q='%23robbery') #%23 is used to specify '#'\n",
    "\n",
    "\n",
    "# Print the number of items returned by the search query to verify our query ran. \n",
    "# Its 15 by default\n",
    "#len(result)"
   ]
  },
  {
   "cell_type": "code",
   "execution_count": null,
   "metadata": {
    "collapsed": false
   },
   "outputs": [],
   "source": []
  },
  {
   "cell_type": "code",
   "execution_count": null,
   "metadata": {
    "collapsed": false
   },
   "outputs": [],
   "source": [
    "\n",
    "\n",
    "# Verify the number of items returned\n",
    "print len(results)\n",
    "print results"
   ]
  },
  {
   "cell_type": "code",
   "execution_count": 12,
   "metadata": {
    "collapsed": false
   },
   "outputs": [
    {
     "ename": "NameError",
     "evalue": "name 'results' is not defined",
     "output_type": "error",
     "traceback": [
      "\u001b[1;31m---------------------------------------------------------------------------\u001b[0m",
      "\u001b[1;31mNameError\u001b[0m                                 Traceback (most recent call last)",
      "\u001b[1;32m<ipython-input-12-c65af402e05c>\u001b[0m in \u001b[0;36m<module>\u001b[1;34m()\u001b[0m\n\u001b[0;32m     26\u001b[0m \u001b[1;33m\u001b[0m\u001b[0m\n\u001b[0;32m     27\u001b[0m \u001b[1;31m#Pass the tweets list to the above function to create a DataFrame\u001b[0m\u001b[1;33m\u001b[0m\u001b[1;33m\u001b[0m\u001b[0m\n\u001b[1;32m---> 28\u001b[1;33m \u001b[0mDataSet\u001b[0m \u001b[1;33m=\u001b[0m \u001b[0mtoDataFrame\u001b[0m\u001b[1;33m(\u001b[0m\u001b[0mresults\u001b[0m\u001b[1;33m)\u001b[0m\u001b[1;33m\u001b[0m\u001b[0m\n\u001b[0m",
      "\u001b[1;31mNameError\u001b[0m: name 'results' is not defined"
     ]
    }
   ],
   "source": [
    "# Create a function to convert a given list of tweets into a Pandas DataFrame.\n",
    "# The DataFrame will consist of only the values, which I think might be useful for \n",
    "# analysis...\n",
    "\n",
    "def toDataFrame(tweets):\n",
    "\n",
    "    DataSet = pd.DataFrame()\n",
    "\n",
    "    DataSet['tweetID'] = [tweet.id for tweet in tweets]\n",
    "    DataSet['tweetText'] = [tweet.text for tweet in tweets]\n",
    "    DataSet['tweetRetweetCt'] = [tweet.retweet_count for tweet in tweets]\n",
    "    DataSet['tweetFavoriteCt'] = [tweet.favorite_count for tweet in tweets]\n",
    "    DataSet['tweetSource'] = [tweet.source for tweet in tweets]\n",
    "    DataSet['tweetCreated'] = [tweet.created_at for tweet in tweets]\n",
    "    DataSet['userID'] = [tweet.user.id for tweet in tweets]\n",
    "    DataSet['userScreen'] = [tweet.user.screen_name for tweet in tweets]\n",
    "    DataSet['userName'] = [tweet.user.name for tweet in tweets]\n",
    "    DataSet['userCreateDt'] = [tweet.user.created_at for tweet in tweets]\n",
    "    DataSet['userDesc'] = [tweet.user.description for tweet in tweets]\n",
    "    DataSet['userFollowerCt'] = [tweet.user.followers_count for tweet in tweets]\n",
    "    DataSet['userFriendsCt'] = [tweet.user.friends_count for tweet in tweets]\n",
    "    DataSet['userLocation'] = [tweet.user.location for tweet in tweets]\n",
    "    DataSet['userTimezone'] = [tweet.user.time_zone for tweet in tweets]\n",
    "\n",
    "    return DataSet\n",
    "\n",
    "#Pass the tweets list to the above function to create a DataFrame\n",
    "DataSet = toDataFrame(results)"
   ]
  },
  {
   "cell_type": "code",
   "execution_count": null,
   "metadata": {
    "collapsed": false
   },
   "outputs": [],
   "source": [
    "# Let's check the top 5 records in the Data Set\n",
    "DataSet.head(5)    \n"
   ]
  },
  {
   "cell_type": "code",
   "execution_count": null,
   "metadata": {
    "collapsed": false
   },
   "outputs": [],
   "source": [
    "# Let's check the top 5 records in the Data Set\n",
    "DataSet.head(5)"
   ]
  },
  {
   "cell_type": "code",
   "execution_count": null,
   "metadata": {
    "collapsed": false
   },
   "outputs": [],
   "source": [
    "# 'None' is treated as null here, so I'll remove all the records having 'None' in their 'userTimezone' column\n",
    "DataSet = DataSet[DataSet.userTimezone.notnull()]\n",
    "\n",
    "# Let's also check how many records are we left with now\n",
    "len(DataSet)\n"
   ]
  },
  {
   "cell_type": "code",
   "execution_count": null,
   "metadata": {
    "collapsed": false
   },
   "outputs": [],
   "source": [
    "# Count the number of tweets in each time zone and get the first 10\n",
    "tzs = DataSet['userTimezone'].value_counts()[:10]\n",
    "print tzs"
   ]
  },
  {
   "cell_type": "code",
   "execution_count": null,
   "metadata": {
    "collapsed": false
   },
   "outputs": [],
   "source": [
    "# Create a bar-graph figure of the specified size\n",
    "plt.rcParams['figure.figsize'] = (15, 5)\n",
    "\n",
    "# Plot the Time Zone data as a bar-graph\n",
    "tzs.plot(kind='bar')\n",
    "\n",
    "\n",
    "# Assign labels and title to the graph to make it more presentable\n",
    "plt.xlabel('Timezones')\n",
    "plt.ylabel('Tweet Count')\n",
    "plt.title('Top 10 Timezones tweeting about #Oscars2015')\n"
   ]
  },
  {
   "cell_type": "code",
   "execution_count": null,
   "metadata": {
    "collapsed": false
   },
   "outputs": [],
   "source": [
    "import vincent\n",
    "world_countries = r'world-countries.json'\n",
    "world = vincent.Map(width=120, height=1000)\n",
    "world.geo_data(projection='winkel3', scale=200, world=world_countries)\n",
    "world.to_json('/home/martin/Dropbox/a_Insight/Project/world.jpg')\n",
    "\n",
    "vis = vincent.Map(width=1000, height=800)\n",
    "#Add the US county data and a new line color\n",
    "vis.geo_data(projection='albersUsa', scale=1000, counties=county_geo)\n",
    "vis + ('2B4ECF', 'marks', 0, 'properties', 'enter', 'stroke', 'value')\n",
    "\n",
    "#Add the state data, remove the fill, write Vega spec output to JSON\n",
    "vis.geo_data(states=state_geo)\n",
    "vis - ('fill', 'marks', 1, 'properties', 'enter')\n",
    "vis.to_json(path)"
   ]
  },
  {
   "cell_type": "code",
   "execution_count": null,
   "metadata": {
    "collapsed": true
   },
   "outputs": [],
   "source": []
  }
 ],
 "metadata": {
  "kernelspec": {
   "display_name": "Python 2",
   "language": "python",
   "name": "python2"
  },
  "language_info": {
   "codemirror_mode": {
    "name": "ipython",
    "version": 2
   },
   "file_extension": ".py",
   "mimetype": "text/x-python",
   "name": "python",
   "nbconvert_exporter": "python",
   "pygments_lexer": "ipython2",
   "version": "2.7.11"
  }
 },
 "nbformat": 4,
 "nbformat_minor": 0
}
