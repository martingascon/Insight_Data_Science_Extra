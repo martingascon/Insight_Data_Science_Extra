{
 "cells": [
  {
   "cell_type": "code",
   "execution_count": 2,
   "metadata": {
    "collapsed": false
   },
   "outputs": [
    {
     "name": "stdout",
     "output_type": "stream",
     "text": [
      "[]\n"
     ]
    }
   ],
   "source": [
    "#Convert date to index\n",
    "# Martin Gascon, IDS\n",
    "\n",
    "'''\n",
    "This script download GDELT files into local directory\n",
    "and extracts Relevant GDELT Rows to Intermediate Files\n",
    "\n",
    "# Procedure \n",
    "1. Check and see if the files are available locally \n",
    "so we don't have to to continually ping the gdelt server.\n",
    "2. Unzip the compressed raw GDELT file into the tmp directory\n",
    "\n",
    "'''\n",
    "import requests\n",
    "import lxml.html as lh\n",
    "import os.path\n",
    "import urllib\n",
    "import zipfile\n",
    "import glob\n",
    "import operator\n",
    "from os import listdir\n",
    "from os.path import isfile, join\n",
    "\n",
    "# Here we can find the data\n",
    "gdelt_base_url = 'http://data.gdeltproject.org/gkg/'\n",
    "#http://data.gdeltproject.org/gkg/index.html\n",
    "\n",
    "# Get the list of all the links on the gdelt file page\n",
    "page = requests.get(gdelt_base_url+'index.html')\n",
    "doc = lh.fromstring(page.content)\n",
    "link_list = doc.xpath(\"//*/ul/li/a/@href\")\n",
    "#print link_list\n",
    "\n",
    "## All the zip files\n",
    "local_path = '/Users/martin/Desktop/GDELT_Data/'\n",
    "\n",
    "\n",
    "onlyfiles = [f for f in listdir(local_path) if isfile(join(local_path, f))]\n",
    "#print onlyfiles\n",
    "\n",
    "# separate out those links that begin with four digits \n",
    "file_list = [x for x in link_list if str.isdigit(x[0:4]) and 'counts' in x and x not in onlyfiles]\n",
    "print(file_list)\n",
    "\n",
    "## We reset the infilecounter and outfilecounter external to the main algorithm cell \n",
    "# so that if the algorithm encounters an error, and quits, we can pick up where we left off.\n",
    "infilecounter = 0\n",
    "outfilecounter = 0\n",
    "\n",
    "for compressed_file in file_list[infilecounter:]:\n",
    "    print compressed_file,\n",
    "    \n",
    "    # if we dont have the compressed file stored locally, go get it. Keep trying if necessary.\n",
    "    while not os.path.isfile(local_path+compressed_file): \n",
    "        print 'downloading,',\n",
    "        urllib.urlretrieve(url=gdelt_base_url+compressed_file, \n",
    "                           filename=local_path+compressed_file)\n",
    "        \n",
    "    # extract the contents of the compressed file to a temporary directory    \n",
    "    print 'extracting,',\n",
    "    z = zipfile.ZipFile(file=local_path+compressed_file, mode='r')    \n",
    "    z.extractall(path=local_path+'tmp/')\n",
    "\n",
    "    infilecounter +=1\n",
    "    print 'done'\n",
    "\n"
   ]
  },
  {
   "cell_type": "code",
   "execution_count": null,
   "metadata": {
    "collapsed": true
   },
   "outputs": [],
   "source": []
  }
 ],
 "metadata": {
  "kernelspec": {
   "display_name": "Python 2",
   "language": "python",
   "name": "python2"
  },
  "language_info": {
   "codemirror_mode": {
    "name": "ipython",
    "version": 2
   },
   "file_extension": ".py",
   "mimetype": "text/x-python",
   "name": "python",
   "nbconvert_exporter": "python",
   "pygments_lexer": "ipython2",
   "version": "2.7.11"
  }
 },
 "nbformat": 4,
 "nbformat_minor": 0
}
