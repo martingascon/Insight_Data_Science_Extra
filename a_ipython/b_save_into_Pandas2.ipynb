{
 "cells": [
  {
   "cell_type": "code",
   "execution_count": 2,
   "metadata": {
    "collapsed": true
   },
   "outputs": [],
   "source": [
    "import glob\n",
    "import pandas as pd\n",
    "import csv\n",
    "import sys\n",
    "import matplotlib.image as mpimg"
   ]
  },
  {
   "cell_type": "code",
   "execution_count": 3,
   "metadata": {
    "collapsed": true
   },
   "outputs": [],
   "source": [
    "maxInt = sys.maxsize\n",
    "decrement = True\n",
    "\n",
    "while decrement:\n",
    "    # decrease the maxInt value by factor 10 \n",
    "    # as long as the OverflowError occurs.\n",
    "    decrement = False\n",
    "    try:\n",
    "        csv.field_size_limit(maxInt)\n",
    "    except OverflowError:\n",
    "        maxInt = int(maxInt/10)\n",
    "        decrement = True"
   ]
  },
  {
   "cell_type": "code",
   "execution_count": 63,
   "metadata": {
    "collapsed": false
   },
   "outputs": [
    {
     "name": "stdout",
     "output_type": "stream",
     "text": [
      "['DATE', 'NUMARTS', 'COUNTTYPE', 'NUMBER', 'OBJECTTYPE', 'GEO_TYPE', 'GEO_FULLNAME', 'GEO_COUNTRYCODE', 'GEO_ADM1CODE', 'GEO_LAT', 'GEO_LONG', 'GEO_FEATUREID', 'CAMEOEVENTIDS', 'SOURCES', 'SOURCEURLS']\n"
     ]
    }
   ],
   "source": [
    "local_path = '/Users/martin/Desktop/GDELT_Data/'\n",
    "\n",
    "# Find the header, for that let's take one file and read the header\n",
    "\n",
    "f = open(local_path + \"tmp/20160123.gkgcounts.csv\")\n",
    "headers = f.readline().rstrip('\\n')\n",
    "columns = headers.split(\"\\t\")\n",
    "print columns\n"
   ]
  },
  {
   "cell_type": "code",
   "execution_count": 64,
   "metadata": {
    "collapsed": false
   },
   "outputs": [
    {
     "name": "stdout",
     "output_type": "stream",
     "text": [
      "['/Users/martin/Desktop/GDELT_Data/tmp/20160123.gkgcounts.csv']\n"
     ]
    }
   ],
   "source": [
    "# Build DataFrames from each of the intermediary files\n",
    "files = glob.glob(local_path+'tmp/'+'*')\n",
    "DFlist = []\n",
    "print files"
   ]
  },
  {
   "cell_type": "code",
   "execution_count": 118,
   "metadata": {
    "collapsed": false
   },
   "outputs": [
    {
     "name": "stdout",
     "output_type": "stream",
     "text": [
      " reading csv files into dataframes\n"
     ]
    }
   ],
   "source": [
    "# Move csv into pandas\n",
    "\n",
    "#headers= ['DATE', 'NUMARTS', 'COUNTTYPE', 'NUMBER', 'OBJECTTYPE', 'GEO_TYPE', 'GEO_FULLNAME', 'GEO_COUNTRYCODE', 'GEO_ADM1CODE', 'GEO_LAT', 'GEO_LONG', 'GEO_FEATUREID', 'CAMEOEVENTIDS', 'SOURCES', 'SOURCEURLS']\n",
    "\n",
    "print \"reading csv files into dataframes\"\n",
    "for active_file in files:\n",
    "    DFlist.append(pd.read_csv(active_file, sep='\\t', header=1, dtype=str, names=columns)) \n",
    " \n",
    "\n",
    "DF = pd.concat(DFlist)\n",
    "nrows = len(DF)"
   ]
  },
  {
   "cell_type": "code",
   "execution_count": 119,
   "metadata": {
    "collapsed": false
   },
   "outputs": [],
   "source": [
    "# Convert the types into integers and date\n",
    "DF.DATE = pd.to_datetime(DF.DATE) \n",
    "DF[['NUMARTS','NUMBER','GEO_TYPE']] = DF[['NUMARTS','NUMBER','GEO_TYPE']].astype(int)\n",
    "#DF.dtypes\n",
    "# DF.head(5) \n"
   ]
  },
  {
   "cell_type": "code",
   "execution_count": 125,
   "metadata": {
    "collapsed": false
   },
   "outputs": [
    {
     "name": "stdout",
     "output_type": "stream",
     "text": [
      "Selected rows 1023  from  78888  rows ( 0.013 %)\n"
     ]
    },
    {
     "data": {
      "text/html": [
       "<div>\n",
       "<table border=\"1\" class=\"dataframe\">\n",
       "  <thead>\n",
       "    <tr style=\"text-align: right;\">\n",
       "      <th></th>\n",
       "      <th>DATE</th>\n",
       "      <th>NUMARTS</th>\n",
       "      <th>COUNTTYPE</th>\n",
       "      <th>NUMBER</th>\n",
       "      <th>OBJECTTYPE</th>\n",
       "      <th>GEO_TYPE</th>\n",
       "      <th>GEO_FULLNAME</th>\n",
       "      <th>GEO_COUNTRYCODE</th>\n",
       "      <th>GEO_ADM1CODE</th>\n",
       "      <th>GEO_LAT</th>\n",
       "      <th>GEO_LONG</th>\n",
       "      <th>GEO_FEATUREID</th>\n",
       "      <th>CAMEOEVENTIDS</th>\n",
       "      <th>SOURCES</th>\n",
       "      <th>SOURCEURLS</th>\n",
       "    </tr>\n",
       "  </thead>\n",
       "  <tbody>\n",
       "    <tr>\n",
       "      <th>85</th>\n",
       "      <td>2016-01-23</td>\n",
       "      <td>17</td>\n",
       "      <td>KILL</td>\n",
       "      <td>800</td>\n",
       "      <td>NaN</td>\n",
       "      <td>1</td>\n",
       "      <td>Yemen</td>\n",
       "      <td>YM</td>\n",
       "      <td>YM</td>\n",
       "      <td>15</td>\n",
       "      <td>48</td>\n",
       "      <td>YM</td>\n",
       "      <td>504849667,504850526,504850527,504850528,504850...</td>\n",
       "      <td>thegardenisland.com;newser.com;dailycapital.pk...</td>\n",
       "      <td>http://thegardenisland.com/news/world/dozens-k...</td>\n",
       "    </tr>\n",
       "    <tr>\n",
       "      <th>172</th>\n",
       "      <td>2016-01-23</td>\n",
       "      <td>24</td>\n",
       "      <td>KILL</td>\n",
       "      <td>22</td>\n",
       "      <td>NaN</td>\n",
       "      <td>4</td>\n",
       "      <td>Sanaa, Sana', Yemen</td>\n",
       "      <td>YM</td>\n",
       "      <td>YM16</td>\n",
       "      <td>15.3547</td>\n",
       "      <td>44.2067</td>\n",
       "      <td>-3191442</td>\n",
       "      <td>504849667,504849764,504849765,504849907,504850...</td>\n",
       "      <td>federalnewsradio.com;walb.com;mariettatimes.co...</td>\n",
       "      <td>http://federalnewsradio.com/world-news/2016/01...</td>\n",
       "    </tr>\n",
       "    <tr>\n",
       "      <th>187</th>\n",
       "      <td>2016-01-23</td>\n",
       "      <td>11</td>\n",
       "      <td>KILL</td>\n",
       "      <td>11</td>\n",
       "      <td>NaN</td>\n",
       "      <td>2</td>\n",
       "      <td>West Virginia, United States</td>\n",
       "      <td>US</td>\n",
       "      <td>USWV</td>\n",
       "      <td>38.468</td>\n",
       "      <td>-80.9696</td>\n",
       "      <td>wv</td>\n",
       "      <td>404775919,404773756,404775919,404773756,404775...</td>\n",
       "      <td>eaglefordtexas.com;eaglefordtexas.com;eaglefor...</td>\n",
       "      <td>http://eaglefordtexas.com/news/id/163375/kentu...</td>\n",
       "    </tr>\n",
       "    <tr>\n",
       "      <th>286</th>\n",
       "      <td>2016-01-23</td>\n",
       "      <td>111</td>\n",
       "      <td>KILL</td>\n",
       "      <td>800</td>\n",
       "      <td>NaN</td>\n",
       "      <td>1</td>\n",
       "      <td>Saudi Arabia</td>\n",
       "      <td>SA</td>\n",
       "      <td>SA</td>\n",
       "      <td>25</td>\n",
       "      <td>45</td>\n",
       "      <td>SA</td>\n",
       "      <td>504849667,504849764,504849765,504849907,504850...</td>\n",
       "      <td>federalnewsradio.com;walb.com;mariettatimes.co...</td>\n",
       "      <td>http://federalnewsradio.com/world-news/2016/01...</td>\n",
       "    </tr>\n",
       "  </tbody>\n",
       "</table>\n",
       "</div>"
      ],
      "text/plain": [
       "          DATE  NUMARTS COUNTTYPE  NUMBER OBJECTTYPE  GEO_TYPE  \\\n",
       "85  2016-01-23       17      KILL     800        NaN         1   \n",
       "172 2016-01-23       24      KILL      22        NaN         4   \n",
       "187 2016-01-23       11      KILL      11        NaN         2   \n",
       "286 2016-01-23      111      KILL     800        NaN         1   \n",
       "\n",
       "                     GEO_FULLNAME GEO_COUNTRYCODE GEO_ADM1CODE  GEO_LAT  \\\n",
       "85                          Yemen              YM           YM       15   \n",
       "172          Sanaa, Sana', Yemen              YM         YM16  15.3547   \n",
       "187  West Virginia, United States              US         USWV   38.468   \n",
       "286                  Saudi Arabia              SA           SA       25   \n",
       "\n",
       "     GEO_LONG GEO_FEATUREID  \\\n",
       "85         48            YM   \n",
       "172   44.2067      -3191442   \n",
       "187  -80.9696            wv   \n",
       "286        45            SA   \n",
       "\n",
       "                                         CAMEOEVENTIDS  \\\n",
       "85   504849667,504850526,504850527,504850528,504850...   \n",
       "172  504849667,504849764,504849765,504849907,504850...   \n",
       "187  404775919,404773756,404775919,404773756,404775...   \n",
       "286  504849667,504849764,504849765,504849907,504850...   \n",
       "\n",
       "                                               SOURCES  \\\n",
       "85   thegardenisland.com;newser.com;dailycapital.pk...   \n",
       "172  federalnewsradio.com;walb.com;mariettatimes.co...   \n",
       "187  eaglefordtexas.com;eaglefordtexas.com;eaglefor...   \n",
       "286  federalnewsradio.com;walb.com;mariettatimes.co...   \n",
       "\n",
       "                                            SOURCEURLS  \n",
       "85   http://thegardenisland.com/news/world/dozens-k...  \n",
       "172  http://federalnewsradio.com/world-news/2016/01...  \n",
       "187  http://eaglefordtexas.com/news/id/163375/kentu...  \n",
       "286  http://federalnewsradio.com/world-news/2016/01...  "
      ]
     },
     "execution_count": 125,
     "metadata": {},
     "output_type": "execute_result"
    }
   ],
   "source": [
    "# Select those fulfilling some conditions\n",
    "\n",
    "DF = (DF[(DF.NUMARTS>10) & (DF.COUNTTYPE=='KILL') & (DF.GEO_TYPE>0)]) \n",
    "print \"Selected rows\",len(DF),\" from \" ,nrows,\" rows (\",round(len(DF)/float(nrows),4),\"%)\"\n",
    "\n",
    "DF.head(4)\n"
   ]
  },
  {
   "cell_type": "code",
   "execution_count": 115,
   "metadata": {
    "collapsed": false
   },
   "outputs": [
    {
     "name": "stdout",
     "output_type": "stream",
     "text": [
      "((226, 15), DATE                                         [[2016-01-23 00:00:00]]\n",
      "NUMARTS            [[24, 12, 44, 78, 28, 329, 46, 45, 27, 30, 16,...\n",
      "COUNTTYPE                                                   [[KILL]]\n",
      "NUMBER             [[22, 56, 5, 9, 7, 4, 130, 2, 26, 21, 50, 10, ...\n",
      "OBJECTTYPE         [[nan, innocent villagers, security personnel,...\n",
      "GEO_TYPE                                                 [[4, 5, 3]]\n",
      "GEO_FULLNAME       [[Sanaa, Sana', Yemen, Glenorchy, Victoria, A...\n",
      "GEO_COUNTRYCODE    [[YM, AS, RP, US, IN, CA, FR, TW, PK, BR, TH, ...\n",
      "GEO_ADM1CODE       [[YM16, AS07, RP56, USMI, IN23, CA11, USCA, FR...\n",
      "GEO_LAT            [[15.3547, -36.9, 7.13333, 43.0334, 32.2833, 5...\n",
      "GEO_LONG           [[44.2067, 142.683, 124.3, -83.6833, 75.65, -1...\n",
      "GEO_FEATUREID      [[-3191442, -1575501, -2435837, 1622967, -2107...\n",
      "CAMEOEVENTIDS      [[504849667,504849764,504849765,504849907,5048...\n",
      "SOURCES            [[federalnewsradio.com;walb.com;mariettatimes....\n",
      "SOURCEURLS         [[http://federalnewsradio.com/world-news/2016/...\n",
      "dtype: object)\n"
     ]
    }
   ],
   "source": [
    "# Will see some statistics\n",
    "def rstr(df): return df.shape, df.apply(lambda x: [x.unique()])\n",
    "print(rstr(DF))"
   ]
  },
  {
   "cell_type": "code",
   "execution_count": null,
   "metadata": {
    "collapsed": true
   },
   "outputs": [],
   "source": [
    "# Once everything is safely stored away, remove the temporary files\n",
    "for active_file in files:\n",
    "    os.remove(active_file)\n",
    "    \n",
    "    "
   ]
  },
  {
   "cell_type": "code",
   "execution_count": 1,
   "metadata": {
    "collapsed": false
   },
   "outputs": [
    {
     "ename": "NameError",
     "evalue": "name 'pd' is not defined",
     "output_type": "error",
     "traceback": [
      "\u001b[0;31m---------------------------------------------------------------------------\u001b[0m",
      "\u001b[0;31mNameError\u001b[0m                                 Traceback (most recent call last)",
      "\u001b[0;32m<ipython-input-1-f304d53c2b57>\u001b[0m in \u001b[0;36m<module>\u001b[0;34m()\u001b[0m\n\u001b[1;32m      1\u001b[0m \u001b[0;31m# Get the GDELT field names from a helper file\u001b[0m\u001b[0;34m\u001b[0m\u001b[0;34m\u001b[0m\u001b[0m\n\u001b[0;32m----> 2\u001b[0;31m colnames = pd.read_excel('CSV.header.fieldids.xlsx', sheetname='Sheet1', \n\u001b[0m\u001b[1;32m      3\u001b[0m                          index_col='Column ID', parse_cols=1)['Field Name']\n\u001b[1;32m      4\u001b[0m \u001b[0;34m\u001b[0m\u001b[0m\n\u001b[1;32m      5\u001b[0m \u001b[0mlocal_path\u001b[0m \u001b[0;34m=\u001b[0m \u001b[0;34m'/Users/martin/Desktop/GDELT_Data/'\u001b[0m\u001b[0;34m\u001b[0m\u001b[0m\n",
      "\u001b[0;31mNameError\u001b[0m: name 'pd' is not defined"
     ]
    }
   ],
   "source": [
    "GMImageArray = mpimg.imread(“/path/to/image/file\")\n",
    "\n",
    "\n",
    "\n",
    "\n",
    "\n",
    "\n",
    "                            \n",
    "                            "
   ]
  },
  {
   "cell_type": "code",
   "execution_count": null,
   "metadata": {
    "collapsed": true
   },
   "outputs": [],
   "source": [
    "\n"
   ]
  }
 ],
 "metadata": {
  "kernelspec": {
   "display_name": "Python 2",
   "language": "python",
   "name": "python2"
  },
  "language_info": {
   "codemirror_mode": {
    "name": "ipython",
    "version": 2
   },
   "file_extension": ".py",
   "mimetype": "text/x-python",
   "name": "python",
   "nbconvert_exporter": "python",
   "pygments_lexer": "ipython2",
   "version": "2.7.11"
  }
 },
 "nbformat": 4,
 "nbformat_minor": 0
}
